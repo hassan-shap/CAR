{
 "cells": [
  {
   "cell_type": "code",
   "execution_count": 2,
   "metadata": {},
   "outputs": [],
   "source": [
    "import numpy as np\n",
    "from math import pi, sqrt, tanh\n",
    "from matplotlib import pyplot\n",
    "from scipy.linalg import block_diag\n",
    "from scipy.optimize import minimize\n",
    "import time\n",
    "from ipywidgets import interact"
   ]
  },
  {
   "cell_type": "code",
   "execution_count": 3,
   "metadata": {
    "scrolled": true
   },
   "outputs": [
    {
     "name": "stdout",
     "output_type": "stream",
     "text": [
      "Done!\n"
     ]
    }
   ],
   "source": [
    "hbar=1.05e-34\n",
    "elec=1.6e-19\n",
    "meV=elec*1e-3\n",
    "\n",
    "vF=1e6\n",
    "B=10 # Tesla\n",
    "hwc=vF*sqrt(2*hbar*elec*B)\n",
    "lB=np.sqrt(hbar/(elec*B))\n",
    "m_sc=3*hwc #1e2*meV\n",
    "mu_sc=8*hwc #1e2*meV\n",
    "D1=0.5*hwc #10*meV\n",
    "D2=0.6*hwc #10*meV\n",
    "nu=0.4#sqrt(2)+0.1\n",
    "mu_n=nu*hwc #10*meV\n",
    "m_n=0.*hwc\n",
    "\n",
    "lRx= 1*hwc\n",
    "lRy= 0.*hwc\n",
    "lso= 0.*hwc\n",
    "# lam=0.5*vF\n",
    "gs=0.0*hwc\n",
    "gn=0.2*hwc\n",
    "\n",
    "ky_sw=np.linspace(-1,1,100)*1.5/lB\n",
    "\n",
    "Ls=8*lB\n",
    "Lx=8*lB\n",
    "Nx=100\n",
    "kx=2*pi*np.arange(Nx)/(2*Lx+Ls)-pi*Nx/(2*Lx+Ls)\n",
    "[k1,k2]=2*pi*np.mgrid[range(Nx),range(Nx)]/(2*Lx+Ls)-pi*Nx/(2*Lx+Ls)\n",
    "\n",
    "\n",
    "def y2(k):\n",
    "    with np.errstate(divide='ignore', invalid='ignore'):\n",
    "        c= np.exp(1j*k*Ls/2)*(-2j+np.exp(1j*k*Lx)*(2j+ 2*k*Lx- 1j* k**2 * Lx**2))/ (k**3) /(2*Lx+Ls)\n",
    "        c[ ~ np.isfinite( c )] = Lx**3 /(3*(2*Lx+Ls))\n",
    "    return c\n",
    "\n",
    "def y1(k):\n",
    "    with np.errstate(divide='ignore', invalid='ignore'):\n",
    "        c = np.exp(1j*k*Ls/2)*(-1+np.exp(1j*k*Lx)*(1- 1j* k * Lx))/ (k**2) /(2*Lx+Ls)\n",
    "        c[ ~ np.isfinite( c )] = Lx**2 /(2*(2*Lx+Ls))\n",
    "    return c\n",
    "\n",
    "def y0(k):\n",
    "    with np.errstate(divide='ignore', invalid='ignore'):\n",
    "        c = -1j*np.exp(1j*k*Ls/2)*(-1+np.exp(1j*k*Lx) )/(k*(2*Lx+Ls))\n",
    "        c[ ~ np.isfinite( c )] = Lx /(2*Lx+Ls)\n",
    "    return c\n",
    "\n",
    "def y0s(k):\n",
    "    with np.errstate(divide='ignore', invalid='ignore'):\n",
    "        c = 2*np.sin(k*Ls/2)/(k*(2*Lx+Ls))\n",
    "        c[ ~ np.isfinite( c )] = Ls /(2*Lx+Ls)\n",
    "    return c\n",
    "\n",
    "sigma0=np.array([[1,0],[0,1]])\n",
    "sigma1=np.array([[0,1],[1,0]])\n",
    "sigma2=np.array([[0,-1j],[1j,0]])\n",
    "sigma3=np.array([[1,0],[0,-1]])\n",
    "s00=np.kron(sigma0,sigma0)\n",
    "s30=np.kron(sigma3,sigma0)\n",
    "s01=np.kron(sigma0,sigma1)\n",
    "s02=np.kron(sigma0,sigma2)\n",
    "\n",
    "\n",
    "Hx= hbar*vF*np.kron(s30, np.kron(np.diag(kx) , sigma1))\n",
    "HeB= 2j*vF*elec*B* np.kron(np.imag(y1(k1-k2)), sigma2)\n",
    "HeBT= 2j*vF*elec*B* np.kron(np.imag(y1(k2-k1)), sigma2)\n",
    "\n",
    "Hxm= np.kron( m_sc*y0s(k1-k2)+2*m_n*np.real(y0(k1-k2)) , sigma3)\n",
    "HxmT= np.kron( m_sc*y0s(k2-k1)+2*m_n*np.real(y0(k2-k1)) , sigma3)\n",
    "Hlx= np.kron(np.kron(sigma3,sigma2),np.kron( y0s(k1-k2) , lRx*sigma1)) #1\n",
    "HlxT= np.kron(np.kron(sigma3,sigma2),np.kron( y0s(k2-k1) , lRx*sigma1)) #1\n",
    "Hly= -np.kron(np.kron(sigma0,sigma1),np.kron( y0s(k1-k2) , lRy*sigma2)) #2\n",
    "HlyT= -np.kron(np.kron(sigma0,sigma1),np.kron( y0s(k2-k1) , lRy*sigma2)) #2\n",
    "Hlz= np.kron(np.kron(sigma3,sigma3),np.kron( y0s(k1-k2) , lso*sigma3)) # 333\n",
    "HlzT= np.kron(np.kron(sigma3,sigma3),np.kron( y0s(k2-k1) , lso*sigma3))\n",
    "Hl=Hlx+Hly+Hlz\n",
    "HlT=HlxT+HlyT+HlzT\n",
    "# Hlx=hbar*lam*np.kron(s02, np.kron( (k1+k2)/2*y0s(k1-k2),sigma0) )\n",
    "# HlxT=-hbar*lam*np.kron(s02, np.kron((k1+k2)/2*y0s(k2-k1),sigma0) )\n",
    "\n",
    "Hef= -np.kron( 2*mu_n*np.real(y0(k1-k2)) + mu_sc*y0s(k1-k2), sigma0 )\n",
    "HefT= -np.kron( 2*mu_n*np.real(y0(k2-k1)) + mu_sc*y0s(k2-k1), sigma0 )\n",
    "\n",
    "Hd= np.kron(y0s(k1-k2),sigma0)\n",
    "# basis ud,ud\n",
    "# dmat1=np.kron(np.array([[0.,1j],[0.,0.]]),sigma1)\n",
    "# ddmat1=np.kron(dmat1,sigma2) \n",
    "dmat2=np.kron(np.array([[0.,1j],[0.,0.]]),D1*sigma1+D2*sigma0)\n",
    "ddmat2=np.kron(dmat2,sigma2)\n",
    "Hd_mat=np.kron(ddmat2,Hd)\n",
    "Hd_mat=Hd_mat+np.transpose(Hd_mat).conj()\n",
    "\n",
    "s03=np.kron(sigma0,sigma3)\n",
    "Hz_up= -(gs*y0s(k1-k2)+2*gn*np.real(y0(k1-k2)))\n",
    "Hz= np.kron(s03, np.kron(Hz_up,sigma0) )\n",
    "Hz_upT= -(gs*y0s(k2-k1)+2*gn*np.real(y0(k2-k1)))\n",
    "HzT= np.kron(s03, np.kron(Hz_upT,sigma0) )\n",
    "\n",
    "\n",
    "Vn=np.zeros((16*Nx,16*Nx,len(ky_sw)), dtype=np.complex64)\n",
    "En=np.zeros((16*Nx,len(ky_sw)))\n",
    "for i_y in range(len(ky_sw)):\n",
    "    ky=ky_sw[i_y]\n",
    "    Hy= hbar*vF*ky*np.kron(np.eye(Nx), sigma2)\n",
    "\n",
    "#     Hly=hbar*lam*ky*np.kron(s01, np.kron(y0s(k1-k2),sigma0) )\n",
    "#     HlyT=-hbar*lam*ky*np.kron(s01, np.kron(y0s(k2-k1),sigma0) )\n",
    "\n",
    "    H1 = Hx + np.kron(s00, Hy+ HeB + Hxm + Hef)+ Hz + Hl\n",
    "    H1T = -Hx  + np.kron(s00,Hy+ (HeBT + HxmT + HefT).conj())+ (HzT+HlT).conj()\n",
    "\n",
    "    H_t=block_diag(H1,-H1T)+Hd_mat\n",
    "    En[:,i_y], Vn[:,:,i_y] =np.linalg.eigh(H_t)\n",
    "\n",
    "\n",
    "print(\"Done!\")"
   ]
  },
  {
   "cell_type": "code",
   "execution_count": 173,
   "metadata": {},
   "outputs": [
    {
     "data": {
      "image/png": "[encoded data removed]",
      "text/plain": [
       "<Figure size 432x288 with 1 Axes>"
      ]
     },
     "metadata": {
      "needs_background": "light"
     },
     "output_type": "display_data"
    }
   ],
   "source": [
    "pyplot.figure()\n",
    "pyplot.plot(ky_sw*lB,En.T/hwc,'b')\n",
    "pyplot.ylabel(r\"En [$\\Delta$]\")\n",
    "pyplot.xlabel(r\"$X[l_B]$\")\n",
    "# pyplot.ylim(-22,22)\n",
    "# pyplot.ylim(-0.015,0.015)\n",
    "pyplot.ylim(-.3,.3)\n",
    "pyplot.grid()"
   ]
  },
  {
   "cell_type": "markdown",
   "metadata": {},
   "source": [
    "print(np.linalg.norm(H_t-np.matrix(H_t).H))"
   ]
  },
  {
   "cell_type": "code",
   "execution_count": 174,
   "metadata": {
    "scrolled": false
   },
   "outputs": [
    {
     "data": {
      "application/vnd.jupyter.widget-view+json": {
       "model_id": "68819ca9f43b409c88174305428269d9",
       "version_major": 2,
       "version_minor": 0
      },
      "text/plain": [
       "interactive(children=(Dropdown(description='i_band', options=(795, 796, 797, 798, 799, 800, 801, 802, 803, 804…"
      ]
     },
     "metadata": {},
     "output_type": "display_data"
    }
   ],
   "source": [
    "def wf_real_space(ev,k,x,Ls):\n",
    "    Nx=len(k)\n",
    "    kt=np.reshape(k,[1,Nx])\n",
    "    xt=np.reshape(x,[len(x),1])\n",
    "    \n",
    "    ev_p= ev[:8*Nx,:]\n",
    "    ev_p_K1 = ev_p[:4*Nx,:]\n",
    "    ev_p_K2 = ev_p[4*Nx:,:]\n",
    "    ev_h= ev[8*Nx:,:]\n",
    "    ev_h_K1 = ev_h[:4*Nx,:]\n",
    "    ev_h_K2 = ev_h[4*Nx:,:]\n",
    "    ## uA # uB # dA # dB\n",
    "    return np.dot(np.exp(1j*kt*xt),ev_p_K1[0:2*Nx:2,:])/np.sqrt(2*Lx+Ls)*np.sqrt(x[1]-x[0]),\\\n",
    "           np.dot(np.exp(1j*kt*xt),ev_p_K1[1:2*Nx:2,:])/np.sqrt(2*Lx+Ls)*np.sqrt(x[1]-x[0]),\\\n",
    "           np.dot(np.exp(1j*kt*xt),ev_p_K1[2*Nx:4*Nx:2,:])/np.sqrt(2*Lx+Ls)*np.sqrt(x[1]-x[0]),\\\n",
    "           np.dot(np.exp(1j*kt*xt),ev_p_K1[2*Nx+1:4*Nx:2,:])/np.sqrt(2*Lx+Ls)*np.sqrt(x[1]-x[0]),\\\n",
    "           np.dot(np.exp(1j*kt*xt),ev_p_K2[0:2*Nx:2,:])/np.sqrt(2*Lx+Ls)*np.sqrt(x[1]-x[0]),\\\n",
    "           np.dot(np.exp(1j*kt*xt),ev_p_K2[1:2*Nx:2,:])/np.sqrt(2*Lx+Ls)*np.sqrt(x[1]-x[0]),\\\n",
    "           np.dot(np.exp(1j*kt*xt),ev_p_K2[2*Nx:4*Nx:2,:])/np.sqrt(2*Lx+Ls)*np.sqrt(x[1]-x[0]),\\\n",
    "           np.dot(np.exp(1j*kt*xt),ev_p_K2[2*Nx+1:4*Nx:2,:])/np.sqrt(2*Lx+Ls)*np.sqrt(x[1]-x[0]),\\\n",
    "           np.dot(np.exp(1j*kt*xt),ev_h_K1[0:2*Nx:2,:])/np.sqrt(2*Lx+Ls)*np.sqrt(x[1]-x[0]),\\\n",
    "           np.dot(np.exp(1j*kt*xt),ev_h_K1[1:2*Nx:2,:])/np.sqrt(2*Lx+Ls)*np.sqrt(x[1]-x[0]),\\\n",
    "           np.dot(np.exp(1j*kt*xt),ev_h_K1[2*Nx:4*Nx:2,:])/np.sqrt(2*Lx+Ls)*np.sqrt(x[1]-x[0]),\\\n",
    "           np.dot(np.exp(1j*kt*xt),ev_h_K1[2*Nx+1:4*Nx:2,:])/np.sqrt(2*Lx+Ls)*np.sqrt(x[1]-x[0]),\\\n",
    "           np.dot(np.exp(1j*kt*xt),ev_h_K2[0:2*Nx:2,:])/np.sqrt(2*Lx+Ls)*np.sqrt(x[1]-x[0]),\\\n",
    "           np.dot(np.exp(1j*kt*xt),ev_h_K2[1:2*Nx:2,:])/np.sqrt(2*Lx+Ls)*np.sqrt(x[1]-x[0]),\\\n",
    "           np.dot(np.exp(1j*kt*xt),ev_h_K2[2*Nx:4*Nx:2,:])/np.sqrt(2*Lx+Ls)*np.sqrt(x[1]-x[0]),\\\n",
    "           np.dot(np.exp(1j*kt*xt),ev_h_K2[2*Nx+1:4*Nx:2,:])/np.sqrt(2*Lx+Ls)*np.sqrt(x[1]-x[0])\n",
    "\n",
    "\n",
    "def plot_wf(i_band=Nx,iwf=int(len(ky_sw)/2)):\n",
    "# iwf=0\n",
    "    pyplot.figure(figsize=(10,10))\n",
    "    pyplot.subplot(3,2,1)\n",
    "    pyplot.plot(ky_sw*lB,En.T/hwc,'b')\n",
    "    pyplot.plot(ky_sw[iwf]*lB,En[i_band,iwf]/hwc,'ro')\n",
    "    pyplot.ylabel(\"Energy(meV)\")\n",
    "    pyplot.xlabel(\"X(l)\")\n",
    "    pyplot.ylim(-0.5,0.5)\n",
    "    # pyplot.xlim(-7.5,7.5)\n",
    "    pyplot.grid()\n",
    "#     pyplot.show()\n",
    "\n",
    "    x0=np.linspace(-1,1,500)*12*lB\n",
    "    wfpK1_uA,wfpK1_uB, wfpK1_dA,wfpK1_dB,\\\n",
    "    wfpK2_uA,wfpK2_uB, wfpK2_dA,wfpK2_dB,\\\n",
    "    wfhK1_uA,wfhK1_uB, wfhK1_dA,wfhK1_dB,\\\n",
    "    wfhK2_uA,wfhK2_uB, wfhK2_dA,wfhK2_dB =wf_real_space(np.reshape(Vn[:,i_band,:],[16*Nx,len(ky_sw)]),kx,x0,Ls)\n",
    "#     pyplot.figure()\n",
    "    pyplot.title('ky=%.2f' % (ky_sw[iwf]*lB) )\n",
    "    pyplot.subplot(3,2,3)\n",
    "    pyplot.title('K1')\n",
    "    pyplot.plot(x0/lB,np.abs(wfpK1_uA[:,iwf])**2,label=r'$eA\\uparrow$')\n",
    "    pyplot.plot(x0/lB,np.abs(wfpK1_uB[:,iwf])**2,label=r'$eB\\uparrow$')\n",
    "    pyplot.plot(x0/lB,np.abs(wfpK1_dA[:,iwf])**2,label=r'$eA\\downarrow$')\n",
    "    pyplot.plot(x0/lB,np.abs(wfpK1_dB[:,iwf])**2,label=r'$eB\\downarrow$')\n",
    "\n",
    "    pyplot.legend()\n",
    "    pyplot.subplot(3,2,4)\n",
    "    pyplot.title('K1')\n",
    "    pyplot.plot(x0/lB,np.abs(wfhK1_uA[:,iwf])**2,label=r'$hA\\uparrow$')\n",
    "    pyplot.plot(x0/lB,np.abs(wfhK1_uB[:,iwf])**2,label=r'$hB\\uparrow$')\n",
    "    pyplot.plot(x0/lB,np.abs(wfhK1_dA[:,iwf])**2,label=r'$hA\\downarrow$')\n",
    "    pyplot.plot(x0/lB,np.abs(wfhK1_dB[:,iwf])**2,label=r'$hB\\downarrow$')\n",
    "\n",
    "    pyplot.legend()\n",
    "    pyplot.subplot(3,2,5)\n",
    "    pyplot.title('K2')\n",
    "    pyplot.plot(x0/lB,np.abs(wfpK2_uA[:,iwf])**2,label=r'$eA\\uparrow$')\n",
    "    pyplot.plot(x0/lB,np.abs(wfpK2_uB[:,iwf])**2,label=r'$eB\\uparrow$')\n",
    "    pyplot.plot(x0/lB,np.abs(wfpK2_dA[:,iwf])**2,label=r'$eA\\downarrow$')\n",
    "    pyplot.plot(x0/lB,np.abs(wfpK2_dB[:,iwf])**2,label=r'$eB\\downarrow$')\n",
    "\n",
    "    pyplot.legend()\n",
    "    pyplot.subplot(3,2,6)\n",
    "    pyplot.title('K2')\n",
    "    pyplot.plot(x0/lB,np.abs(wfhK2_uA[:,iwf])**2,label=r'$hA\\uparrow$')\n",
    "    pyplot.plot(x0/lB,np.abs(wfhK2_uB[:,iwf])**2,label=r'$hB\\uparrow$')\n",
    "    pyplot.plot(x0/lB,np.abs(wfhK2_dA[:,iwf])**2,label=r'$hA\\downarrow$')\n",
    "    pyplot.plot(x0/lB,np.abs(wfhK2_dB[:,iwf])**2,label=r'$hB\\downarrow$')\n",
    "\n",
    "    pyplot.legend()\n",
    "\n",
    "    pyplot.show()\n",
    "\n",
    "interact(plot_wf,iwf=(0,len(ky_sw)-1,1), i_band=range(8*Nx-int(nu**2)-5,8*Nx+int(nu**2)+5));\n",
    "#, continuous_update=False);"
   ]
  },
  {
   "cell_type": "markdown",
   "metadata": {},
   "source": [
    "SC spectrum"
   ]
  },
  {
   "cell_type": "code",
   "execution_count": null,
   "metadata": {},
   "outputs": [],
   "source": []
  }
 ],
 "metadata": {
  "kernelspec": {
   "display_name": "Python 3",
   "language": "python",
   "name": "python3"
  },
  "language_info": {
   "codemirror_mode": {
    "name": "ipython",
    "version": 3
   },
   "file_extension": ".py",
   "mimetype": "text/x-python",
   "name": "python",
   "nbconvert_exporter": "python",
   "pygments_lexer": "ipython3",
   "version": "3.7.3"
  }
 },
 "nbformat": 4,
 "nbformat_minor": 2
}
