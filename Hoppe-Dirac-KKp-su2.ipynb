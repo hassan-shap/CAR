{
 "cells": [
  {
   "cell_type": "code",
   "execution_count": 1,
   "metadata": {},
   "outputs": [],
   "source": [
    "import numpy as np\n",
    "from math import pi, sqrt, tanh\n",
    "from matplotlib import pyplot\n",
    "from scipy.linalg import block_diag\n",
    "from ipywidgets import interact"
   ]
  },
  {
   "cell_type": "markdown",
   "metadata": {},
   "source": [
    "Imposing boundary condition at left of sc u_K=u_K' and v_K= v_K'"
   ]
  },
  {
   "cell_type": "code",
   "execution_count": 118,
   "metadata": {
    "scrolled": true
   },
   "outputs": [
    {
     "name": "stdout",
     "output_type": "stream",
     "text": [
      "Done!\n"
     ]
    }
   ],
   "source": [
    "hbar=1.05e-34\n",
    "elec=1.6e-19\n",
    "meV=elec*1e-3\n",
    "\n",
    "vF=1e6\n",
    "B=10 # Tesla\n",
    "hwc=vF*sqrt(2*hbar*elec*B)\n",
    "lB=np.sqrt(hbar/(elec*B))\n",
    "m_sc=4*hwc #1e2*meV\n",
    "mu_sc=5*hwc #1e2*meV\n",
    "D_sc=0.5*hwc #10*meV\n",
    "nu=1.2 #sqrt(2)+0.1\n",
    "mu_n=nu*hwc #10*meV\n",
    "\n",
    "ky_sw=np.linspace(-1,1,50)*4/lB\n",
    "\n",
    "\n",
    "Ls=8*lB\n",
    "Lx=8*lB\n",
    "Nx=200\n",
    "kx=2*pi*np.arange(Nx)/(2*Lx+Ls)-pi*Nx/(2*Lx+Ls)\n",
    "[k1,k2]=2*pi*np.mgrid[range(Nx),range(Nx)]/(2*Lx+Ls)-pi*Nx/(2*Lx+Ls)\n",
    "\n",
    "\n",
    "def y2(k):\n",
    "    with np.errstate(divide='ignore', invalid='ignore'):\n",
    "        c= np.exp(1j*k*Ls/2)*(-2j+np.exp(1j*k*Lx)*(2j+ 2*k*Lx- 1j* k**2 * Lx**2))/ (k**3) /(2*Lx+Ls)\n",
    "        c[ ~ np.isfinite( c )] = Lx**3 /(3*(2*Lx+Ls))\n",
    "    return c\n",
    "\n",
    "def y1(k):\n",
    "    with np.errstate(divide='ignore', invalid='ignore'):\n",
    "        c = np.exp(1j*k*Ls/2)*(-1+np.exp(1j*k*Lx)*(1- 1j* k * Lx))/ (k**2) /(2*Lx+Ls)\n",
    "        c[ ~ np.isfinite( c )] = Lx**2 /(2*(2*Lx+Ls))\n",
    "    return c\n",
    "\n",
    "def y0(k):\n",
    "    with np.errstate(divide='ignore', invalid='ignore'):\n",
    "        c = -1j*np.exp(1j*k*Ls/2)*(-1+np.exp(1j*k*Lx) )/(k*(2*Lx+Ls))\n",
    "        c[ ~ np.isfinite( c )] = Lx /(2*Lx+Ls)\n",
    "    return c\n",
    "\n",
    "def y0s(k):\n",
    "    with np.errstate(divide='ignore', invalid='ignore'):\n",
    "        c = 2*np.sin(k*Ls/2)/(k*(2*Lx+Ls))\n",
    "        c[ ~ np.isfinite( c )] = Ls /(2*Lx+Ls)\n",
    "    return c\n",
    "\n",
    "sigma0=np.array([[1,0],[0,1]])\n",
    "sigma1=np.array([[0,1],[1,0]])\n",
    "sigma2=np.array([[0,-1j],[1j,0]])\n",
    "sigma3=np.array([[1,0],[0,-1]])\n",
    "\n",
    "Hx= hbar*vF*np.kron(np.diag(kx) , sigma1)\n",
    "HeB= -2*vF*elec*B* np.kron(np.real(y1(k1-k2)), sigma2)\n",
    "HeBT= -2*vF*elec*B* np.kron(np.real(y1(k2-k1)), sigma2)\n",
    "\n",
    "Hxm= np.kron( y0s(k1-k2) , m_sc*sigma3)\n",
    "HxmT= np.kron( y0s(k2-k1) , m_sc*sigma3)\n",
    "Hef= -np.kron( 2*mu_n*np.real(y0(k1-k2)) + mu_sc*y0s(k1-k2), sigma0 )\n",
    "HefT= -np.kron( 2*mu_n*np.real(y0(k2-k1)) + mu_sc*y0s(k2-k1), sigma0 )\n",
    "\n",
    "Hd= 1j*np.kron(D_sc*y0s(k1+k2),sigma0)\n",
    "dmat=np.array([[0.,1.],[0.,0.]])\n",
    "Hd_mat=np.kron(dmat,Hd)\n",
    "Hd_mat=Hd_mat+np.transpose(Hd_mat).conj()\n",
    "\n",
    "\n",
    "Vn=np.zeros((4*Nx,4*Nx,len(ky_sw)), dtype=np.complex64)\n",
    "En=np.zeros((4*Nx,len(ky_sw)))\n",
    "for i_y in range(len(ky_sw)):\n",
    "    ky=ky_sw[i_y]\n",
    "    Hy= np.kron(hbar*vF*ky*np.eye(Nx), sigma2)\n",
    "\n",
    "    H1 = Hx +Hy + HeB + Hxm + Hef  \n",
    "    H1T = -Hx +Hy + (HeBT + HxmT + HefT).conj()\n",
    "\n",
    "    H_t=block_diag(H1,-H1T)+Hd_mat\n",
    "\n",
    "    En[:,i_y], Vn[:,:,i_y] =np.linalg.eigh(H_t)\n",
    "\n",
    "print(\"Done!\")"
   ]
  },
  {
   "cell_type": "code",
   "execution_count": 119,
   "metadata": {},
   "outputs": [],
   "source": [
    "def wf_real_space(ev,k,x,Lx):\n",
    "    Nx=len(k)\n",
    "    kt=np.reshape(k,[1,Nx])\n",
    "    xt=np.reshape(x,[len(x),1]) #*np.sqrt(x[1]-x[0]),\n",
    "    return np.dot(np.exp(1j*kt*xt),ev[0:2*Nx:2,:])/np.sqrt(2*Lx)*np.sqrt(x[1]-x[0]),\\\n",
    "           np.dot(np.exp(1j*kt*xt),ev[1:2*Nx:2,:])/np.sqrt(2*Lx)*np.sqrt(x[1]-x[0]),\\\n",
    "           np.dot(np.exp(1j*kt*xt),ev[2*Nx:4*Nx:2,:])/np.sqrt(2*Lx)*np.sqrt(x[1]-x[0]),\\\n",
    "           np.dot(np.exp(1j*kt*xt),ev[2*Nx+1:4*Nx:2,:])/np.sqrt(2*Lx)*np.sqrt(x[1]-x[0])\n",
    "\n",
    "\n",
    "def plot_wf(i_band=Nx,iwf=int(3*len(ky_sw)/4)):\n",
    "# iwf=0\n",
    "    pyplot.figure()\n",
    "    pyplot.subplot(2,1,1)\n",
    "    pyplot.plot(ky_sw*lB,En.T/hwc,'b')\n",
    "    pyplot.plot(ky_sw[iwf]*lB,En[i_band,iwf]/hwc,'ro')\n",
    "    pyplot.ylabel(\"Energy(meV)\")\n",
    "    pyplot.xlabel(\"X(l)\")\n",
    "    pyplot.ylim(-1,1)\n",
    "    # pyplot.xlim(-7.5,7.5)\n",
    "    pyplot.grid()\n",
    "#     pyplot.show()\n",
    "\n",
    "    x0=np.linspace(-1,1,500)*10*lB\n",
    "    wfp_a,wfp_b,wfh_a,wfh_b=wf_real_space(np.reshape(Vn[:,i_band,:],[4*Nx,len(ky_sw)]),kx,x0,Lx)\n",
    "#     pyplot.figure()\n",
    "    pyplot.subplot(2,1,2)\n",
    "    pyplot.plot(x0/lB,np.abs(wfp_a[:,iwf])**2,label=r'$eA\\uparrow$')\n",
    "    pyplot.plot(x0/lB,np.abs(wfp_b[:,iwf])**2,label=r'$eB\\uparrow$')\n",
    "    pyplot.plot(x0/lB,np.abs(wfh_a[:,iwf])**2,label=r'$hA\\downarrow$')\n",
    "    pyplot.plot(x0/lB,np.abs(wfh_b[:,iwf])**2,label=r'$hB\\downarrow$')\n",
    "    pyplot.title('ky=%.2f' % (ky_sw[iwf]*lB) )\n",
    "    pyplot.legend()\n",
    "#     pyplot.ylim(0,8e7)\n",
    "    pyplot.show()"
   ]
  },
  {
   "cell_type": "code",
   "execution_count": 120,
   "metadata": {},
   "outputs": [
    {
     "data": {
      "application/vnd.jupyter.widget-view+json": {
       "model_id": "0b501bdf1de64837894b3cd6a3b965a8",
       "version_major": 2,
       "version_minor": 0
      },
      "text/plain": [
       "interactive(children=(Dropdown(description='i_band', options=(397, 398, 399, 400, 401, 402), value=397), IntSl…"
      ]
     },
     "metadata": {},
     "output_type": "display_data"
    }
   ],
   "source": [
    "interact(plot_wf,iwf=(0,len(ky_sw)-1,1), i_band=range(2*Nx-int(nu**2)-2,2*Nx+int(nu**2)+2));\n",
    "#, continuous_update=False);"
   ]
  },
  {
   "cell_type": "code",
   "execution_count": null,
   "metadata": {},
   "outputs": [],
   "source": [
    "pyplot.figure()\n",
    "# pyplot.plot(ky_sw/1e9,En.T/meV)\n",
    "pyplot.plot(ky_sw*lB,En.T/hwc,'b')\n",
    "pyplot.ylabel(\"Energy(meV)\")\n",
    "# pyplot.xlabel(\"ky(1/nm)\")\n",
    "pyplot.xlabel(\"X(l)\")\n",
    "pyplot.ylim(-1,1)\n",
    "# pyplot.xlim(-7.5,7.5)\n",
    "pyplot.grid()\n",
    "pyplot.show()"
   ]
  },
  {
   "cell_type": "markdown",
   "metadata": {},
   "source": [
    "Without imposing boundary condition"
   ]
  },
  {
   "cell_type": "code",
   "execution_count": 135,
   "metadata": {},
   "outputs": [
    {
     "name": "stdout",
     "output_type": "stream",
     "text": [
      "Done!\n"
     ]
    }
   ],
   "source": [
    "hbar=1.05e-34\n",
    "elec=1.6e-19\n",
    "meV=elec*1e-3\n",
    "\n",
    "vF=1e6\n",
    "B=10 # Tesla\n",
    "hwc=vF*sqrt(2*hbar*elec*B)\n",
    "lB=np.sqrt(hbar/(elec*B))\n",
    "m_sc=2*hwc #1e2*meV\n",
    "mu_sc=3*hwc #1e2*meV\n",
    "D_sc=.6*hwc #10*meV\n",
    "nu=0.5#sqrt(2)+0.1\n",
    "mu_n=nu*hwc #10*meV\n",
    "\n",
    "ky_sw=np.linspace(-1,1,140)*7.5/lB\n",
    "\n",
    "\n",
    "Lx=8*lB\n",
    "Nx=100\n",
    "kx=2*pi*np.arange(Nx)/(2*Lx)-pi*Nx/(2*Lx)\n",
    "[k1,k2]=2*pi*np.mgrid[range(Nx),range(Nx)]/(2*Lx)-pi*Nx/(2*Lx)\n",
    "\n",
    "def y2(k):\n",
    "    with np.errstate(divide='ignore', invalid='ignore'):\n",
    "        c= (-2j+np.exp(1j*k*Lx)*(2j+ 2*k*Lx- 1j* k**2 * Lx**2))/ (k**3) /(2*Lx)\n",
    "        c[ ~ np.isfinite( c )] = Lx**2 /6.0\n",
    "    return c\n",
    "\n",
    "def y1(k):\n",
    "    with np.errstate(divide='ignore', invalid='ignore'):\n",
    "        c = (-1+np.exp(1j*k*Lx)*(1- 1j* k * Lx))/ (k**2) /(2*Lx)\n",
    "        c[ ~ np.isfinite( c )] = Lx/4.0\n",
    "    return c\n",
    "\n",
    "def y0(k):\n",
    "    with np.errstate(divide='ignore', invalid='ignore'):\n",
    "        c = -1j*(-1+np.exp(1j*k*Lx) )/(k*2*Lx)\n",
    "        c[ ~ np.isfinite( c )] = 0.5\n",
    "    return c\n",
    "\n",
    "sigma0=np.array([[1,0],[0,1]])\n",
    "sigma1=np.array([[0,1],[1,0]])\n",
    "sigma2=np.array([[0,-1j],[1j,0]])\n",
    "sigma3=np.array([[1,0],[0,-1]])\n",
    "\n",
    "Hx= hbar*vF*np.kron(sigma3,np.kron(np.diag(kx) , sigma1))\n",
    "HeB= -vF*elec*B* np.kron(sigma0,np.kron(y1(k1-k2), sigma2))\n",
    "HeBT= -vF*elec*B* np.kron(sigma0,np.kron(y1(k2-k1), sigma2))\n",
    "\n",
    "\n",
    "Hxm= np.kron(sigma0,np.kron( y0(k2-k1) , m_sc*sigma3))\n",
    "HxmT= np.kron(sigma0,np.kron( y0(k1-k2) , m_sc*sigma3))\n",
    "Hef= -np.kron(sigma0,np.kron( mu_n*y0(k1-k2) + mu_sc*y0(k2-k1), sigma0 ))\n",
    "HefT= -np.kron(sigma0,np.kron( mu_n*y0(k2-k1) + mu_sc*y0(k1-k2), sigma0 ))\n",
    "dmat= np.kron(np.array([[0.,1.0],[0.,0.]]),sigma1)\n",
    "Hd= D_sc*np.kron(dmat,np.kron(y0(k2-k1) , sigma0))\n",
    "Hd_mat= Hd+np.transpose(Hd).conj()\n",
    "\n",
    "\n",
    "En=np.zeros((8*Nx,len(ky_sw)))\n",
    "Vn=np.zeros((8*Nx,8*Nx,len(ky_sw)), dtype=np.complex64)\n",
    "for i_y in range(len(ky_sw)):\n",
    "    ky=ky_sw[i_y]\n",
    "    Hy= np.kron(sigma0,np.kron(hbar*vF*ky*np.eye(Nx), sigma2))\n",
    "    H1 = Hx +Hy + HeB + Hxm + Hef \n",
    "    H1T = -Hx +Hy + (HeBT + HxmT + HefT).conj() # note -Hy gives intravalley\n",
    "    H_t=block_diag(H1,-H1T)+Hd_mat\n",
    "    En[:,i_y], Vn[:,:,i_y] =np.linalg.eigh(H_t)\n",
    "    \n",
    "print(\"Done!\")"
   ]
  },
  {
   "cell_type": "code",
   "execution_count": 136,
   "metadata": {},
   "outputs": [
    {
     "data": {
      "image/png": "[encoded data removed]",
      "text/plain": [
       "<Figure size 432x288 with 1 Axes>"
      ]
     },
     "metadata": {
      "needs_background": "light"
     },
     "output_type": "display_data"
    }
   ],
   "source": [
    "pyplot.figure()\n",
    "# pyplot.plot(ky_sw/1e9,En.T/meV)\n",
    "pyplot.plot(ky_sw*lB,En.T/hwc,'b')\n",
    "pyplot.ylabel(\"Energy(meV)\")\n",
    "# pyplot.xlabel(\"ky(1/nm)\")\n",
    "pyplot.xlabel(\"X(l)\")\n",
    "pyplot.ylim(-1,1)\n",
    "# pyplot.xlim(-7.5,7.5)\n",
    "pyplot.grid()\n",
    "pyplot.show()"
   ]
  },
  {
   "cell_type": "code",
   "execution_count": 137,
   "metadata": {},
   "outputs": [
    {
     "data": {
      "application/vnd.jupyter.widget-view+json": {
       "model_id": "b705923c09fb47949afafc3d10526a10",
       "version_major": 2,
       "version_minor": 0
      },
      "text/plain": [
       "interactive(children=(Dropdown(description='i_band', options=(397, 398, 399, 400, 401, 402), value=397), IntSl…"
      ]
     },
     "metadata": {},
     "output_type": "display_data"
    }
   ],
   "source": [
    "def wf_real_space(ev,k,x,Ls):\n",
    "    Nx=len(k)\n",
    "    kt=np.reshape(k,[1,Nx])\n",
    "    xt=np.reshape(x,[len(x),1])\n",
    "    \n",
    "    ev_p= ev[:4*Nx,:]\n",
    "    ev_h= ev[4*Nx:,:]\n",
    "    ## uA # uB # dA # dB\n",
    "    return np.dot(np.exp(1j*kt*xt),ev_p[0:2*Nx:2,:])/np.sqrt(2*Lx+Ls)*np.sqrt(x[1]-x[0]),\\\n",
    "           np.dot(np.exp(1j*kt*xt),ev_p[1:2*Nx:2,:])/np.sqrt(2*Lx+Ls)*np.sqrt(x[1]-x[0]),\\\n",
    "           np.dot(np.exp(1j*kt*xt),ev_p[2*Nx:4*Nx:2,:])/np.sqrt(2*Lx+Ls)*np.sqrt(x[1]-x[0]),\\\n",
    "           np.dot(np.exp(1j*kt*xt),ev_p[2*Nx+1:4*Nx:2,:])/np.sqrt(2*Lx+Ls)*np.sqrt(x[1]-x[0]),\\\n",
    "           np.dot(np.exp(1j*kt*xt),ev_h[0:2*Nx:2,:])/np.sqrt(2*Lx+Ls)*np.sqrt(x[1]-x[0]),\\\n",
    "           np.dot(np.exp(1j*kt*xt),ev_h[1:2*Nx:2,:])/np.sqrt(2*Lx+Ls)*np.sqrt(x[1]-x[0]),\\\n",
    "           np.dot(np.exp(1j*kt*xt),ev_h[2*Nx:4*Nx:2,:])/np.sqrt(2*Lx+Ls)*np.sqrt(x[1]-x[0]),\\\n",
    "           np.dot(np.exp(1j*kt*xt),ev_h[2*Nx+1:4*Nx:2,:])/np.sqrt(2*Lx+Ls)*np.sqrt(x[1]-x[0])\n",
    "\n",
    "\n",
    "def plot_wf(i_band=Nx,iwf=int(len(ky_sw)/2)):\n",
    "# iwf=0\n",
    "    pyplot.figure(figsize=(10,5))\n",
    "    pyplot.subplot(2,2,1)\n",
    "    pyplot.plot(ky_sw*lB,En.T/hwc,'b')\n",
    "    pyplot.plot(ky_sw[iwf]*lB,En[i_band,iwf]/hwc,'ro')\n",
    "    pyplot.ylabel(\"Energy(meV)\")\n",
    "    pyplot.xlabel(\"X(l)\")\n",
    "    pyplot.ylim(-1,1)\n",
    "    # pyplot.xlim(-7.5,7.5)\n",
    "    pyplot.grid()\n",
    "#     pyplot.show()\n",
    "\n",
    "    x0=np.linspace(-1,1,500)*10*lB\n",
    "    wfp_uA,wfp_uB, wfp_dA,wfp_dB,\\\n",
    "    wfh_uA,wfh_uB, wfh_dA,wfh_dB =wf_real_space(np.reshape(Vn[:,i_band,:],[8*Nx,len(ky_sw)]),kx,x0,Ls)\n",
    "#     pyplot.figure()\n",
    "    pyplot.title('ky=%.2f' % (ky_sw[iwf]*lB) )\n",
    "    pyplot.subplot(2,2,3)\n",
    "    pyplot.plot(x0/lB,np.abs(wfp_uA[:,iwf])**2,label=r'$eA\\uparrow$')\n",
    "    pyplot.plot(x0/lB,np.abs(wfp_uB[:,iwf])**2,label=r'$eB\\uparrow$')\n",
    "    pyplot.plot(x0/lB,np.abs(wfh_dA[:,iwf])**2,label=r'$hA\\downarrow$')\n",
    "    pyplot.plot(x0/lB,np.abs(wfh_dB[:,iwf])**2,label=r'$hB\\downarrow$')\n",
    "    pyplot.legend()\n",
    "    pyplot.subplot(2,2,4)\n",
    "    pyplot.plot(x0/lB,np.abs(wfp_dA[:,iwf])**2,label=r'$eA\\downarrow$')\n",
    "    pyplot.plot(x0/lB,np.abs(wfp_dB[:,iwf])**2,label=r'$eB\\downarrow$')\n",
    "    pyplot.plot(x0/lB,np.abs(wfh_uA[:,iwf])**2,label=r'$hA\\uparrow$')\n",
    "    pyplot.plot(x0/lB,np.abs(wfh_uB[:,iwf])**2,label=r'$hB\\uparrow$')\n",
    "    pyplot.legend()\n",
    "    pyplot.show()\n",
    "\n",
    "interact(plot_wf,iwf=(0,len(ky_sw)-1,1), i_band=range(4*Nx-int(nu**2)-3,4*Nx+int(nu**2)+3));\n",
    "#, continuous_update=False);"
   ]
  },
  {
   "cell_type": "code",
   "execution_count": null,
   "metadata": {},
   "outputs": [],
   "source": []
  }
 ],
 "metadata": {
  "kernelspec": {
   "display_name": "Python 3",
   "language": "python",
   "name": "python3"
  },
  "language_info": {
   "codemirror_mode": {
    "name": "ipython",
    "version": 3
   },
   "file_extension": ".py",
   "mimetype": "text/x-python",
   "name": "python",
   "nbconvert_exporter": "python",
   "pygments_lexer": "ipython3",
   "version": "3.7.3"
  }
 },
 "nbformat": 4,
 "nbformat_minor": 2
}
