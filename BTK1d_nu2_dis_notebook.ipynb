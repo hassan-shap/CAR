{
 "cells": [
  {
   "cell_type": "code",
   "execution_count": 24,
   "metadata": {
    "lines_to_next_cell": 2
   },
   "outputs": [],
   "source": [
    "import numpy as np\n",
    "import scipy as sp\n",
    "from math import pi, tanh\n",
    "from cmath import sqrt\n",
    "from scipy.linalg import block_diag\n",
    "import time\n",
    "import matplotlib.pyplot as plt\n"
   ]
  },
  {
   "cell_type": "code",
   "execution_count": 15,
   "metadata": {
    "lines_to_next_cell": 2
   },
   "outputs": [],
   "source": [
    "D1=0.1\n",
    "D1t=0.\n",
    "D2=0.2\n",
    "k0u=2.2\n",
    "k0d=1."
   ]
  },
  {
   "cell_type": "code",
   "execution_count": 16,
   "metadata": {},
   "outputs": [],
   "source": [
    "s0=np.array([[1,0],[0,1]])\n",
    "sx=np.array([[0,1],[1,0]])\n",
    "sy=np.array([[0,-1j],[1j,0]])\n",
    "sz=np.array([[1,0],[0,-1]])\n",
    "s_up=(sz+s0)/2\n",
    "s_dn=(s0-sz)/2"
   ]
  },
  {
   "cell_type": "markdown",
   "metadata": {},
   "source": [
    "T matrix with random disorder"
   ]
  },
  {
   "cell_type": "code",
   "execution_count": 19,
   "metadata": {},
   "outputs": [],
   "source": [
    "Nrep=10\n",
    "Nimp=20\n",
    "L=10/D2\n",
    "dl=L/Nimp\n",
    "Z=0.\n",
    "# Esw= np.linspace(-4.4,4.4,40)\n",
    "Esw= np.linspace(0,4.4,100)\n",
    "Esw=Esw[4:]"
   ]
  },
  {
   "cell_type": "code",
   "execution_count": 20,
   "metadata": {},
   "outputs": [
    {
     "name": "stdout",
     "output_type": "stream",
     "text": [
      "nu2_delta_D12_0.10_0.20_Z_0.00_Ni_20_L_5\n"
     ]
    }
   ],
   "source": [
    "out_dir='Dis1d_data_files/'\n",
    "f1='nu2_delta_D12_%.2f_%.2f_Z_%.2f_Ni_%d_L_%d' % (D1,D2,Z,Nimp,int(L*D1))\n",
    "print(f1)\n",
    "fname=out_dir+f1"
   ]
  },
  {
   "cell_type": "code",
   "execution_count": 21,
   "metadata": {},
   "outputs": [],
   "source": [
    "Revecs_l= np.kron(np.array([[0,1,0,0],[0,0,0,1]]).T,s0)\n",
    "Tevecs_l= np.kron(np.array([[1,0,0,0],[0,0,1,0]]).T,s0)\n",
    "evecs_l= np.concatenate((Tevecs_l,Revecs_l),axis=1)\n",
    "Tl=evecs_l\n",
    "Tr=np.linalg.inv(evecs_l)\n",
    "Tz=[[1-1j*Z,0,-1j*Z,0],\\\n",
    "    [0,1+1j*Z,0,-1j*Z],\\\n",
    "    [1j*Z,0,1+1j*Z,0],\\\n",
    "        [0,1j*Z,0,1-1j*Z]]\n",
    "Tz=np.kron(Tz,s0)"
   ]
  },
  {
   "cell_type": "code",
   "execution_count": 22,
   "metadata": {},
   "outputs": [
    {
     "name": "stdout",
     "output_type": "stream",
     "text": [
      "Finished, elapsed time = 18 sec\n"
     ]
    }
   ],
   "source": [
    "Ree=np.zeros(len(Esw))\n",
    "Reh=np.zeros(len(Esw))\n",
    "vk= np.kron(s0,np.kron(sz,s0))\n",
    "Hd= np.linalg.inv(vk)\n",
    "t_timer=time.time()\n",
    "np.random.seed()\n",
    "# Dmat=(np.random.rand(Nimp,Nrep)-0.5)\n",
    "Dmat=np.exp(1j*2*pi*np.random.rand(Nimp,Nrep))\n",
    "D1s=D1*Dmat\n",
    "D2s=D2*Dmat\n",
    "x_imp_mat=np.random.rand(Nimp-1,Nrep)*L\n",
    "for i_r in range(Nrep):\n",
    "    print(' ',i_r,end=' \\r')\n",
    "    x_imp= np.sort(x_imp_mat[:,i_r])\n",
    "    x_imp=np.concatenate(([0],x_imp,[L]))\n",
    "\n",
    "\n",
    "    for i_E in range(len(Esw)):\n",
    "        E=Esw[i_E]\n",
    "        \n",
    "        Tmat=np.dot(Tl,Tz)\n",
    "        for i_n in range(Nimp):\n",
    "            Ham=  - k0u* np.kron(sz,np.kron(s0,s_up))\\\n",
    "                    - k0d* np.kron(sz,np.kron(s0,s_dn))\\\n",
    "                    + np.real(D1s[i_n,i_r])*np.kron(sy,np.kron(sx,sy))\\\n",
    "                    + np.imag(D1s[i_n,i_r])*np.kron(sx,np.kron(sx,sy))\\\n",
    "                    + D1t*np.kron(sy,np.kron(s0,sy))\\\n",
    "                    + np.real(D2s[i_n,i_r])*np.kron(sy,np.kron(sy,s0))\\\n",
    "                    + np.imag(D2s[i_n,i_r])*np.kron(sx,np.kron(sy,s0))\n",
    "            #             Tmat=np.dot(sp.linalg.expm(1j*np.dot(Hd,E*np.eye(8)-  Ham)*dl),Tmat)\n",
    "            Tmat=np.dot(sp.linalg.expm(1j*np.dot(Hd,E*np.eye(8)-  Ham)*(x_imp[i_n+1]-x_imp[i_n])),Tmat)\n",
    "\n",
    "\n",
    "        Tt=np.dot(Tr,Tmat)\n",
    "        TLL=Tt[np.ix_([4,5,6,7],[4,5,6,7])]\n",
    "        TLR=Tt[np.ix_([4,5,6,7],[0,1,2,3])]\n",
    "        x= -sp.linalg.solve(TLL,TLR)\n",
    "        Ree[i_E] = np.sum(np.abs(x[0,0:2])**2+np.abs(x[1,0:2])**2)\n",
    "        Reh[i_E] = np.sum(np.abs(x[2,0:2])**2+np.abs(x[3,0:2])**2)\n",
    "\n",
    "    np.savez(fname+'_%d.npz' % (i_r) , E_list=Esw, Ree=Ree , Reh=Reh)\n",
    "elapsed = time.time() - t_timer\n",
    "print(\"Finished, elapsed time = %.0f \" % (elapsed)+ \"sec\")"
   ]
  },
  {
   "cell_type": "code",
   "execution_count": 26,
   "metadata": {},
   "outputs": [
    {
     "data": {
      "image/png": "[encoded data removed]",
      "text/plain": [
       "<Figure size 432x288 with 1 Axes>"
      ]
     },
     "metadata": {
      "needs_background": "light"
     },
     "output_type": "display_data"
    }
   ],
   "source": [
    "plt.figure()\n",
    "plt.plot(Esw,Reh)\n",
    "plt.grid()\n",
    "# plt.ylim(0,1.1)\n",
    "\n",
    "plt.xlabel(r'$r_{eh}$')\n",
    "plt.xlabel(r'$E$')\n",
    "plt.show()"
   ]
  },
  {
   "cell_type": "code",
   "execution_count": null,
   "metadata": {},
   "outputs": [],
   "source": []
  }
 ],
 "metadata": {
  "kernelspec": {
   "display_name": "Python 3",
   "language": "python",
   "name": "python3"
  },
  "language_info": {
   "codemirror_mode": {
    "name": "ipython",
    "version": 3
   },
   "file_extension": ".py",
   "mimetype": "text/x-python",
   "name": "python",
   "nbconvert_exporter": "python",
   "pygments_lexer": "ipython3",
   "version": "3.8.3"
  }
 },
 "nbformat": 4,
 "nbformat_minor": 4
}
