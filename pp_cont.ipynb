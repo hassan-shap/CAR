{
 "cells": [
  {
   "cell_type": "code",
   "execution_count": 100,
   "metadata": {},
   "outputs": [],
   "source": [
    "import numpy as np\n",
    "import matplotlib.pyplot as plt\n",
    "from math import pi, sqrt\n",
    "from ipywidgets import interact\n",
    "import sys\n",
    "from os import path\n",
    "\n",
    "out_dir='cont_data_files/'\n",
    "\n",
    "# parameters\n",
    "hbar=1.05e-34\n",
    "elec=1.6e-19\n",
    "meV=elec*1e-3\n",
    "\n",
    "vF=1e6\n",
    "B=10 # Tesla\n",
    "hwc=vF*sqrt(2*hbar*elec*B)\n",
    "lB=np.sqrt(hbar/(elec*B))\n",
    "\n",
    "\n",
    "def cond_plotter_vs_E(Nx,Lx,Ls,E_lead,params):\n",
    "    \n",
    "    nu=params['nu']\n",
    "    m_n=params['m_n']\n",
    "    mu_sc=params['mu_sc']\n",
    "    m_sc=params['m_sc']\n",
    "    \n",
    "    D1=params['D1']\n",
    "    D2=params['D2']\n",
    "\n",
    "    lRx= params['lRx']\n",
    "    lRy= params['lRy']\n",
    "    lso= params['lso']\n",
    "    gs= params['gs']\n",
    "    gn= params['gn']\n",
    "    f1='cond_paw_vs_E_Nx_%d_Lxs_%d_%d_nu_%.2f_mn_%.2f_ms_%.2f_mus_%.2f_D12_%.2f_%.2f_lxys_%.2f_%.2f_%.2f_gsn_%.2f_%.2f.npz' %\\\n",
    "          (Nx,Lx,Ls,nu,m_n/hwc,m_sc/hwc,mu_sc/hwc,\\\n",
    "           D1/hwc,D2/hwc,lRx/hwc,lRy/hwc,lso/hwc,gs/hwc,gn/hwc)\n",
    "\n",
    "#     f1='cond_vs_E_El_%.3f_Nx_%d_Lxs_%d_%d_nu_%.2f_mn_%.2f_ms_%.2f_mus_%.2f_D12_%.2f_%.2f_lxys_%.2f_%.2f_%.2f_gsn_%.2f_%.2f.npz' %\\\n",
    "#           (E_lead,Nx,Lx,Ls,nu,m_n/hwc,m_sc/hwc,mu_sc/hwc,\\\n",
    "#            D1/hwc,D2/hwc,lRx/hwc,lRy/hwc,lso/hwc,gs/hwc,gn/hwc)\n",
    "    \n",
    "#     f1='cond_vs_mu_El_%.3f_Nx_%d_Lxs_%d_%d_nu_%.2f_mn_%.2f_ms_%.2f_mus_%.2f_D12_%.2f_%.2f_lxys_%.2f_%.2f_%.2f_gsn_%.2f_%.2f.npz' %\\\n",
    "#           (E_lead,Nx,Lx/lB,Ls/lB,nu,m_n/hwc,m_sc/hwc,mu_sc/hwc,\\\n",
    "#            D1/hwc,D2/hwc,lRx/hwc,lRy/hwc,lso/hwc,gs/hwc,gn/hwc)\n",
    "   \n",
    " #     f1='cond_vs_mu_Nx_%d_Lxs_%d_%d_nu_%.2f_mn_%.2f_ms_%.2f_mus_%.2f_D12_%.2f_%.2f_lxys_%.2f_%.2f_%.2f_gsn_%.2f_%.2f.npz' %\\\n",
    "#           (Nx,Lx/lB,Ls/lB,nu,m_n/hwc,m_sc/hwc,mu_sc/hwc,\\\n",
    "#            D1/hwc,D2/hwc,lRx/hwc,lRy/hwc,lso/hwc,gs/hwc,gn/hwc)\n",
    "    fname=out_dir+f1\n",
    "    if path.exists(fname):\n",
    "        npzfile = np.load(fname)\n",
    "        Esw=npzfile['E_list']\n",
    "        Ree=npzfile['Ree']\n",
    "        Reh=npzfile['Reh']\n",
    "\n",
    "    return Esw, Ree, Reh\n",
    "\n",
    "def cond_plotter_vs_mu(Nx,Lx,Ls,E_lead,params):\n",
    "    \n",
    "    m_n=params['m_n']\n",
    "    mu_sc=params['mu_sc']\n",
    "    m_sc=params['m_sc']\n",
    "    \n",
    "    D1=params['D1']\n",
    "    D2=params['D2']\n",
    "\n",
    "    lRx= params['lRx']\n",
    "    lRy= params['lRy']\n",
    "    lso= params['lso']\n",
    "    gs= params['gs']\n",
    "    gn= params['gn']\n",
    "    f1='cond_paw_vs_mu_Nx_%d_Lxs_%d_%d_mn_%.2f_ms_%.2f_mus_%.2f_D12_%.2f_%.2f_lxys_%.2f_%.2f_%.2f_gsn_%.2f_%.2f.npz' %\\\n",
    "      (Nx,Lx,Ls,m_n/hwc,m_sc/hwc,mu_sc/hwc,\\\n",
    "       D1/hwc,D2/hwc,lRx/hwc,lRy/hwc,lso/hwc,gs/hwc,gn/hwc)\n",
    "\n",
    "\n",
    "#     f1='cond_vs_mu_El_%.3f_Nx_%d_Lxs_%d_%d_mn_%.2f_ms_%.2f_mus_%.2f_D12_%.2f_%.2f_lxys_%.2f_%.2f_%.2f_gsn_%.2f_%.2f.npz' %\\\n",
    "#           (E_lead,Nx,Lx,Ls,m_n/hwc,m_sc/hwc,mu_sc/hwc,\\\n",
    "#            D1/hwc,D2/hwc,lRx/hwc,lRy/hwc,lso/hwc,gs/hwc,gn/hwc)\n",
    "   \n",
    " #     f1='cond_vs_mu_Nx_%d_Lxs_%d_%d_nu_%.2f_mn_%.2f_ms_%.2f_mus_%.2f_D12_%.2f_%.2f_lxys_%.2f_%.2f_%.2f_gsn_%.2f_%.2f.npz' %\\\n",
    "#           (Nx,Lx/lB,Ls/lB,nu,m_n/hwc,m_sc/hwc,mu_sc/hwc,\\\n",
    "#            D1/hwc,D2/hwc,lRx/hwc,lRy/hwc,lso/hwc,gs/hwc,gn/hwc)\n",
    "    fname=out_dir+f1\n",
    "    if path.exists(fname):\n",
    "        npzfile = np.load(fname)\n",
    "        nu_sw=npzfile['nu_list']\n",
    "        Ree=npzfile['Ree']\n",
    "        Reh=npzfile['Reh']\n",
    "\n",
    "    return nu_sw, Ree, Reh"
   ]
  },
  {
   "cell_type": "markdown",
   "metadata": {},
   "source": [
    "Response as a function of bias"
   ]
  },
  {
   "cell_type": "code",
   "execution_count": 23,
   "metadata": {},
   "outputs": [
    {
     "data": {
      "image/png": "[encoded data removed]",
      "text/plain": [
       "<Figure size 432x288 with 1 Axes>"
      ]
     },
     "metadata": {
      "needs_background": "light"
     },
     "output_type": "display_data"
    }
   ],
   "source": [
    "# system dimensions (in units of lB)\n",
    "# Ls=6\n",
    "Ls_list=[6]\n",
    "Lx=8\n",
    "\n",
    "D1=0.5*hwc #10*meV\n",
    "D2=0.6*hwc #10*meV\n",
    "m_n=0.*hwc\n",
    "\n",
    "lRx= 1*hwc\n",
    "lRy= 0.*hwc\n",
    "lso= 0.*hwc\n",
    "gs=0.0*hwc\n",
    "gn=0.2*hwc\n",
    "\n",
    "nu=0.4\n",
    "m_sc=3*hwc \n",
    "mu_sc=8*hwc\n",
    "params=dict(nu=nu, m_n=m_n, mu_sc=mu_sc, m_sc=m_sc, D1=D1, D2=D2,\\\n",
    "            lRx=lRx, lRy=lRy, lso=lso, gs=gs, gn=gn)\n",
    "\n",
    "m_sc_lead=1000*hwc\n",
    "mu_sc_lead=0*hwc\n",
    "Nx_list=[100]\n",
    "for Nx in Nx_list:\n",
    "# E_list=[0.001,0.01,0.02]\n",
    "# E_list=[0]\n",
    "#     for E_lead in E_list:\n",
    "    E_lead=0\n",
    "    for Ls in Ls_list:\n",
    "        Esw1, Ree1, Reh1 = cond_plotter_vs_E(Nx,Lx,Ls,E_lead,params)\n",
    "#         l= 'Nx=%d, E=%.3f' % (Nx,E_lead)\n",
    "        l= 'Nx=%d, Ls=%d' % (Nx,Ls)\n",
    "        plt.plot(Esw1/hwc,Reh, label=l)\n",
    "\n",
    "# plt.plot(Esw1/hwc,Reh1)\n",
    "# plt.plot(Esw1/hwc,Ree1)\n",
    "plt.legend()\n",
    "plt.grid()\n",
    "# plt.ylim(0,1.1)\n",
    "plt.ylabel(r'$R_{eh}$')\n",
    "plt.xlabel(r'$E/\\hbar\\omega_c $')\n",
    "plt.show()"
   ]
  },
  {
   "cell_type": "markdown",
   "metadata": {},
   "source": [
    "Response as a function of nu"
   ]
  },
  {
   "cell_type": "code",
   "execution_count": 106,
   "metadata": {},
   "outputs": [
    {
     "data": {
      "image/png": "[encoded data removed]",
      "text/plain": [
       "<Figure size 432x288 with 1 Axes>"
      ]
     },
     "metadata": {
      "needs_background": "light"
     },
     "output_type": "display_data"
    }
   ],
   "source": [
    "# system dimensions (in units of lB)\n",
    "Lx_list=[8]\n",
    "Ls=6\n",
    "\n",
    "D1=0.5*hwc #10*meV\n",
    "D2=0.6*hwc #10*meV\n",
    "m_n=0.1*hwc\n",
    "\n",
    "lRx= 1.*hwc\n",
    "lRy= 0.*hwc\n",
    "lso= 0.*hwc\n",
    "gs=0.0*hwc\n",
    "gn=0.3*hwc\n",
    "\n",
    "m_sc=3*hwc \n",
    "mu_sc=8*hwc\n",
    "params=dict(m_n=m_n, mu_sc=mu_sc, m_sc=m_sc, D1=D1, D2=D2,\\\n",
    "            lRx=lRx, lRy=lRy, lso=lso, gs=gs, gn=gn)\n",
    "\n",
    "m_sc_lead=1000*hwc\n",
    "mu_sc_lead=0*hwc\n",
    "Nx_list=[100,200]\n",
    "for Nx in Nx_list:\n",
    "# E_list=[0]\n",
    "#     for E_lead in E_list:\n",
    "    E_lead=0\n",
    "#     for Ls in Ls_list:\n",
    "    for Lx in Lx_list:\n",
    "        nusw1, Ree1, Reh1 = cond_plotter_vs_mu(Nx,Lx,Ls,E_lead,params)\n",
    "#         l= 'Nx=%d, E=%.3f' % (Nx,E_lead)\n",
    "#         l= 'Nx=%d, Ls=%d' % (Nx,Ls)\n",
    "        l= 'Nx=%d, Lx=%d' % (Nx,Lx)\n",
    "        plt.plot(nusw1,Reh1, label=l)\n",
    "#         plt.plot(nusw1,-1/(2.3*Reh1), label=l)\n",
    "#         plt.plot(nusw1,Ree1-Ree1[0], label=l)\n",
    "\n",
    "Nll=4\n",
    "ill=np.arange(Nll)\n",
    "E1=np.reshape(np.sqrt(ill+(m_n/hwc)**2),[1,Nll])\n",
    "Eplot= np.concatenate((E1,E1),axis=0)\n",
    "yvals=np.reshape(np.array([0.5,6]),[2,1])\n",
    "plt.plot( Eplot-gn/hwc,yvals,'k--')\n",
    "plt.plot( Eplot+gn/hwc,yvals,'k--')\n",
    "plt.plot( -Eplot-gn/hwc,yvals,'k--')\n",
    "plt.plot( -Eplot+gn/hwc,yvals,'k--')\n",
    "\n",
    "\n",
    "# plt.plot(Esw1/hwc,Reh1)\n",
    "# plt.plot(Esw1/hwc,Ree1)\n",
    "plt.legend()\n",
    "plt.grid()\n",
    "plt.xlim(0,1.6)\n",
    "# plt.ylim(-1.2,0.1)\n",
    "plt.ylabel(r'$R_{eh}$')\n",
    "plt.xlabel(r'$\\nu$')\n",
    "plt.show()"
   ]
  },
  {
   "cell_type": "code",
   "execution_count": 67,
   "metadata": {},
   "outputs": [
    {
     "name": "stdout",
     "output_type": "stream",
     "text": [
      "[0 1 2 3]\n"
     ]
    }
   ],
   "source": [
    "print(np.arange(4))"
   ]
  },
  {
   "cell_type": "code",
   "execution_count": null,
   "metadata": {},
   "outputs": [],
   "source": []
  }
 ],
 "metadata": {
  "kernelspec": {
   "display_name": "Python 3",
   "language": "python",
   "name": "python3"
  },
  "language_info": {
   "codemirror_mode": {
    "name": "ipython",
    "version": 3
   },
   "file_extension": ".py",
   "mimetype": "text/x-python",
   "name": "python",
   "nbconvert_exporter": "python",
   "pygments_lexer": "ipython3",
   "version": "3.7.3"
  }
 },
 "nbformat": 4,
 "nbformat_minor": 2
}
