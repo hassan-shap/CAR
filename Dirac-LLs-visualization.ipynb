{
 "cells": [
  {
   "cell_type": "code",
   "execution_count": 1,
   "metadata": {},
   "outputs": [],
   "source": [
    "import numpy as np\n",
    "from math import pi, sqrt, tanh\n",
    "import matplotlib.pyplot as plt\n",
    "from scipy.linalg import block_diag\n",
    "from ipywidgets import interact"
   ]
  },
  {
   "cell_type": "code",
   "execution_count": 2,
   "metadata": {
    "scrolled": true
   },
   "outputs": [
    {
     "name": "stdout",
     "output_type": "stream",
     "text": [
      "Done!\n"
     ]
    }
   ],
   "source": [
    "hbar=1.05e-34\n",
    "elec=1.6e-19\n",
    "meV=elec*1e-3\n",
    "\n",
    "vF=1e6\n",
    "B=10 # Tesla\n",
    "hwc=vF*sqrt(2*hbar*elec*B)\n",
    "lB=np.sqrt(hbar/(elec*B))\n",
    "\n",
    "ky_sw=np.linspace(-12,6,140)/lB\n",
    "\n",
    "\n",
    "Ld=6*lB\n",
    "Lx=6*lB\n",
    "Nx=100\n",
    "kx=2*pi*np.arange(Nx)/(2*Lx)-pi*Nx/(2*Lx)\n",
    "[k1,k2]=2*pi*np.mgrid[range(Nx),range(Nx)]/(2*Lx)-pi*Nx/(2*Lx)\n",
    "\n",
    "\n",
    "def y2(k):\n",
    "    with np.errstate(divide='ignore', invalid='ignore'):\n",
    "        c= (2*k*np.cos(k*Ld)+(-2+k**2 * Ld**2)*np.sin(k*Ld))/ (k**3) /Lx\n",
    "        c[ ~ np.isfinite( c )] = Ld**3 /(3*Lx)\n",
    "    return c\n",
    "\n",
    "def y1(k):\n",
    "    with np.errstate(divide='ignore', invalid='ignore'):\n",
    "        c = 1j*(-k*Ld*np.cos(k*Ld)+np.sin(k*Ld))/ (k**2) /Lx\n",
    "        c[ ~ np.isfinite( c )] = Ld**2/(2*Lx)\n",
    "    return c\n",
    "\n",
    "def y0(k):\n",
    "    with np.errstate(divide='ignore', invalid='ignore'):\n",
    "        c = np.sin(k*Ld)/(k*Lx)\n",
    "        c[ ~ np.isfinite( c )] = Ld/Lx\n",
    "    return c\n",
    "\n",
    "sigma0=np.array([[1,0],[0,1]])\n",
    "sigma1=np.array([[0,1],[1,0]])\n",
    "sigma2=np.array([[0,-1j],[1j,0]])\n",
    "sigma3=np.array([[1,0],[0,-1]])\n",
    "\n",
    "HeB= -vF*elec*B* np.kron(y1(k1-k2)-Ld*y0(k1-k2), sigma1)\n",
    "Hxd= hbar*vF*np.kron(k1*y0(k1-k2) , sigma2)\n",
    "# Hxd= hbar*vF*np.kron(np.diag(kx) , sigma2)\n",
    "\n",
    "En=np.zeros((2*Nx,len(ky_sw)))\n",
    "Vn=np.zeros((2*Nx,2*Nx,len(ky_sw)), dtype=np.complex64)\n",
    "for i_y in range(len(ky_sw)):\n",
    "    ky=ky_sw[i_y]\n",
    "#     Hyd= np.kron(hbar*vF*ky*y0(k1-k2), sigma1)\n",
    "    Hyd= np.kron(hbar*vF*ky*np.eye(Nx), sigma1)\n",
    "\n",
    "\n",
    "    H_t = Hxd + (Hyd + HeB)\n",
    "#     H_t = Hxq + Hyq + Hxd + (Hyd + HeB + np.transpose(HeB).conj())\n",
    "#     H_t = Hx + Hy + HeB + np.transpose(HeB).conj()\n",
    "#     H1T=Hx+Hy+(HeB2T+HeB1T+HefT).conj()\n",
    "#     Hd_mat=np.kron(np.array([[0.,1.0],[0.,0.]]),Hd)\n",
    "#     H_t=block_diag(H1,-H1T)+Hd_mat+np.transpose(Hd_mat).conj()\n",
    "    En[:,i_y], Vn[:,:,i_y] =np.linalg.eigh(H_t)\n",
    "    \n",
    "print(\"Done!\")"
   ]
  },
  {
   "cell_type": "code",
   "execution_count": 3,
   "metadata": {},
   "outputs": [
    {
     "data": {
      "image/png": "[encoded data removed]",
      "text/plain": [
       "<Figure size 432x288 with 2 Axes>"
      ]
     },
     "metadata": {
      "needs_background": "light"
     },
     "output_type": "display_data"
    }
   ],
   "source": [
    "def wf_real_space(ev,k,x,Lx):\n",
    "    Nx=len(k)\n",
    "    kt=np.reshape(k,[1,Nx])\n",
    "    xt=np.reshape(x,[len(x),1])\n",
    "    return np.dot(np.exp(1j*kt*(xt)),ev[::2,:])/np.sqrt(2*Lx)*np.sqrt(x[1]-x[0]),\\\n",
    "        np.dot(np.exp(1j*kt*(xt)),ev[1::2,:])/np.sqrt(2*Lx)*np.sqrt(x[1]-x[0])\n",
    "\n",
    "def plot_wf(i_band=Nx,iwf=int(3*len(ky_sw)/4)):\n",
    "# iwf=0\n",
    "    plt.figure()\n",
    "    plt.subplot(2,1,1)\n",
    "    plt.plot(ky_sw*lB,En.T/hwc,'b')\n",
    "    plt.plot(ky_sw[iwf]*lB,En[i_band,iwf]/hwc,'ro')\n",
    "    plt.ylabel(\"Energy(meV)\")\n",
    "    plt.xlabel(\"X(l)\")\n",
    "    plt.ylim(-2,2)\n",
    "    # plt.xlim(-7.5,7.5)\n",
    "    plt.grid()\n",
    "#     plt.show()\n",
    "\n",
    "    x0=np.linspace(-1,0,500)*8*lB\n",
    "    wf1,wf2=wf_real_space(np.reshape(Vn[:,i_band,:],[2*Nx,len(ky_sw)]),kx,x0,Lx)\n",
    "#     plt.figure()\n",
    "    plt.subplot(2,1,2)\n",
    "    plt.plot(x0/lB,np.abs(wf1[:,iwf])**2)\n",
    "    plt.plot(x0/lB,np.abs(wf2[:,iwf])**2)\n",
    "#     plt.title('ky=%.2f' % (ky_sw[iwf]*lB) )\n",
    "    plt.show()\n",
    "    \n",
    "plot_wf(0,0)"
   ]
  },
  {
   "cell_type": "code",
   "execution_count": 75,
   "metadata": {},
   "outputs": [
    {
     "data": {
      "application/vnd.jupyter.widget-view+json": {
       "model_id": "92e583e19a574b568e8bef03065aceb0",
       "version_major": 2,
       "version_minor": 0
      },
      "text/plain": [
       "interactive(children=(Dropdown(description='i_band', index=3, options=(97, 98, 99, 100, 101, 102, 103), value=…"
      ]
     },
     "metadata": {},
     "output_type": "display_data"
    }
   ],
   "source": [
    "interact(plot_wf,iwf=(0,len(ky_sw)-1,1), i_band=range(Nx-3,Nx+4));\n",
    "#, continuous_update=False);"
   ]
  },
  {
   "cell_type": "code",
   "execution_count": null,
   "metadata": {},
   "outputs": [],
   "source": [
    "pyplot.figure()\n",
    "# pyplot.plot(ky_sw/1e9,En.T/meV)\n",
    "pyplot.plot(ky_sw*lB,En.T/hwc)\n",
    "pyplot.ylabel(\"Energy(meV)\")\n",
    "# pyplot.xlabel(\"ky(1/nm)\")\n",
    "pyplot.xlabel(\"X(l)\")\n",
    "pyplot.ylim(0,10)\n",
    "# pyplot.xlim(-7.5,7.5)\n",
    "pyplot.grid()\n",
    "pyplot.show()"
   ]
  },
  {
   "cell_type": "code",
   "execution_count": null,
   "metadata": {},
   "outputs": [],
   "source": [
    "a=np.reshape(range(4),[2,2])\n",
    "b=np.reshape(range(4,8),[2,2])\n",
    "Hd=sigma2+1j*sigma3\n",
    "x=block_diag(a,b)+np.kron(np.array([[0.,1.0],[0.,0.]]),Hd)+np.kron(np.array([[0.,0.],[1.0,0.]]),np.transpose(Hd).conj())\n",
    "print(x)"
   ]
  },
  {
   "cell_type": "code",
   "execution_count": null,
   "metadata": {},
   "outputs": [],
   "source": [
    "print(D_sc/meV)"
   ]
  },
  {
   "cell_type": "code",
   "execution_count": null,
   "metadata": {},
   "outputs": [],
   "source": []
  }
 ],
 "metadata": {
  "kernelspec": {
   "display_name": "Python 3",
   "language": "python",
   "name": "python3"
  },
  "language_info": {
   "codemirror_mode": {
    "name": "ipython",
    "version": 3
   },
   "file_extension": ".py",
   "mimetype": "text/x-python",
   "name": "python",
   "nbconvert_exporter": "python",
   "pygments_lexer": "ipython3",
   "version": "3.7.3"
  }
 },
 "nbformat": 4,
 "nbformat_minor": 2
}
