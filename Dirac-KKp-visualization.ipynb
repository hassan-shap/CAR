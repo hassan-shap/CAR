{
 "cells": [
  {
   "cell_type": "code",
   "execution_count": 1,
   "metadata": {},
   "outputs": [],
   "source": [
    "import numpy as np\n",
    "from math import pi, sqrt, tanh\n",
    "import matplotlib.pyplot as plt\n",
    "from scipy.linalg import block_diag\n",
    "from ipywidgets import interact"
   ]
  },
  {
   "cell_type": "code",
   "execution_count": 6,
   "metadata": {
    "scrolled": true
   },
   "outputs": [
    {
     "name": "stdout",
     "output_type": "stream",
     "text": [
      "Done!\n"
     ]
    }
   ],
   "source": [
    "hbar=1.05e-34\n",
    "elec=1.6e-19\n",
    "meV=elec*1e-3\n",
    "\n",
    "vF=1e6\n",
    "B=10 # Tesla\n",
    "hwc=vF*sqrt(2*hbar*elec*B)\n",
    "lB=np.sqrt(hbar/(elec*B))\n",
    "m_sc=3*hwc #1e2*meV\n",
    "mu_sc=0*hwc #1e2*meV\n",
    "nu=0.#sqrt(2)+0.1\n",
    "m_n= 0.*hwc\n",
    "mu_n=nu*hwc #10*meV\n",
    "ky_sw=np.linspace(-3,10,50)/lB\n",
    "\n",
    "\n",
    "Ls=0*lB\n",
    "Lx=8*lB\n",
    "Nx=200\n",
    "kx=2*pi*np.arange(Nx)/(2*Lx+Ls)-pi*Nx/(2*Lx+Ls)\n",
    "[k1,k2]=2*pi*np.mgrid[range(Nx),range(Nx)]/(2*Lx+Ls)-pi*Nx/(2*Lx+Ls)\n",
    "\n",
    "\n",
    "def y2(k):\n",
    "    with np.errstate(divide='ignore', invalid='ignore'):\n",
    "        c= np.exp(1j*k*Ls/2)*(-2j+np.exp(1j*k*Lx)*(2j+ 2*k*Lx- 1j* k**2 * Lx**2))/ (k**3) /(2*Lx+Ls)\n",
    "        c[ ~ np.isfinite( c )] = Lx**3 /(3*(2*Lx+Ls))\n",
    "    return c\n",
    "\n",
    "def y1(k):\n",
    "    with np.errstate(divide='ignore', invalid='ignore'):\n",
    "        c = np.exp(1j*k*Ls/2)*(-1+np.exp(1j*k*Lx)*(1- 1j* k * Lx))/ (k**2) /(2*Lx+Ls)\n",
    "        c[ ~ np.isfinite( c )] = Lx**2 /(2*(2*Lx+Ls))\n",
    "    return c\n",
    "\n",
    "def y0(k):\n",
    "    with np.errstate(divide='ignore', invalid='ignore'):\n",
    "        c = -1j*np.exp(1j*k*Ls/2)*(-1+np.exp(1j*k*Lx) )/(k*(2*Lx+Ls))\n",
    "        c[ ~ np.isfinite( c )] = Lx /(2*Lx+Ls)\n",
    "    return c\n",
    "\n",
    "def y0s(k):\n",
    "    with np.errstate(divide='ignore', invalid='ignore'):\n",
    "        c = 2*np.sin(k*Ls/2)/(k*(2*Lx+Ls))\n",
    "        c[ ~ np.isfinite( c )] = Ls /(2*Lx+Ls)\n",
    "    return c\n",
    "\n",
    "sigma0=np.array([[1,0],[0,1]])\n",
    "sigma1=np.array([[0,1],[1,0]])\n",
    "sigma2=np.array([[0,-1j],[1j,0]])\n",
    "sigma3=np.array([[1,0],[0,-1]])\n",
    "\n",
    "Hx= hbar*vF*np.kron(np.diag(kx) , sigma1)\n",
    "HeB= -2*vF*elec*B* np.kron(np.real(y1(k1-k2)), sigma2)\n",
    "\n",
    "Hxm= np.kron( y0s(k1-k2) , m_sc*sigma3 )+ np.kron( 2*np.real(y0(k1-k2)) , m_n*sigma3)\n",
    "Hef= -np.kron( 2*mu_n*np.real(y0(k1-k2)) + mu_sc*y0s(k1-k2), sigma0 )\n",
    "\n",
    "Vn=np.zeros((2*Nx,2*Nx,len(ky_sw)), dtype=np.complex64)\n",
    "En=np.zeros((2*Nx,len(ky_sw)))\n",
    "for i_y in range(len(ky_sw)):\n",
    "    ky=ky_sw[i_y]\n",
    "    Hy= np.kron(hbar*vF*ky*np.eye(Nx), sigma2)\n",
    "\n",
    "    H_t = Hx +Hy + HeB + Hxm + Hef    \n",
    "    En[:,i_y], Vn[:,:,i_y] =np.linalg.eigh(H_t)\n",
    "\n",
    "print(\"Done!\")"
   ]
  },
  {
   "cell_type": "code",
   "execution_count": 7,
   "metadata": {},
   "outputs": [],
   "source": [
    "def wf_real_space(ev,k,x,Lx):\n",
    "    Nx=len(k)\n",
    "    kt=np.reshape(k,[1,Nx])\n",
    "    xt=np.reshape(x,[len(x),1]) #*np.sqrt(x[1]-x[0]),\n",
    "    return np.dot(np.exp(1j*kt*xt),ev[0:2*Nx:2,:])/np.sqrt(2*Lx)*np.sqrt(x[1]-x[0]),\\\n",
    "           np.dot(np.exp(1j*kt*xt),ev[1:2*Nx:2,:])/np.sqrt(2*Lx)*np.sqrt(x[1]-x[0])\n",
    "\n",
    "def plot_wf(i_band=Nx,\n",
    "            iwf=int(3*len(ky_sw)/4)):\n",
    "# iwf=0\n",
    "    plt.figure()\n",
    "    plt.subplot(2,1,1)\n",
    "    plt.plot(ky_sw*lB,En.T/hwc,'b')\n",
    "    plt.plot(ky_sw[iwf]*lB,En[i_band,iwf]/hwc,'ro')\n",
    "    plt.ylabel(\"Energy(meV)\")\n",
    "    plt.xlabel(\"X(l)\")\n",
    "    plt.ylim(-2,2)\n",
    "    # plt.xlim(-7.5,7.5)\n",
    "    plt.grid()\n",
    "#     plt.show()\n",
    "\n",
    "    x0=np.linspace(-1,1,500)*14*lB\n",
    "    wf_a,wf_b=wf_real_space(np.reshape(Vn[:,i_band,:],[2*Nx,len(ky_sw)]),kx,x0,Lx)\n",
    "#     plt.figure()\n",
    "    plt.subplot(2,1,2)\n",
    "    plt.plot(x0/lB,np.abs(wf_a[:,iwf])**2,label=r'$eA\\uparrow$')\n",
    "    plt.plot(x0/lB,np.abs(wf_b[:,iwf])**2,label=r'$eB\\uparrow$')\n",
    "    plt.title('ky=%.2f' % (ky_sw[iwf]*lB) )\n",
    "    plt.legend()\n",
    "#     plt.ylim(0,8e7)\n",
    "    plt.show()"
   ]
  },
  {
   "cell_type": "code",
   "execution_count": 8,
   "metadata": {},
   "outputs": [
    {
     "data": {
      "application/vnd.jupyter.widget-view+json": {
       "model_id": "4b7f32c2624245f3b7445398b2b6eaf2",
       "version_major": 2,
       "version_minor": 0
      },
      "text/plain": [
       "interactive(children=(Dropdown(description='i_band', index=3, options=(197, 198, 199, 200, 201, 202), value=20…"
      ]
     },
     "metadata": {},
     "output_type": "display_data"
    }
   ],
   "source": [
    "interact(plot_wf,iwf=(0,len(ky_sw)-1,1), i_band=range(Nx-int(nu**2)-3,Nx+int(nu**2)+3));\n",
    "#, continuous_update=False);"
   ]
  },
  {
   "cell_type": "code",
   "execution_count": 61,
   "metadata": {},
   "outputs": [
    {
     "data": {
      "image/png": "[encoded data removed]",
      "text/plain": [
       "<Figure size 432x288 with 1 Axes>"
      ]
     },
     "metadata": {
      "needs_background": "light"
     },
     "output_type": "display_data"
    }
   ],
   "source": [
    "gn=0.\n",
    "plt.figure()\n",
    "# plt.plot(ky_sw/1e9,En.T/meV)\n",
    "plt.plot(ky_sw*lB,En.T/hwc+gn,'b')\n",
    "# plt.plot(ky_sw*lB,En.T/hwc-gn,'b')\n",
    "plt.ylabel(\"Energy(meV)\")\n",
    "# plt.xlabel(\"ky(1/nm)\")\n",
    "\n",
    "Nll=4\n",
    "ill=np.arange(Nll)\n",
    "E1=np.reshape(np.sqrt(ill+(m_n/hwc)**2),[1,Nll])\n",
    "Eplot= np.concatenate((E1,E1),axis=0)\n",
    "xvals=np.reshape(np.array([0.5,6]),[2,1])\n",
    "plt.plot(xvals, Eplot-gn,'k--')\n",
    "plt.plot(xvals, Eplot+gn,'k--')\n",
    "plt.plot(xvals, -Eplot-gn,'k--')\n",
    "plt.plot(xvals, -Eplot+gn,'k--')\n",
    "\n",
    "\n",
    "plt.xlabel(\"X(l)\")\n",
    "plt.ylim(-0.2,2.6)\n",
    "# plt.xlim(-7.5,7.5)\n",
    "plt.grid()\n",
    "plt.show()\n",
    "\n"
   ]
  },
  {
   "cell_type": "code",
   "execution_count": 94,
   "metadata": {},
   "outputs": [
    {
     "name": "stdout",
     "output_type": "stream",
     "text": [
      "Done!\n"
     ]
    }
   ],
   "source": [
    "hbar=1.05e-34\n",
    "elec=1.6e-19\n",
    "meV=elec*1e-3\n",
    "\n",
    "vF=1e6\n",
    "B=10 # Tesla\n",
    "hwc=vF*sqrt(2*hbar*elec*B)\n",
    "lB=np.sqrt(hbar/(elec*B))\n",
    "m_sc=3*hwc #1e2*meV\n",
    "mu_sc=0*hwc #1e2*meV\n",
    "nu=0#sqrt(2)+0.1\n",
    "mu_n=nu*hwc #10*meV\n",
    "m_n=0.*hwc\n",
    "\n",
    "ky_sw=np.linspace(-3,8,100)/lB\n",
    "\n",
    "Ls=0*lB\n",
    "Lx=8*lB\n",
    "Nx=100\n",
    "kx=2*pi*np.arange(Nx)/(Lx+Ls)-pi*Nx/(Lx+Ls)\n",
    "[k1,k2]=2*pi*np.mgrid[range(Nx),range(Nx)]/(Lx+Ls)-pi*Nx/(Lx+Ls)\n",
    "\n",
    "\n",
    "def y2(k):\n",
    "    with np.errstate(divide='ignore', invalid='ignore'):\n",
    "        c= np.exp(1j*k*Ls/2)*(-2j+np.exp(1j*k*Lx)*(2j+ 2*k*Lx- 1j* k**2 * Lx**2))/ (k**3) /(2*Lx+Ls)\n",
    "        c[ ~ np.isfinite( c )] = Lx**3 /(3*(Lx+Ls))\n",
    "    return c\n",
    "\n",
    "def y1(k):\n",
    "    with np.errstate(divide='ignore', invalid='ignore'):\n",
    "        c = np.exp(1j*k*Ls/2)*(-1+np.exp(1j*k*Lx)*(1- 1j* k * Lx))/ (k**2) /(Lx+Ls)\n",
    "        c[ ~ np.isfinite( c )] = Lx**2 /(2*(Lx+Ls))\n",
    "    return c\n",
    "\n",
    "def y0(k):\n",
    "    with np.errstate(divide='ignore', invalid='ignore'):\n",
    "        c = -1j*np.exp(1j*k*Ls/2)*(-1+np.exp(1j*k*Lx) )/(k*(Lx+Ls))\n",
    "        c[ ~ np.isfinite( c )] = Lx /(Lx+Ls)\n",
    "    return c\n",
    "\n",
    "def y0s(k):\n",
    "    with np.errstate(divide='ignore', invalid='ignore'):\n",
    "        c = 2*np.sin(k*Ls/2)/(k*(Lx+Ls))\n",
    "        c[ ~ np.isfinite( c )] = Ls /(Lx+Ls)\n",
    "    return c\n",
    "\n",
    "sigma0=np.array([[1,0],[0,1]])\n",
    "sigma1=np.array([[0,1],[1,0]])\n",
    "sigma2=np.array([[0,-1j],[1j,0]])\n",
    "sigma3=np.array([[1,0],[0,-1]])\n",
    "s00=np.kron(sigma0,sigma0)\n",
    "s30=np.kron(sigma3,sigma0)\n",
    "s01=np.kron(sigma0,sigma1)\n",
    "s02=np.kron(sigma0,sigma2)\n",
    "\n",
    "\n",
    "Hx= hbar*vF*np.kron(sigma3, np.kron(np.diag(kx) , sigma1))\n",
    "HeB= -vF*elec*B* np.kron(y1(k1-k2), sigma2)\n",
    "\n",
    "Hxm= np.kron( m_sc*y0s(k1-k2)+ m_n*y0(k1-k2) , sigma3)\n",
    "\n",
    "Hef= -np.kron( mu_n*y0(k1-k2) + mu_sc*y0s(k1-k2), sigma0 )\n",
    "\n",
    "Vn=np.zeros((4*Nx,4*Nx,len(ky_sw)), dtype=np.complex64)\n",
    "En=np.zeros((4*Nx,len(ky_sw)))\n",
    "for i_y in range(len(ky_sw)):\n",
    "    ky=ky_sw[i_y]\n",
    "    Hy= hbar*vF*ky*np.kron(np.eye(Nx), sigma2)\n",
    "\n",
    "    H_t = Hx + np.kron(sigma0, Hy+ HeB + Hxm + Hef)\n",
    "    En[:,i_y], Vn[:,:,i_y] =np.linalg.eigh(H_t)\n",
    "\n",
    "\n",
    "print(\"Done!\")"
   ]
  },
  {
   "cell_type": "code",
   "execution_count": 95,
   "metadata": {},
   "outputs": [
    {
     "data": {
      "image/png": "[encoded data removed]",
      "text/plain": [
       "<Figure size 432x288 with 1 Axes>"
      ]
     },
     "metadata": {
      "needs_background": "light"
     },
     "output_type": "display_data"
    }
   ],
   "source": [
    "gn=0.\n",
    "plt.figure()\n",
    "# plt.plot(ky_sw/1e9,En.T/meV)\n",
    "plt.plot(ky_sw*lB,En.T/hwc+gn,'b')\n",
    "# plt.plot(ky_sw*lB,En.T/hwc-gn,'b')\n",
    "plt.ylabel(\"Energy(meV)\")\n",
    "# plt.xlabel(\"ky(1/nm)\")\n",
    "\n",
    "Nll=4\n",
    "ill=np.arange(Nll)\n",
    "E1=np.reshape(np.sqrt(ill+(m_n/hwc)**2),[1,Nll])\n",
    "Eplot= np.concatenate((E1,E1),axis=0)\n",
    "xvals=np.reshape(np.array([0.5,6]),[2,1])\n",
    "plt.plot(xvals, Eplot-gn,'k--')\n",
    "plt.plot(xvals, Eplot+gn,'k--')\n",
    "plt.plot(xvals, -Eplot-gn,'k--')\n",
    "plt.plot(xvals, -Eplot+gn,'k--')\n",
    "\n",
    "\n",
    "plt.xlabel(\"X(l)\")\n",
    "plt.ylim(-1.6,1.6)\n",
    "# plt.xlim(-7.5,7.5)\n",
    "plt.grid()\n",
    "plt.show()"
   ]
  },
  {
   "cell_type": "code",
   "execution_count": null,
   "metadata": {},
   "outputs": [],
   "source": []
  }
 ],
 "metadata": {
  "kernelspec": {
   "display_name": "Python 3",
   "language": "python",
   "name": "python3"
  },
  "language_info": {
   "codemirror_mode": {
    "name": "ipython",
    "version": 3
   },
   "file_extension": ".py",
   "mimetype": "text/x-python",
   "name": "python",
   "nbconvert_exporter": "python",
   "pygments_lexer": "ipython3",
   "version": "3.7.3"
  }
 },
 "nbformat": 4,
 "nbformat_minor": 2
}
