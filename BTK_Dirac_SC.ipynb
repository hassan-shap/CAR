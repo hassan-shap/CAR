{
 "cells": [
  {
   "cell_type": "code",
   "execution_count": 16,
   "metadata": {},
   "outputs": [],
   "source": [
    "import numpy as np\n",
    "import scipy as sp\n",
    "from math import pi, tanh\n",
    "from cmath import sqrt\n",
    "import matplotlib.pyplot as plt\n",
    "from scipy.linalg import block_diag\n",
    "from ipywidgets import interact"
   ]
  },
  {
   "cell_type": "code",
   "execution_count": 150,
   "metadata": {},
   "outputs": [],
   "source": [
    "hbar=1.05e-34\n",
    "elec=1.6e-19\n",
    "meV=elec*1e-3\n",
    "\n",
    "vF=1e6\n",
    "B=10 # Tesla\n",
    "hwc=vF*sqrt(2*hbar*elec*B)\n",
    "lB=np.sqrt(hbar/(elec*B))\n",
    "m_sc=10*hwc #1e2*meV\n",
    "mu_sc=10.1*hwc #1e2*meV\n",
    "D_sc=0.5*hwc #10*meV\n",
    "nu=0.01#sqrt(2)+0.1\n",
    "mu_n=nu*hwc #10*meV\n",
    "\n",
    "lambd=.0*vF\n",
    "gs=0.*hwc\n",
    "gn=0.1*hwc\n",
    "\n",
    "\n",
    "Ls=20*lB\n",
    "Lx=12*lB\n",
    "Nx=200\n",
    "kx=2*pi*np.arange(Nx)/(2*Lx+Ls)-pi*Nx/(2*Lx+Ls)\n",
    "[k1,k2]=2*pi*np.mgrid[range(Nx),range(Nx)]/(2*Lx+Ls)-pi*Nx/(2*Lx+Ls)\n",
    "\n",
    "\n",
    "def y2(k):\n",
    "    with np.errstate(divide='ignore', invalid='ignore'):\n",
    "        c= np.exp(1j*k*Ls/2)*(-2j+np.exp(1j*k*Lx)*(2j+ 2*k*Lx- 1j* k**2 * Lx**2))/ (k**3) /(2*Lx+Ls)\n",
    "        c[ ~ np.isfinite( c )] = Lx**3 /(3*(2*Lx+Ls))\n",
    "    return c\n",
    "\n",
    "def y1(k):\n",
    "    with np.errstate(divide='ignore', invalid='ignore'):\n",
    "        c = np.exp(1j*k*Ls/2)*(-1+np.exp(1j*k*Lx)*(1- 1j* k * Lx))/ (k**2) /(2*Lx+Ls)\n",
    "        c[ ~ np.isfinite( c )] = Lx**2 /(2*(2*Lx+Ls))\n",
    "    return c\n",
    "\n",
    "def y0(k):\n",
    "    with np.errstate(divide='ignore', invalid='ignore'):\n",
    "        c = -1j*np.exp(1j*k*Ls/2)*(-1+np.exp(1j*k*Lx) )/(k*(2*Lx+Ls))\n",
    "        c[ ~ np.isfinite( c )] = Lx /(2*Lx+Ls)\n",
    "    return c\n",
    "\n",
    "def y0s(k):\n",
    "    with np.errstate(divide='ignore', invalid='ignore'):\n",
    "        c = 2*np.sin(k*Ls/2)/(k*(2*Lx+Ls))\n",
    "        c[ ~ np.isfinite( c )] = Ls /(2*Lx+Ls)\n",
    "    return c\n",
    "\n",
    "sigma0=np.array([[1,0],[0,1]])\n",
    "sigma1=np.array([[0,1],[1,0]])\n",
    "sigma2=np.array([[0,-1j],[1j,0]])\n",
    "sigma3=np.array([[1,0],[0,-1]])\n",
    "\n",
    "def E_bands(ky_sw):\n",
    "    Hx= hbar*vF*np.kron(np.diag(kx) , sigma2)\n",
    "    HeB= -2j*vF*elec*B* np.kron(np.imag(y1(k1-k2)), sigma1)\n",
    "    HeBT= -2j*vF*elec*B* np.kron(np.imag(y1(k2-k1)), sigma1)\n",
    "\n",
    "    Hxm= np.kron( y0s(k1-k2) , m_sc*sigma3)\n",
    "    HxmT= np.kron( y0s(k2-k1) , m_sc*sigma3)\n",
    "    Hef= -np.kron( 2*mu_n*np.real(y0(k1-k2)) + mu_sc*y0s(k1-k2), sigma0 )\n",
    "    HefT= -np.kron( 2*mu_n*np.real(y0(k2-k1)) + mu_sc*y0s(k2-k1), sigma0 )\n",
    "\n",
    "    Hd= np.kron(D_sc*y0s(k1-k2),sigma0)\n",
    "    # basis ud,ud\n",
    "    dmat=np.array([[0.,1.],[0.,0.]])\n",
    "    ddmat=np.kron(dmat,np.array([[0.,1.],[-1.,0.]]))\n",
    "    Hd_mat=np.kron(ddmat,Hd)\n",
    "    Hd_mat=Hd_mat+np.transpose(Hd_mat).conj()\n",
    "\n",
    "#     Hlx=hbar*lambd*np.kron(np.array([[0.,-1j],[1j,0.]]), np.kron(k1*y0s(k1-k2),sigma0) )\n",
    "#     HlxT=-hbar*lambd*np.kron(np.array([[0.,-1j],[1j,0.]]), np.kron(k1*y0s(k2-k1),sigma0) )\n",
    "    Hlx=hbar*lambd*np.kron(np.array([[0.,-1j],[1j,0.]]), np.kron( (k1+k2)/2*y0s(k1-k2),sigma0) )\n",
    "    HlxT=-hbar*lambd*np.kron(np.array([[0.,-1j],[1j,0.]]), np.kron((k1+k2)/2*y0s(k2-k1),sigma0) )\n",
    "    Hz_up= -(gs*y0s(k1-k2)+2*gn*np.real(y0(k1-k2)))\n",
    "    Hz= np.kron(np.array([[1,0],[0,-1]]), np.kron(Hz_up,sigma0) )\n",
    "    Hz_upT= -(gs*y0s(k2-k1)+2*gn*np.real(y0(k2-k1)))\n",
    "    HzT= np.kron(np.array([[1,0],[0,-1]]), np.kron(Hz_upT,sigma0) )\n",
    "\n",
    "\n",
    "    En=np.zeros((8*Nx,len(ky_sw)))\n",
    "    for i_y in range(len(ky_sw)):\n",
    "        ky=ky_sw[i_y]\n",
    "        Hy= np.kron(hbar*vF*ky*np.eye(Nx), sigma1)\n",
    "\n",
    "        H1 = Hx +Hy + HeB + Hxm + Hef\n",
    "        H1T = Hx -Hy + (HeBT + HxmT + HefT).conj()\n",
    "\n",
    "    #     Hly=hbar*lambd*ky*np.kron(np.array([[0.,1],[1,0.]]), np.kron(y0s(k1-k2),sigma0) )\n",
    "    #     HlyT=-hbar*lambd*ky*np.kron(np.array([[0.,1],[1,0.]]), np.kron(y0s(k2-k1),sigma0) )\n",
    "\n",
    "    #     H_p=block_diag(H1,H1)+Hlx+Hly+Hz\n",
    "    #     H_pT=block_diag(H1T,H1T)+(HlxT+HlyT+HzT).conj()\n",
    "        H_p=block_diag(H1,H1)+Hlx+Hz\n",
    "        H_pT=block_diag(H1T,H1T)+(HlxT+HzT).conj()\n",
    "\n",
    "        H_t=block_diag(H_p,-H_pT)+Hd_mat\n",
    "        En[:,i_y], __ =np.linalg.eigh(H_t)\n",
    "        \n",
    "    return En\n",
    "\n",
    "ky_sw=np.linspace(-1,1,50)*7/lB\n",
    "Ek = E_bands(ky_sw).T/hwc"
   ]
  },
  {
   "cell_type": "code",
   "execution_count": 142,
   "metadata": {},
   "outputs": [
    {
     "name": "stdout",
     "output_type": "stream",
     "text": [
      "Done!\n"
     ]
    }
   ],
   "source": [
    "Hx= hbar*vF*np.kron(np.diag(kx) , sigma2)\n",
    "HeB= -2j*vF*elec*B* np.kron(np.imag(y1(k1-k2)), sigma1)\n",
    "HeBT= -2j*vF*elec*B* np.kron(np.imag(y1(k2-k1)), sigma1)\n",
    "\n",
    "Hxm= np.kron( y0s(k1-k2) , m_sc*sigma3)\n",
    "HxmT= np.kron( y0s(k2-k1) , m_sc*sigma3)\n",
    "Hef= -np.kron( 2*mu_n*np.real(y0(k1-k2)) + mu_sc*y0s(k1-k2), sigma0 )\n",
    "HefT= -np.kron( 2*mu_n*np.real(y0(k2-k1)) + mu_sc*y0s(k2-k1), sigma0 )\n",
    "\n",
    "Hd= np.kron(D_sc*y0s(k1-k2),sigma0)\n",
    "# basis ud,ud\n",
    "dmat=np.array([[0.,1.],[0.,0.]])\n",
    "ddmat=np.kron(dmat,np.array([[0.,1.],[-1.,0.]]))\n",
    "Hd_mat=np.kron(ddmat,Hd)\n",
    "Hd_mat=Hd_mat+np.transpose(Hd_mat).conj()\n",
    "\n",
    "Hlx=hbar*lambd*np.kron(np.array([[0.,-1j],[1j,0.]]), np.kron( (k1+k2)/2*y0s(k1-k2),sigma0) )\n",
    "HlxT=-hbar*lambd*np.kron(np.array([[0.,-1j],[1j,0.]]), np.kron((k1+k2)/2*y0s(k2-k1),sigma0) )\n",
    "Hz_up= -(gs*y0s(k1-k2)+2*gn*np.real(y0(k1-k2)))\n",
    "Hz= np.kron(np.array([[1,0],[0,-1]]), np.kron(Hz_up,sigma0) )\n",
    "Hz_upT= -(gs*y0s(k2-k1)+2*gn*np.real(y0(k2-k1)))\n",
    "HzT= np.kron(np.array([[1,0],[0,-1]]), np.kron(Hz_upT,sigma0) )\n",
    "\n",
    "H1 = Hx + HeB + Hxm + Hef\n",
    "H1T = Hx + (HeBT + HxmT + HefT).conj()\n",
    "\n",
    "H_p=block_diag(H1,H1)+Hlx+Hz\n",
    "H_pT=block_diag(H1T,H1T)+(HlxT+HzT).conj()\n",
    "H_t= block_diag(H_p,-H_pT)+Hd_mat\n",
    "kmat=np.kron(np.eye(4*Nx),sigma1)\n",
    "    \n",
    "# Esw=np.linspace(-1,1,100)*hwc\n",
    "Esw= [0.05*hwc]\n",
    "Ree=np.zeros(len(Esw))\n",
    "Reh=np.zeros(len(Esw))\n",
    "\n",
    "for i_E in range(len(Esw)):\n",
    "    E=Esw[i_E]/(hbar*vF)*lB\n",
    "    \n",
    "#     Hly=hbar*lambd*ky*np.kron(np.array([[0.,1],[1,0.]]), np.kron(y0s(k1-k2),sigma0) )\n",
    "#     HlyT=-hbar*lambd*ky*np.kron(np.array([[0.,1],[1,0.]]), np.kron(y0s(k2-k1),sigma0) )\n",
    "\n",
    "    evs, evecs = np.linalg.eig( np.dot(kmat,E*np.eye(8*Nx)- H_t/(hbar*vF)*lB ) )\n",
    "\n",
    "#     i_evan= np.where( np.abs(np.imag(evs)) > 1e-5 )[0]\n",
    "#     ie_T= np.where( np.imag(evs[i_evan]) > 0)[0]\n",
    "\n",
    "    ky_max = 4\n",
    "    ky_min = 1e-4\n",
    "    i_prop1= np.where( np.abs(np.imag(evs)) < ky_min )[0]\n",
    "    i_prop2= np.where( np.abs(np.real(evs[i_prop1])) > ky_min )[0]\n",
    "    i_prop3= np.where( np.abs(np.real(evs[i_prop1[i_prop2]])) < ky_max )[0]\n",
    "    Jmat = np.reshape(np.diag(np.dot(np.transpose(evecs).conj(),np.dot(kmat,evecs))),[8*Nx,])\n",
    "    ip_T= np.where( np.real(Jmat[i_prop1[i_prop2[i_prop3]]]) > 0)[0]\n",
    "    i_p= i_prop1[i_prop2[i_prop3[ip_T]]]\n",
    "#     i_p=np.concatenate((i_prop[ip_T],i_evan[ie_T]))\n",
    "    \n",
    "#     print(E/hwc, evs, i_p)\n",
    "    \n",
    "#     evecs= np.dot(evecs,np.diag(1/Jmat**0.5))\n",
    "#     Tevecs = evecs[:,i_p]\n",
    "\n",
    "print(\"Done!\")"
   ]
  },
  {
   "cell_type": "code",
   "execution_count": 151,
   "metadata": {},
   "outputs": [
    {
     "data": {
      "image/png": "[encoded data removed]",
      "text/plain": [
       "<Figure size 432x288 with 1 Axes>"
      ]
     },
     "metadata": {
      "needs_background": "light"
     },
     "output_type": "display_data"
    },
    {
     "data": {
      "image/png": "[encoded data removed]",
      "text/plain": [
       "<Figure size 432x288 with 1 Axes>"
      ]
     },
     "metadata": {
      "needs_background": "light"
     },
     "output_type": "display_data"
    }
   ],
   "source": [
    "plt.figure()\n",
    "plt.plot(np.real(evs), np.imag(evs),'o',markersize=2)\n",
    "plt.plot(np.real(evs[i_p]), np.imag(evs[i_p]),'ro',markersize=2)\n",
    "# plt.xlim(-2,2)\n",
    "plt.ylim(-1,1)\n",
    "# plt.ylim(-1e-4,1e-4)\n",
    "plt.grid()\n",
    "\n",
    "plt.figure()\n",
    "plt.plot(ky_sw*lB,Ek,'b')\n",
    "plt.ylabel(r\"En [$\\Delta$]\")\n",
    "plt.xlabel(r\"$X[l_B]$\")\n",
    "# plt.ylim(-22,22)\n",
    "# plt.ylim(-0.015,0.015)\n",
    "plt.ylim(-0.2,0.2)\n",
    "plt.grid()\n",
    "\n",
    "# print(evs[i_p])"
   ]
  },
  {
   "cell_type": "code",
   "execution_count": 44,
   "metadata": {},
   "outputs": [
    {
     "name": "stdout",
     "output_type": "stream",
     "text": [
      "[]\n"
     ]
    }
   ],
   "source": [
    "# print(Ree,Reh)\n",
    "# print(np.concatenate((ie_T, ip_T)))\n",
    "print(i_p)"
   ]
  },
  {
   "cell_type": "code",
   "execution_count": null,
   "metadata": {},
   "outputs": [],
   "source": [
    "a= np.linalg.norm(H_t-np.matrix(H_t).H)\n",
    "print(a)"
   ]
  }
 ],
 "metadata": {
  "kernelspec": {
   "display_name": "Python 3",
   "language": "python",
   "name": "python3"
  },
  "language_info": {
   "codemirror_mode": {
    "name": "ipython",
    "version": 3
   },
   "file_extension": ".py",
   "mimetype": "text/x-python",
   "name": "python",
   "nbconvert_exporter": "python",
   "pygments_lexer": "ipython3",
   "version": "3.7.3"
  }
 },
 "nbformat": 4,
 "nbformat_minor": 2
}
