{
 "cells": [
  {
   "cell_type": "code",
   "execution_count": 2,
   "metadata": {},
   "outputs": [],
   "source": [
    "import numpy as np\n",
    "from math import pi, sqrt\n",
    "from matplotlib import pyplot\n",
    "from scipy.linalg import block_diag\n",
    "from scipy.optimize import minimize\n",
    "import time\n",
    "from ipywidgets import interact"
   ]
  },
  {
   "cell_type": "code",
   "execution_count": 3,
   "metadata": {
    "scrolled": true
   },
   "outputs": [],
   "source": [
    "hbar=1.05e-34\n",
    "elec=1.6e-19\n",
    "meV=elec*1e-3\n",
    "\n",
    "vF=1e6\n",
    "B=10 # Tesla\n",
    "hwc=vF*sqrt(2*hbar*elec*B)\n",
    "lB=np.sqrt(hbar/(elec*B))\n",
    "m_sc=1*hwc #1e2*meV\n",
    "mu_sc=5*hwc #1e2*meV\n",
    "D_sc=0.5*hwc #10*meV\n",
    "nu=0.4#sqrt(2)+0.1\n",
    "mu_n=nu*hwc #10*meV\n",
    "\n",
    "lambd=.0*vF\n",
    "gs=0.*hwc\n",
    "gn=0.1*hwc\n",
    "\n",
    "Lx=8*lB\n",
    "\n",
    "sigma0=np.array([[1,0],[0,1]])\n",
    "sigma1=np.array([[0,1],[1,0]])\n",
    "sigma2=np.array([[0,-1j],[1j,0]])\n",
    "sigma3=np.array([[1,0],[0,-1]])\n",
    "\n",
    "\n",
    "def system_E_vs_k(k0,Nx=100,U0=0,Ls=Lx):\n",
    "    ky_sw=k0/lB\n",
    "    kx=2*pi*np.arange(Nx)/(2*Lx+Ls)-pi*Nx/(2*Lx+Ls)\n",
    "    [k1,k2]=2*pi*np.mgrid[range(Nx),range(Nx)]/(2*Lx+Ls)-pi*Nx/(2*Lx+Ls)\n",
    "\n",
    "    def y2(k):\n",
    "        with np.errstate(divide='ignore', invalid='ignore'):\n",
    "            c= np.exp(1j*k*Ls/2)*(-2j+np.exp(1j*k*Lx)*(2j+ 2*k*Lx- 1j* k**2 * Lx**2))/ (k**3) /(2*Lx+Ls)\n",
    "            c[ ~ np.isfinite( c )] = Lx**3 /(3*(2*Lx+Ls))\n",
    "        return c\n",
    "\n",
    "    def y1(k):\n",
    "        with np.errstate(divide='ignore', invalid='ignore'):\n",
    "            c = np.exp(1j*k*Ls/2)*(-1+np.exp(1j*k*Lx)*(1- 1j* k * Lx))/ (k**2) /(2*Lx+Ls)\n",
    "            c[ ~ np.isfinite( c )] = Lx**2 /(2*(2*Lx+Ls))\n",
    "        return c\n",
    "\n",
    "    def y0(k):\n",
    "        with np.errstate(divide='ignore', invalid='ignore'):\n",
    "            c = -1j*np.exp(1j*k*Ls/2)*(-1+np.exp(1j*k*Lx) )/(k*(2*Lx+Ls))\n",
    "            c[ ~ np.isfinite( c )] = Lx /(2*Lx+Ls)\n",
    "        return c\n",
    "\n",
    "    def y0s(k):\n",
    "        with np.errstate(divide='ignore', invalid='ignore'):\n",
    "            c = 2*np.sin(k*Ls/2)/(k*(2*Lx+Ls))\n",
    "            c[ ~ np.isfinite( c )] = Ls /(2*Lx+Ls)\n",
    "        return c\n",
    "    \n",
    "    def y0c(k):\n",
    "        with np.errstate(divide='ignore', invalid='ignore'):\n",
    "            c = 4*np.sin(k*Ls/4)**2/(k*(2*Lx+Ls))\n",
    "            c[ ~ np.isfinite( c )] = 0\n",
    "        return c\n",
    "\n",
    "    Hx= hbar*vF*np.kron(np.diag(kx) , sigma2)\n",
    "    HeB= -2j*vF*elec*B* np.kron(np.imag(y1(k1-k2)), sigma1)\n",
    "    HeBT= -2j*vF*elec*B* np.kron(np.imag(y1(k2-k1)), sigma1)\n",
    "\n",
    "    Hxm= np.kron( y0s(k1-k2) , m_sc*sigma3)\n",
    "    HxmT= np.kron( y0s(k2-k1) , m_sc*sigma3)\n",
    "    Hef= -np.kron( 2*mu_n*np.real(y0(k1-k2)) + mu_sc*y0s(k1-k2), sigma0 )\n",
    "    HefT= -np.kron( 2*mu_n*np.real(y0(k2-k1)) + mu_sc*y0s(k2-k1), sigma0 )\n",
    "\n",
    "    Hd= np.kron(D_sc*y0s(k1-k2),sigma0)\n",
    "    # basis ud,ud\n",
    "    dmat=np.array([[0.,1.],[0.,0.]])\n",
    "    ddmat=np.kron(dmat,np.array([[0.,1.],[-1.,0.]]))\n",
    "    Hd_mat=np.kron(ddmat,Hd)\n",
    "    Hd_mat=Hd_mat+np.transpose(Hd_mat).conj()\n",
    "\n",
    "    Hlx=hbar*lambd*np.kron(np.array([[0.,-1j],[1j,0.]]), np.kron(k1*y0s(k1-k2),sigma0) )\n",
    "    HlxT=-hbar*lambd*np.kron(np.array([[0.,-1j],[1j,0.]]), np.kron(k1*y0s(k2-k1),sigma0) )\n",
    "    Hz_up= -(gs*y0s(k1-k2)+2*gn*np.real(y0(k1-k2)))\n",
    "    Hz= np.kron(np.array([[1,0],[0,-1]]), np.kron(Hz_up,sigma0) )\n",
    "    Hz_upT= -(gs*y0s(k2-k1)+2*gn*np.real(y0(k2-k1)))\n",
    "    HzT= np.kron(np.array([[1,0],[0,-1]]), np.kron(Hz_upT,sigma0) )\n",
    "\n",
    "    \n",
    "    En=np.zeros(ky_sw.shape)\n",
    "    for i_k in range(len(ky_sw)):\n",
    "        ky=ky_sw[i_k]\n",
    "        Hy= np.kron(hbar*vF*ky*np.eye(Nx), sigma1)\n",
    "\n",
    "        H1 = Hx +Hy + HeB + Hxm + Hef\n",
    "        H1T = Hx -Hy + (HeBT + HxmT + HefT).conj()\n",
    "\n",
    "#         Hly=hbar*lambd*ky*np.kron(np.array([[0.,1],[1,0.]]), np.kron(y0s(k1-k2),sigma0) )\n",
    "#         HlyT=-hbar*lambd*ky*np.kron(np.array([[0.,1],[1,0.]]), np.kron(y0s(k2-k1),sigma0) )\n",
    "\n",
    "        H_p=block_diag(H1,H1)+Hlx+Hz\n",
    "        H_pT=block_diag(H1T,H1T)+(HlxT+HzT).conj()\n",
    "\n",
    "        H_t=block_diag(H_p,-H_pT)+Hd_mat\n",
    "        Evals, _ =np.linalg.eigh(H_t)\n",
    "        En[i_k]=Evals[4*Nx]/hwc\n",
    "    return En\n",
    "\n",
    "\n",
    "def system_builder(k0,Nx=100,U0=0,Ls=Lx):\n",
    "    ky=k0/lB\n",
    "    kx=2*pi*np.arange(Nx)/(2*Lx+Ls)-pi*Nx/(2*Lx+Ls)\n",
    "    [k1,k2]=2*pi*np.mgrid[range(Nx),range(Nx)]/(2*Lx+Ls)-pi*Nx/(2*Lx+Ls)\n",
    "\n",
    "    def y2(k):\n",
    "        with np.errstate(divide='ignore', invalid='ignore'):\n",
    "            c= np.exp(1j*k*Ls/2)*(-2j+np.exp(1j*k*Lx)*(2j+ 2*k*Lx- 1j* k**2 * Lx**2))/ (k**3) /(2*Lx+Ls)\n",
    "            c[ ~ np.isfinite( c )] = Lx**3 /(3*(2*Lx+Ls))\n",
    "        return c\n",
    "\n",
    "    def y1(k):\n",
    "        with np.errstate(divide='ignore', invalid='ignore'):\n",
    "            c = np.exp(1j*k*Ls/2)*(-1+np.exp(1j*k*Lx)*(1- 1j* k * Lx))/ (k**2) /(2*Lx+Ls)\n",
    "            c[ ~ np.isfinite( c )] = Lx**2 /(2*(2*Lx+Ls))\n",
    "        return c\n",
    "\n",
    "    def y0(k):\n",
    "        with np.errstate(divide='ignore', invalid='ignore'):\n",
    "            c = -1j*np.exp(1j*k*Ls/2)*(-1+np.exp(1j*k*Lx) )/(k*(2*Lx+Ls))\n",
    "            c[ ~ np.isfinite( c )] = Lx /(2*Lx+Ls)\n",
    "        return c\n",
    "\n",
    "    def y0s(k):\n",
    "        with np.errstate(divide='ignore', invalid='ignore'):\n",
    "            c = 2*np.sin(k*Ls/2)/(k*(2*Lx+Ls))\n",
    "            c[ ~ np.isfinite( c )] = Ls /(2*Lx+Ls)\n",
    "        return c\n",
    "\n",
    "    Hx= hbar*vF*np.kron(np.diag(kx) , sigma2)\n",
    "    HeB= -2j*vF*elec*B* np.kron(np.imag(y1(k1-k2)), sigma1)\n",
    "    HeBT= -2j*vF*elec*B* np.kron(np.imag(y1(k2-k1)), sigma1)\n",
    "\n",
    "    Hxm= np.kron( y0s(k1-k2) , m_sc*sigma3)\n",
    "    HxmT= np.kron( y0s(k2-k1) , m_sc*sigma3)\n",
    "    Hef= -np.kron( 2*mu_n*np.real(y0(k1-k2)) + mu_sc*y0s(k1-k2), sigma0 )\n",
    "    HefT= -np.kron( 2*mu_n*np.real(y0(k2-k1)) + mu_sc*y0s(k2-k1), sigma0 )\n",
    "\n",
    "    Hd= np.kron(D_sc*y0s(k1-k2),sigma0)\n",
    "    # basis ud,ud\n",
    "    dmat=np.array([[0.,1.],[0.,0.]])\n",
    "    ddmat=np.kron(dmat,np.array([[0.,1.],[-1.,0.]]))\n",
    "    Hd_mat=np.kron(ddmat,Hd)\n",
    "    Hd_mat=Hd_mat+np.transpose(Hd_mat).conj()\n",
    "\n",
    "    Hlx=hbar*lambd*np.kron(np.array([[0.,-1j],[1j,0.]]), np.kron(k1*y0s(k1-k2),sigma0) )\n",
    "    HlxT=-hbar*lambd*np.kron(np.array([[0.,-1j],[1j,0.]]), np.kron(k1*y0s(k2-k1),sigma0) )\n",
    "    Hz_up= -(gs*y0s(k1-k2)+2*gn*np.real(y0(k1-k2)))\n",
    "    Hz= np.kron(np.array([[1,0],[0,-1]]), np.kron(Hz_up,sigma0) )\n",
    "    Hz_upT= -(gs*y0s(k2-k1)+2*gn*np.real(y0(k2-k1)))\n",
    "    HzT= np.kron(np.array([[1,0],[0,-1]]), np.kron(Hz_upT,sigma0) )\n",
    "\n",
    "\n",
    "    Hy= np.kron(hbar*vF*ky*np.eye(Nx), sigma1)\n",
    "\n",
    "    H1 = Hx +Hy + HeB + Hxm + Hef\n",
    "    H1T = Hx -Hy + (HeBT + HxmT + HefT).conj()\n",
    "\n",
    "#     Hly=hbar*lambd*ky*np.kron(np.array([[0.,1],[1,0.]]), np.kron(y0s(k1-k2),sigma0) )\n",
    "#     HlyT=-hbar*lambd*ky*np.kron(np.array([[0.,1],[1,0.]]), np.kron(y0s(k2-k1),sigma0) )\n",
    " \n",
    "    H_p=block_diag(H1,H1)+Hlx+Hz\n",
    "    H_pT=block_diag(H1T,H1T)+(HlxT+HzT).conj()\n",
    "    \n",
    "    H_t=block_diag(H_p,-H_pT)+Hd_mat\n",
    "\n",
    "    \n",
    "    En, Vs =np.linalg.eigh(H_t)\n",
    "\n",
    "    return kx,En[[4*Nx-1,4*Nx]],Vs[:,[4*Nx-1,4*Nx]]\n",
    "\n",
    "def wf_real_space(ev,k,x,Ls):\n",
    "    Nx=len(k)\n",
    "    kt=np.reshape(k,[1,Nx])\n",
    "    xt=np.reshape(x,[len(x),1])\n",
    "    \n",
    "    ev_p= ev[:4*Nx,:]\n",
    "    ev_h= ev[4*Nx:,:]\n",
    "    ## uA # uB # dA # dB\n",
    "    return np.dot(np.exp(1j*kt*xt),ev_p[0:2*Nx:2,:])/np.sqrt(2*Lx+Ls)*np.sqrt(x[1]-x[0]),\\\n",
    "           np.dot(np.exp(1j*kt*xt),ev_p[1:2*Nx:2,:])/np.sqrt(2*Lx+Ls)*np.sqrt(x[1]-x[0]),\\\n",
    "           np.dot(np.exp(1j*kt*xt),ev_p[2*Nx:4*Nx:2,:])/np.sqrt(2*Lx+Ls)*np.sqrt(x[1]-x[0]),\\\n",
    "           np.dot(np.exp(1j*kt*xt),ev_p[2*Nx+1:4*Nx:2,:])/np.sqrt(2*Lx+Ls)*np.sqrt(x[1]-x[0]),\\\n",
    "           np.dot(np.exp(1j*kt*xt),ev_h[0:2*Nx:2,:])/np.sqrt(2*Lx+Ls)*np.sqrt(x[1]-x[0]),\\\n",
    "           np.dot(np.exp(1j*kt*xt),ev_h[1:2*Nx:2,:])/np.sqrt(2*Lx+Ls)*np.sqrt(x[1]-x[0]),\\\n",
    "           np.dot(np.exp(1j*kt*xt),ev_h[2*Nx:4*Nx:2,:])/np.sqrt(2*Lx+Ls)*np.sqrt(x[1]-x[0]),\\\n",
    "           np.dot(np.exp(1j*kt*xt),ev_h[2*Nx+1:4*Nx:2,:])/np.sqrt(2*Lx+Ls)*np.sqrt(x[1]-x[0])\n",
    "\n"
   ]
  },
  {
   "cell_type": "markdown",
   "metadata": {},
   "source": [
    "Comparison with Andreev Edge state"
   ]
  },
  {
   "cell_type": "code",
   "execution_count": 5,
   "metadata": {},
   "outputs": [
    {
     "name": "stdout",
     "output_type": "stream",
     "text": [
      "Finished, elapsed time = 16 sec\n"
     ]
    }
   ],
   "source": [
    "t_timer=time.time()\n",
    "\n",
    "x0_kmin=1.8#-1.50\n",
    "\n",
    "# Ls_sw=np.linspace(2,10,40)*lB\n",
    "# Ls_sw=np.arange(2,11)*lB\n",
    "Ls_sw=np.array([6])*lB\n",
    "Nx2=200\n",
    "\n",
    "# kmin=x0_kmin-0.2\n",
    "# kmax=x0_kmin+0.2\n",
    "# ky_sw=np.linspace(kmin,kmax,80)\n",
    "ky_sw=np.linspace(0,3,40)#*2.0*np.sign(x0_kmin)\n",
    "Ek2= np.zeros((len(ky_sw),len(Ls_sw)))\n",
    "Eg_mat= np.zeros(len(Ls_sw))\n",
    "\n",
    "Vp= np.zeros((2,len(Ls_sw)), dtype=np.complex64)\n",
    "Vh= np.zeros((2,len(Ls_sw)), dtype=np.complex64)\n",
    "kpt=np.zeros(len(Ls_sw))\n",
    "for i_L in range(len(Ls_sw)):\n",
    "    print(i_L, end='\\r')\n",
    "    Ls=Ls_sw[i_L]\n",
    "    U2=0*hwc\n",
    "\n",
    "#     f2=minimize(system_E_vs_k,x0=x0_kmin,args=(Nx2,U2,Ls))\n",
    "#     kx2,Em,Vm= system_builder(f2.x[0],Nx=Nx2,U0=U2,Ls=Ls)\n",
    "#     kpt[i_L]=f2.x[0]\n",
    "#     Eg_mat[i_L]=f2.fun\n",
    "    Ek2[:,i_L]=system_E_vs_k(k0=ky_sw,Nx=Nx2,U0=0,Ls=Ls)\n",
    "\n",
    "    \n",
    "elapsed = time.time() - t_timer\n",
    "print(\"Finished, elapsed time = %.0f \" % (elapsed)+ \"sec\")"
   ]
  },
  {
   "cell_type": "code",
   "execution_count": 6,
   "metadata": {},
   "outputs": [
    {
     "data": {
      "application/vnd.jupyter.widget-view+json": {
       "model_id": "9c4e41f55ed64a9797b4de4d23635f57",
       "version_major": 2,
       "version_minor": 0
      },
      "text/plain": [
       "interactive(children=(IntSlider(value=0, description='i_L', max=0), Output()), _dom_classes=('widget-interact'…"
      ]
     },
     "metadata": {},
     "output_type": "display_data"
    }
   ],
   "source": [
    "def plot_bands(i_L):\n",
    "    pyplot.figure()\n",
    "    pyplot.plot(ky_sw,Ek2[:,i_L],'b')\n",
    "    pyplot.plot(kpt[i_L],Eg_mat[i_L],'ro')\n",
    "    pyplot.title('L=%.2f' % (Ls_sw[i_L]/lB) )\n",
    "    pyplot.ylabel(\"Energy(meV)\")\n",
    "    pyplot.xlabel(\"X(l)\")\n",
    "    pyplot.show()\n",
    "\n",
    "interact(plot_bands, i_L=(0,len(Ls_sw)-1,1));"
   ]
  },
  {
   "cell_type": "code",
   "execution_count": 10,
   "metadata": {},
   "outputs": [
    {
     "data": {
      "image/png": "[encoded data removed]",
      "text/plain": [
       "<Figure size 432x288 with 1 Axes>"
      ]
     },
     "metadata": {
      "needs_background": "light"
     },
     "output_type": "display_data"
    },
    {
     "data": {
      "image/png": "[encoded data removed]",
      "text/plain": [
       "<Figure size 432x288 with 1 Axes>"
      ]
     },
     "metadata": {
      "needs_background": "light"
     },
     "output_type": "display_data"
    }
   ],
   "source": [
    "pyplot.figure()\n",
    "pyplot.plot(Ls_sw/lB,Eg_mat)\n",
    "# pyplot.plot(Ls_sw/lB,Eb_mat.T/hwc)\n",
    "pyplot.grid()\n",
    "pyplot.xlabel(r\"$L_{sc}/l_B$\")\n",
    "pyplot.ylabel(r\"$E_g$\")\n",
    "pyplot.show()\n",
    "\n",
    "pyplot.figure()\n",
    "pyplot.plot(Ls_sw/lB,kpt)\n",
    "# pyplot.plot(Ls_sw/lB,Eb_mat.T/hwc)\n",
    "pyplot.grid()\n",
    "pyplot.xlabel(r\"$L_{sc}/l_B$\")\n",
    "pyplot.ylabel(r\"$k_0$\")\n",
    "pyplot.show()\n",
    "\n",
    "# ratio=np.tan(abs(np.angle(Vp/Vh).T))**2\n",
    "# pyplot.figure()\n",
    "# # pyplot.plot(Ls_sw/lB,np.mod(np.angle(Vp/Vh).T/pi,1))\n",
    "# pyplot.plot(Ls_sw/lB,np.abs(np.tan(theta)))\n",
    "# # pyplot.plot(Ls_sw/lB,np.abs(Vp).T)\n",
    "# # pyplot.plot(Ls_sw/lB,np.abs(Vh).T)\n",
    "# # pyplot.plot(Ls_sw/lB,np.angle(Vp/Vh).T/pi)\n",
    "# # pyplot.plot(Ls_sw/lB,ratio/(1+ratio))\n",
    "# # pyplot.plot(Ls_sw/lB,Vh)\n",
    "# pyplot.ylim([0.,0.1])\n",
    "# pyplot.grid()\n",
    "# pyplot.ylabel(\"p/h components\")\n",
    "# pyplot.xlabel(r\"$k0*l_B$\")\n",
    "# pyplot.show()\n",
    "# print(np.abs(theta/pi))"
   ]
  },
  {
   "cell_type": "code",
   "execution_count": 92,
   "metadata": {},
   "outputs": [
    {
     "data": {
      "application/vnd.jupyter.widget-view+json": {
       "model_id": "532a0d1912524945b8f475ad7b7add42",
       "version_major": 2,
       "version_minor": 0
      },
      "text/plain": [
       "interactive(children=(IntSlider(value=39, description='i_L', max=79), Output()), _dom_classes=('widget-interac…"
      ]
     },
     "metadata": {},
     "output_type": "display_data"
    }
   ],
   "source": [
    "# f1=minimize(system_E_vs_k,x0=0.8,args=(Nx1,U1,Ls1))\n",
    "# kx1,Eb,Vb= system_builder(1.1*f1.x[0],Nx=Nx1,U0=U1,Ls=Ls1)\n",
    "# wf1_p,wf1_h=wf_real_space(Vb,kx1,x0,Ls1)\n",
    "\n",
    "def plot_wf(i_L):\n",
    "    iwf=0\n",
    "    pyplot.figure()\n",
    "#     pyplot.plot(x0/lB,np.abs(wf1_h)**2/2)\n",
    "#     pyplot.plot(x0/lB,np.abs(wf1_h_arr[:,i_L])**2/2)\n",
    "    pyplot.plot(x0/lB,np.abs(wf2_p_arr[:,iwf,i_L])**2/2)\n",
    "    pyplot.plot(x0/lB,np.abs(wf2_h_arr[:,iwf,i_L])**2/2)\n",
    "#     pyplot.plot(x0/lB,np.real(wf2_p_arr[:,iwf,i_L]))\n",
    "#     pyplot.plot(x0/lB,np.imag(wf2_p_arr[:,iwf,i_L]))\n",
    "#     pyplot.plot(x0/lB,np.real(wf2_h_arr[:,iwf,i_L]))\n",
    "#     pyplot.plot(x0/lB,np.imag(wf2_h_arr[:,iwf,i_L]))\n",
    "#     pyplot.plot(x0/lB,np.abs(wf2_h_arr[:,iwf,i_L])**2)\n",
    "#     pyplot.plot(x0/lB,np.abs(wf2_p[:,iwf,i_L])**2)\n",
    "#     pyplot.plot(x0/lB,np.abs(wf1_h)**2/2)\n",
    "#     pyplot.plot(x0/lB,np.abs(wf2_h[:,iwf,i_L])**2)\n",
    "#     pyplot.plot(x0/lB,np.real(wf1_p))\n",
    "#     pyplot.plot(x0/lB,np.real(wf2_p[:,iwf,i_L]))\n",
    "# #     pyplot.plot(x0/lB,np.abs(wf1_h)**2/2)\n",
    "    pyplot.title('L=%.2f' % (Ls_sw[i_L]/lB) )\n",
    "#     pyplot.ylim([0,0.01])\n",
    "    pyplot.show()\n",
    "    \n",
    "interact(plot_wf, i_L=(0,len(Ls_sw)-1,1));"
   ]
  },
  {
   "cell_type": "code",
   "execution_count": 6,
   "metadata": {
    "scrolled": true
   },
   "outputs": [],
   "source": [
    "Nx1=100\n",
    "U1=100*hwc\n",
    "Ls1=20*lB\n",
    "# x0_kmin=[0.3,0.9,1.50,2.2]\n",
    "x0=np.linspace(-1,1,1000)*20*lB\n",
    "\n",
    "\n",
    "def plot_wf(i_L,x0_kmin):\n",
    "    f1=minimize(system_E_vs_k,x0=x0_kmin,args=(Nx1,U1,Ls1))\n",
    "    print(f1.x[0])\n",
    "    kx1,Eb,Vb= system_builder((1.+0.1*np.sign(f1.x[0]))*f1.x[0],Nx=Nx1,U0=U1,Ls=Ls1)\n",
    "    wf1_p,wf1_h=wf_real_space(Vb,kx1,x0,Ls1)\n",
    "    print(np.linalg.norm(wf1_p))\n",
    "    \n",
    "    iwf=0\n",
    "    pyplot.figure()\n",
    "    pyplot.plot(x0/lB,np.abs(wf1_p[:,iwf])**2/2)\n",
    "    pyplot.plot(x0/lB,np.abs(wf1_h[:,iwf])**2/2)\n",
    "#     pyplot.plot(x0/lB,np.abs(wf1_h)**2/2)\n",
    "#     pyplot.plot(x0/lB,np.abs(wf2_p[:,iwf,i_L])**2)\n",
    "# #     pyplot.plot(x0/lB,np.abs(wf1_h)**2/2)\n",
    "#     pyplot.plot(x0/lB,np.abs(wf2_h[:,iwf,i_L])**2)\n",
    "#     pyplot.plot(x0/lB,np.real(wf1_p))\n",
    "#     pyplot.plot(x0/lB,np.imag(wf1_p))\n",
    "# #     pyplot.plot(x0/lB,np.real(wf2_p[:,iwf,i_L]))\n",
    "# #     pyplot.plot(x0/lB,np.abs(wf1_h)**2/2)\n",
    "#     pyplot.plot(x0/lB,np.imag(wf2_p[:,iwf,i_L]))\n",
    "#     pyplot.title('L=%.2f' % (Ls_sw[i_L]/lB) )\n",
    "#     pyplot.ylim([0,0.004])\n",
    "    pyplot.show()\n",
    "    \n",
    "# interact(plot_wf, i_L=(0,len(Ls_sw)-1,1), x0_kmin=[0.3,0.9,1.50,2.2]);\n",
    "# interact(plot_wf, i_L=(0,len(Ls_sw)-1,1), x0_kmin=[0.5,1.2]);"
   ]
  },
  {
   "cell_type": "code",
   "execution_count": 111,
   "metadata": {},
   "outputs": [
    {
     "name": "stdout",
     "output_type": "stream",
     "text": [
      "0.5214686612135789\n",
      "0.9999978512882425\n"
     ]
    },
    {
     "data": {
      "image/png": "[encoded data removed]",
      "text/plain": [
       "<Figure size 432x288 with 1 Axes>"
      ]
     },
     "metadata": {
      "needs_background": "light"
     },
     "output_type": "display_data"
    }
   ],
   "source": [
    "plot_wf(i_L=0,x0_kmin=0.5)"
   ]
  },
  {
   "cell_type": "code",
   "execution_count": null,
   "metadata": {},
   "outputs": [],
   "source": []
  }
 ],
 "metadata": {
  "kernelspec": {
   "display_name": "Python 3",
   "language": "python",
   "name": "python3"
  },
  "language_info": {
   "codemirror_mode": {
    "name": "ipython",
    "version": 3
   },
   "file_extension": ".py",
   "mimetype": "text/x-python",
   "name": "python",
   "nbconvert_exporter": "python",
   "pygments_lexer": "ipython3",
   "version": "3.5.2"
  }
 },
 "nbformat": 4,
 "nbformat_minor": 2
}
