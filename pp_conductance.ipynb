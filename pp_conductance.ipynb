{
 "cells": [
  {
   "cell_type": "code",
   "execution_count": 3,
   "metadata": {},
   "outputs": [
    {
     "data": {
      "application/vnd.jupyter.widget-view+json": {
       "model_id": "87a4c6391c14491fbf08f61cc00a49b3",
       "version_major": 2,
       "version_minor": 0
      },
      "text/plain": [
       "interactive(children=(IntSlider(value=49, description='Energy_index', max=99), Dropdown(description='SC_width'…"
      ]
     },
     "metadata": {},
     "output_type": "display_data"
    }
   ],
   "source": [
    "import numpy as np\n",
    "from matplotlib import pyplot\n",
    "from ipywidgets import interact\n",
    "import sys\n",
    "\n",
    "Wsc=120\n",
    "W=Wsc+40\n",
    "# Lsc_sw=np.arange(10,50,10)\n",
    "Lsc_sw=np.array([10,20,30,40,80])\n",
    "\n",
    "\n",
    "# parameters\n",
    "mu=0.6\n",
    "mu_sc=1.5\n",
    "phi=0.05\n",
    "U0=0.0 # disorder strength\n",
    "salt=13\n",
    "Delta=0.06\n",
    "t_j=0.6\n",
    "\n",
    "def wf_plot(Energy_index,SC_width):\n",
    "    Lsc=SC_width\n",
    "    L=Lsc+40 # total length of system\n",
    "    out_dir='kw_data_files/'\n",
    "    fname=out_dir+ 'phi_%.2f_mu_%.2f_mus_%.2f_D_%.2f_tj_%.2f_W_%d_L_%d_Ws_%d_Ls_%d.npz' % (phi,mu,mu_sc,Delta,t_j,W,L,Wsc,Lsc)\n",
    "#     vden=0.5\n",
    "#     fname=out_dir+ 'vd_%.2f_phi_%.2f_mu_%.2f_mus_%.2f_D_%.2f_tj_%.2f_W_%d_L_%d_Ws_%d_Ls_%d.npz' % (vden,phi,mu,mu_sc,Delta,t_j,W,L,Wsc,Lsc)\n",
    "    npzfile = np.load(fname)\n",
    "    E_list=npzfile['E_list']\n",
    "    wf_arr=npzfile['wf_arr']\n",
    "    Pe=npzfile['Pe']\n",
    "    Ph=npzfile['Ph']\n",
    "    \n",
    "    i_e=Energy_index\n",
    "    if not sys.warnoptions:\n",
    "        import warnings\n",
    "        warnings.simplefilter(\"ignore\")\n",
    "    ind=0\n",
    "    fig, axes = pyplot.subplots(nrows=1, ncols=2, figsize=(12, 4))\n",
    "    pyplot.subplot(1,2,1)\n",
    "#     pyplot.figure()\n",
    "    Zmat=abs(wf_arr[ind,::2,i_e])**2-abs(wf_arr[ind,1::2,i_e])**2\n",
    "    Zmat_plot=np.fliplr(np.reshape(Zmat,[L,W])).T\n",
    "    pos=pyplot.imshow(Zmat_plot, cmap='RdBu_r')#, aspect=\"auto\",\n",
    "#                                 interpolation='none')\n",
    "    pyplot.clim(-0.5,0.5)\n",
    "#     pyplot.clim(-0.11,0.11)\n",
    "    pyplot.xlabel(\"x\")\n",
    "    pyplot.ylabel(\"y\")\n",
    "    pyplot.title(r\"$E/\\Delta=%.2f$\" % (E_list[i_e]/Delta))\n",
    "    fig.colorbar(pos)\n",
    "    pyplot.subplot(1,2,2)\n",
    "#     pyplot.figure()\n",
    "    pyplot.plot(E_list/Delta, Pe-Ph);\n",
    "    pyplot.plot(E_list[i_e]/Delta, Pe[i_e]-Ph[i_e],'o');\n",
    "    pyplot.xlabel(\"energy [Delta]\")\n",
    "    pyplot.ylabel(r\"$P_e - P_h$\")\n",
    "    pyplot.show()\n",
    "\n",
    "NE=100\n",
    "interact(wf_plot, Energy_index=(0,NE-1,1), SC_width=Lsc_sw );"
   ]
  },
  {
   "cell_type": "code",
   "execution_count": null,
   "metadata": {},
   "outputs": [],
   "source": [
    "import time\n",
    "\n",
    "a=int(time.time())\n",
    "print(a)"
   ]
  },
  {
   "cell_type": "code",
   "execution_count": null,
   "metadata": {},
   "outputs": [],
   "source": []
  }
 ],
 "metadata": {
  "kernelspec": {
   "display_name": "Python 3",
   "language": "python",
   "name": "python3"
  },
  "language_info": {
   "codemirror_mode": {
    "name": "ipython",
    "version": 3
   },
   "file_extension": ".py",
   "mimetype": "text/x-python",
   "name": "python",
   "nbconvert_exporter": "python",
   "pygments_lexer": "ipython3",
   "version": "3.7.3"
  }
 },
 "nbformat": 4,
 "nbformat_minor": 2
}
