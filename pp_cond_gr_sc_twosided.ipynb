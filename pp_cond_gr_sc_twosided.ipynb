{
 "cells": [
  {
   "cell_type": "code",
   "execution_count": 1,
   "metadata": {},
   "outputs": [
    {
     "data": {
      "text/plain": [
       "<Figure size 432x288 with 0 Axes>"
      ]
     },
     "metadata": {},
     "output_type": "display_data"
    },
    {
     "name": "stdout",
     "output_type": "stream",
     "text": [
      "Average is computed over 0 reps.\n"
     ]
    }
   ],
   "source": [
    "import numpy as np\n",
    "import matplotlib.pyplot as plt\n",
    "from ipywidgets import interact\n",
    "import sys\n",
    "from os import path\n",
    "\n",
    "avg_dir='kw_avg_data/'\n",
    "out_dir='kw_data_files_dis/'\n",
    "\n",
    "W=40\n",
    "L=30\n",
    "Lsc=10\n",
    "Llead=50\n",
    "# Lsc_sw=np.array([10])\n",
    "\n",
    "# parameters\n",
    "t=1\n",
    "mu=0.18\n",
    "lam=0.5\n",
    "mu_sc= 0.18+t #- 2*lam\n",
    "Delta=0.03\n",
    "t_j=1.0\n",
    "phi=0.0095\n",
    "gs=0.\n",
    "gn=0.04\n",
    "\n",
    "def wf_avg(U0,SC_width):\n",
    "    Lsc=SC_width\n",
    "    Nrep=1\n",
    "    N_avg=0\n",
    "    plt.figure()\n",
    "    for i_r in range(Nrep):\n",
    "        fname= out_dir+ 'twosided_U_%.2f_phi_%.4f_mu_%.2f_mus_%.2f_D_%.2f_tj_%.2f_W_%d_L_%d_Ls_%d_Llead_%d_r_%d.npz' % (U0,phi,mu,mu_sc,Delta,t_j,W,L,Lsc,Llead,i_r)\n",
    "#         fname= out_dir+ 'twosided_U_%.2f_phi_%.4f_mu_%.2f_mus_%.2f_D_%.2f_tj_%.2f_W_%d_L_%d_Ls_%d_r_%d.npz' % (U0,phi,mu,mu_sc,Delta,t_j,W,L,Lsc,i_r)       \n",
    "        if path.exists(fname):\n",
    "            N_avg += 1\n",
    "            npzfile = np.load(fname)\n",
    "            if N_avg==1:\n",
    "                E_list=npzfile['E_list']\n",
    "                Pu=npzfile['Pu']\n",
    "                Pd=npzfile['Pd']\n",
    "                plt.plot(E_list/Delta,npzfile['Pu'].T)\n",
    "                plt.plot(E_list/Delta,npzfile['Pd'].T)\n",
    "            else:\n",
    "                plt.plot(E_list/Delta,npzfile['Pu'].T)\n",
    "                plt.plot(E_list/Delta,npzfile['Pd'].T)\n",
    "                Pu += npzfile['Pu']\n",
    "                Pd += npzfile['Pd']\n",
    "    plt.show()\n",
    "    if N_avg>0:\n",
    "        Pu= Pu/N_avg\n",
    "        Pd= Pd/N_avg\n",
    "        fname=avg_dir+ 'avg_U_%.2f_phi_%.4f_mu_%.2f_mus_%.2f_D_%.2f_tj_%.2f_W_%d_L_%d_Ls_%d.npz' % (U0,phi,mu,mu_sc,Delta,t_j,W,L,Lsc)\n",
    "        np.savez(fname, E_list=E_list, Pu=Pu, Pd=Pd)\n",
    "        \n",
    "    return N_avg\n",
    "\n",
    "# for i_L in range(len(Lsc_sw)):\n",
    "for U0 in [0]:\n",
    "    N_avg= wf_avg(U0,Lsc)\n",
    "    print(\"Average is computed over %d reps.\" % (N_avg) )"
   ]
  },
  {
   "cell_type": "code",
   "execution_count": 2,
   "metadata": {},
   "outputs": [
    {
     "ename": "FileNotFoundError",
     "evalue": "[Errno 2] No such file or directory: 'kw_avg_data/avg_U_0.00_phi_0.0095_mu_0.18_mus_1.18_D_0.03_tj_1.00_W_40_L_30_Ls_10.npz'",
     "output_type": "error",
     "traceback": [
      "\u001b[0;31m---------------------------------------------------------------------------\u001b[0m",
      "\u001b[0;31mFileNotFoundError\u001b[0m                         Traceback (most recent call last)",
      "\u001b[0;32m<ipython-input-2-11de821b38f4>\u001b[0m in \u001b[0;36m<module>\u001b[0;34m\u001b[0m\n\u001b[1;32m     46\u001b[0m \u001b[0;31m# interact(wf_plot, Energy_index=(0,NE-1,1), SC_width=np.array([10]));\u001b[0m\u001b[0;34m\u001b[0m\u001b[0;34m\u001b[0m\u001b[0;34m\u001b[0m\u001b[0m\n\u001b[1;32m     47\u001b[0m \u001b[0mU\u001b[0m\u001b[0;34m=\u001b[0m\u001b[0;34m[\u001b[0m\u001b[0;36m0\u001b[0m\u001b[0;34m,\u001b[0m \u001b[0;36m0.3\u001b[0m\u001b[0;34m,\u001b[0m\u001b[0;36m0.5\u001b[0m\u001b[0;34m,\u001b[0m\u001b[0;36m1.0\u001b[0m\u001b[0;34m]\u001b[0m\u001b[0;34m\u001b[0m\u001b[0;34m\u001b[0m\u001b[0m\n\u001b[0;32m---> 48\u001b[0;31m \u001b[0mwf_plot\u001b[0m\u001b[0;34m(\u001b[0m\u001b[0mU\u001b[0m\u001b[0;34m,\u001b[0m\u001b[0;36m10\u001b[0m\u001b[0;34m)\u001b[0m\u001b[0;34m\u001b[0m\u001b[0;34m\u001b[0m\u001b[0m\n\u001b[0m\u001b[1;32m     49\u001b[0m \u001b[0;34m\u001b[0m\u001b[0m\n",
      "\u001b[0;32m<ipython-input-2-11de821b38f4>\u001b[0m in \u001b[0;36mwf_plot\u001b[0;34m(U, SC_width)\u001b[0m\n\u001b[1;32m      7\u001b[0m     \u001b[0;32mfor\u001b[0m \u001b[0mU0\u001b[0m \u001b[0;32min\u001b[0m \u001b[0mU\u001b[0m\u001b[0;34m:\u001b[0m\u001b[0;34m\u001b[0m\u001b[0;34m\u001b[0m\u001b[0m\n\u001b[1;32m      8\u001b[0m         \u001b[0mfname\u001b[0m\u001b[0;34m=\u001b[0m\u001b[0mavg_dir\u001b[0m\u001b[0;34m+\u001b[0m \u001b[0;34m'avg_U_%.2f_phi_%.4f_mu_%.2f_mus_%.2f_D_%.2f_tj_%.2f_W_%d_L_%d_Ls_%d.npz'\u001b[0m \u001b[0;34m%\u001b[0m \u001b[0;34m(\u001b[0m\u001b[0mU0\u001b[0m\u001b[0;34m,\u001b[0m\u001b[0mphi\u001b[0m\u001b[0;34m,\u001b[0m\u001b[0mmu\u001b[0m\u001b[0;34m,\u001b[0m\u001b[0mmu_sc\u001b[0m\u001b[0;34m,\u001b[0m\u001b[0mDelta\u001b[0m\u001b[0;34m,\u001b[0m\u001b[0mt_j\u001b[0m\u001b[0;34m,\u001b[0m\u001b[0mW\u001b[0m\u001b[0;34m,\u001b[0m\u001b[0mL\u001b[0m\u001b[0;34m,\u001b[0m\u001b[0mLsc\u001b[0m\u001b[0;34m)\u001b[0m\u001b[0;34m\u001b[0m\u001b[0;34m\u001b[0m\u001b[0m\n\u001b[0;32m----> 9\u001b[0;31m         \u001b[0mnpzfile\u001b[0m \u001b[0;34m=\u001b[0m \u001b[0mnp\u001b[0m\u001b[0;34m.\u001b[0m\u001b[0mload\u001b[0m\u001b[0;34m(\u001b[0m\u001b[0mfname\u001b[0m\u001b[0;34m)\u001b[0m\u001b[0;34m\u001b[0m\u001b[0;34m\u001b[0m\u001b[0m\n\u001b[0m\u001b[1;32m     10\u001b[0m         \u001b[0mE_list\u001b[0m\u001b[0;34m=\u001b[0m\u001b[0mnpzfile\u001b[0m\u001b[0;34m[\u001b[0m\u001b[0;34m'E_list'\u001b[0m\u001b[0;34m]\u001b[0m\u001b[0;34m\u001b[0m\u001b[0;34m\u001b[0m\u001b[0m\n\u001b[1;32m     11\u001b[0m         \u001b[0mPu\u001b[0m\u001b[0;34m=\u001b[0m\u001b[0mnpzfile\u001b[0m\u001b[0;34m[\u001b[0m\u001b[0;34m'Pu'\u001b[0m\u001b[0;34m]\u001b[0m\u001b[0;34m\u001b[0m\u001b[0;34m\u001b[0m\u001b[0m\n",
      "\u001b[0;32m~/miniconda3/lib/python3.8/site-packages/numpy/lib/npyio.py\u001b[0m in \u001b[0;36mload\u001b[0;34m(file, mmap_mode, allow_pickle, fix_imports, encoding)\u001b[0m\n\u001b[1;32m    414\u001b[0m             \u001b[0mown_fid\u001b[0m \u001b[0;34m=\u001b[0m \u001b[0;32mFalse\u001b[0m\u001b[0;34m\u001b[0m\u001b[0;34m\u001b[0m\u001b[0m\n\u001b[1;32m    415\u001b[0m         \u001b[0;32melse\u001b[0m\u001b[0;34m:\u001b[0m\u001b[0;34m\u001b[0m\u001b[0;34m\u001b[0m\u001b[0m\n\u001b[0;32m--> 416\u001b[0;31m             \u001b[0mfid\u001b[0m \u001b[0;34m=\u001b[0m \u001b[0mstack\u001b[0m\u001b[0;34m.\u001b[0m\u001b[0menter_context\u001b[0m\u001b[0;34m(\u001b[0m\u001b[0mopen\u001b[0m\u001b[0;34m(\u001b[0m\u001b[0mos_fspath\u001b[0m\u001b[0;34m(\u001b[0m\u001b[0mfile\u001b[0m\u001b[0;34m)\u001b[0m\u001b[0;34m,\u001b[0m \u001b[0;34m\"rb\"\u001b[0m\u001b[0;34m)\u001b[0m\u001b[0;34m)\u001b[0m\u001b[0;34m\u001b[0m\u001b[0;34m\u001b[0m\u001b[0m\n\u001b[0m\u001b[1;32m    417\u001b[0m             \u001b[0mown_fid\u001b[0m \u001b[0;34m=\u001b[0m \u001b[0;32mTrue\u001b[0m\u001b[0;34m\u001b[0m\u001b[0;34m\u001b[0m\u001b[0m\n\u001b[1;32m    418\u001b[0m \u001b[0;34m\u001b[0m\u001b[0m\n",
      "\u001b[0;31mFileNotFoundError\u001b[0m: [Errno 2] No such file or directory: 'kw_avg_data/avg_U_0.00_phi_0.0095_mu_0.18_mus_1.18_D_0.03_tj_1.00_W_40_L_30_Ls_10.npz'"
     ]
    },
    {
     "data": {
      "text/plain": [
       "<Figure size 432x288 with 0 Axes>"
      ]
     },
     "metadata": {},
     "output_type": "display_data"
    }
   ],
   "source": [
    "# U0=0.3\n",
    "\n",
    "# def wf_plot(Energy_index,SC_width):\n",
    "def wf_plot(U,SC_width):\n",
    "    Lsc=SC_width\n",
    "    plt.figure()\n",
    "    for U0 in U:\n",
    "        fname=avg_dir+ 'avg_U_%.2f_phi_%.4f_mu_%.2f_mus_%.2f_D_%.2f_tj_%.2f_W_%d_L_%d_Ls_%d.npz' % (U0,phi,mu,mu_sc,Delta,t_j,W,L,Lsc)\n",
    "        npzfile = np.load(fname)\n",
    "        E_list=npzfile['E_list']\n",
    "        Pu=npzfile['Pu']\n",
    "        Pd=npzfile['Pd']\n",
    "\n",
    "#     i_e=Energy_index\n",
    "#     if not sys.warnoptions:\n",
    "#         import warnings\n",
    "#         warnings.simplefilter(\"ignore\")\n",
    "#     ind=0\n",
    "#     fig, axes = pyplot.subplots(nrows=1, ncols=2, figsize=(12, 3))\n",
    "#     pyplot.subplot(1,2,1)\n",
    "# #     pyplot.figure()\n",
    "#     Zmat=abs(wf_arr[ind,::2,i_e])**2-abs(wf_arr[ind,1::2,i_e])**2\n",
    "#     Zmat_plot=np.fliplr(np.reshape(Zmat,[L,W])).T\n",
    "#     pos=pyplot.imshow(Zmat_plot, cmap='RdBu_r')#, aspect=\"auto\",\n",
    "# #                                 interpolation='none')\n",
    "#     pyplot.clim(-0.3,0.3)\n",
    "#     pyplot.xlabel(\"x\")\n",
    "#     pyplot.ylabel(\"y\")\n",
    "#     pyplot.title(r\"$E/\\Delta=%.2f$\" % (E_list[i_e]/Delta))\n",
    "#     fig.colorbar(pos)\n",
    "#     pyplot.subplot(1,2,2)\n",
    "#         plt.plot(E_list/Delta, Pu.T)\n",
    "#         plt.plot(E_list/Delta, Pd.T)\n",
    "#         plt.legend((r'$e_\\uparrow$', r'$e_\\downarrow$', r'$h_\\uparrow$', r'$h_\\downarrow$'))\n",
    "        plt.xlabel(\"energy [Delta]\")\n",
    "        plt.ylabel(r\"$P_h-P_e$\")\n",
    "        P1=Pu[0,:]+Pu[1,:]-Pu[2,:]-Pu[3,:]\n",
    "        P2=Pd[0,:]+Pd[1,:]-Pd[2,:]-Pd[3,:]\n",
    "        plt.plot(E_list/Delta, -(P1+P2).T,label='U=%.1f' % (U0))\n",
    "#         print(np.max(P1+P2), np.max(E_list/Delta))\n",
    "    plt.legend()\n",
    "    plt.savefig('figs/kwant_disorder_nu_2.pdf')\n",
    "    plt.show()\n",
    "\n",
    "# NE=100\n",
    "# interact(wf_plot, Energy_index=(0,NE-1,1), SC_width=np.array([10]));\n",
    "U=[0, 0.3,0.5,1.0]\n",
    "wf_plot(U,10)\n",
    "\n"
   ]
  },
  {
   "cell_type": "code",
   "execution_count": null,
   "metadata": {},
   "outputs": [],
   "source": []
  }
 ],
 "metadata": {
  "kernelspec": {
   "display_name": "Python 3",
   "language": "python",
   "name": "python3"
  },
  "language_info": {
   "codemirror_mode": {
    "name": "ipython",
    "version": 3
   },
   "file_extension": ".py",
   "mimetype": "text/x-python",
   "name": "python",
   "nbconvert_exporter": "python",
   "pygments_lexer": "ipython3",
   "version": "3.8.3"
  }
 },
 "nbformat": 4,
 "nbformat_minor": 2
}
