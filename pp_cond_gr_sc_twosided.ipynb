{
 "cells": [
  {
   "cell_type": "code",
   "execution_count": 2,
   "metadata": {},
   "outputs": [
    {
     "data": {
      "text/plain": [
       "<Figure size 640x480 with 1 Axes>"
      ]
     },
     "metadata": {},
     "output_type": "display_data"
    },
    {
     "name": "stdout",
     "output_type": "stream",
     "text": [
      "Average is computed over 399 reps.\n"
     ]
    },
    {
     "data": {
      "text/plain": [
       "<Figure size 640x480 with 1 Axes>"
      ]
     },
     "metadata": {},
     "output_type": "display_data"
    },
    {
     "name": "stdout",
     "output_type": "stream",
     "text": [
      "Average is computed over 399 reps.\n"
     ]
    }
   ],
   "source": [
    "import numpy as np\n",
    "import matplotlib.pyplot as plt\n",
    "from ipywidgets import interact\n",
    "import sys\n",
    "from os import path\n",
    "\n",
    "avg_dir='kw_avg_data/'\n",
    "out_dir='kw_data_files_dis/'\n",
    "\n",
    "W=40\n",
    "L=30\n",
    "Lsc=10\n",
    "# Lsc_sw=np.array([10])\n",
    "\n",
    "\n",
    "# parameters\n",
    "t=1\n",
    "mu=0.18\n",
    "mu_sc= 0.18+t\n",
    "Delta=0.03\n",
    "t_j=1.0\n",
    "phi=0.0095\n",
    "gs=0.\n",
    "gn=0.04\n",
    "lam=0.5\n",
    "\n",
    "def wf_avg(U0,SC_width):\n",
    "    Lsc=SC_width\n",
    "    Nrep=400\n",
    "    N_avg=0\n",
    "    plt.figure()\n",
    "    for i_r in range(Nrep):\n",
    "        fname= out_dir+ 'twosided_U_%.2f_phi_%.4f_mu_%.2f_mus_%.2f_D_%.2f_tj_%.2f_W_%d_L_%d_Ls_%d_r_%d.npz' % (U0,phi,mu,mu_sc,Delta,t_j,W,L,Lsc,i_r)       \n",
    "        if path.exists(fname):\n",
    "            N_avg += 1\n",
    "            npzfile = np.load(fname)\n",
    "            if N_avg==1:\n",
    "                E_list=npzfile['E_list']\n",
    "                Pu=npzfile['Pu']\n",
    "                Pd=npzfile['Pd']\n",
    "                plt.plot(E_list/Delta,npzfile['Pu'].T)\n",
    "                plt.plot(E_list/Delta,npzfile['Pd'].T)\n",
    "            else:\n",
    "                plt.plot(E_list/Delta,npzfile['Pu'].T)\n",
    "                plt.plot(E_list/Delta,npzfile['Pd'].T)\n",
    "                Pu += npzfile['Pu']\n",
    "                Pd += npzfile['Pd']\n",
    "    plt.show()\n",
    "    if N_avg>0:\n",
    "        Pu= Pu/N_avg\n",
    "        Pd= Pd/N_avg\n",
    "        fname=avg_dir+ 'avg_U_%.2f_phi_%.4f_mu_%.2f_mus_%.2f_D_%.2f_tj_%.2f_W_%d_L_%d_Ls_%d.npz' % (U0,phi,mu,mu_sc,Delta,t_j,W,L,Lsc)\n",
    "        np.savez(fname, E_list=E_list, Pu=Pu, Pd=Pd)\n",
    "        \n",
    "    return N_avg\n",
    "\n",
    "# for i_L in range(len(Lsc_sw)):\n",
    "for U0 in [0.5,1]:\n",
    "    N_avg= wf_avg(U0,Lsc)\n",
    "    print(\"Average is computed over %d reps.\" % (N_avg) )"
   ]
  },
  {
   "cell_type": "code",
   "execution_count": 6,
   "metadata": {},
   "outputs": [
    {
     "name": "stdout",
     "output_type": "stream",
     "text": [
      "0.14512269162110605 0.25\n"
     ]
    },
    {
     "data": {
      "image/png": "[encoded data removed]",
      "text/plain": [
       "<Figure size 432x288 with 1 Axes>"
      ]
     },
     "metadata": {
      "needs_background": "light"
     },
     "output_type": "display_data"
    }
   ],
   "source": [
    "# U0=0.3\n",
    "\n",
    "# def wf_plot(Energy_index,SC_width):\n",
    "def wf_plot(U,SC_width):\n",
    "    Lsc=SC_width\n",
    "    plt.figure()\n",
    "    for U0 in U:\n",
    "        fname=avg_dir+ 'avg_U_%.2f_phi_%.4f_mu_%.2f_mus_%.2f_D_%.2f_tj_%.2f_W_%d_L_%d_Ls_%d.npz' % (U0,phi,mu,mu_sc,Delta,t_j,W,L,Lsc)\n",
    "        npzfile = np.load(fname)\n",
    "        E_list=npzfile['E_list']\n",
    "        Pu=npzfile['Pu']\n",
    "        Pd=npzfile['Pd']\n",
    "\n",
    "#     i_e=Energy_index\n",
    "#     if not sys.warnoptions:\n",
    "#         import warnings\n",
    "#         warnings.simplefilter(\"ignore\")\n",
    "#     ind=0\n",
    "#     fig, axes = pyplot.subplots(nrows=1, ncols=2, figsize=(12, 3))\n",
    "#     pyplot.subplot(1,2,1)\n",
    "# #     pyplot.figure()\n",
    "#     Zmat=abs(wf_arr[ind,::2,i_e])**2-abs(wf_arr[ind,1::2,i_e])**2\n",
    "#     Zmat_plot=np.fliplr(np.reshape(Zmat,[L,W])).T\n",
    "#     pos=pyplot.imshow(Zmat_plot, cmap='RdBu_r')#, aspect=\"auto\",\n",
    "# #                                 interpolation='none')\n",
    "#     pyplot.clim(-0.3,0.3)\n",
    "#     pyplot.xlabel(\"x\")\n",
    "#     pyplot.ylabel(\"y\")\n",
    "#     pyplot.title(r\"$E/\\Delta=%.2f$\" % (E_list[i_e]/Delta))\n",
    "#     fig.colorbar(pos)\n",
    "#     pyplot.subplot(1,2,2)\n",
    "#         plt.plot(E_list/Delta, Pu.T)\n",
    "#         plt.plot(E_list/Delta, Pd.T)\n",
    "        plt.legend((r'$e_\\uparrow$', r'$e_\\downarrow$', r'$h_\\uparrow$', r'$h_\\downarrow$'))\n",
    "        plt.xlabel(\"energy [Delta]\")\n",
    "        plt.ylabel(r\"$P_e - P_h$\")\n",
    "        P1=Pu[0,:]+Pu[1,:]-Pu[2,:]-Pu[3,:]\n",
    "        P2=Pd[0,:]+Pd[1,:]-Pd[2,:]-Pd[3,:]\n",
    "        plt.plot(E_list/Delta, (P1+P2).T)\n",
    "#         print(np.max(P1+P2), np.max(E_list/Delta))\n",
    "    plt.show()\n",
    "\n",
    "# NE=100\n",
    "# interact(wf_plot, Energy_index=(0,NE-1,1), SC_width=np.array([10]));\n",
    "U=[0, 0.3,0.5,1.0]\n",
    "wf_plot([0],10)"
   ]
  },
  {
   "cell_type": "code",
   "execution_count": 4,
   "metadata": {},
   "outputs": [
    {
     "ename": "NameError",
     "evalue": "name 'P1' is not defined",
     "output_type": "error",
     "traceback": [
      "\u001b[0;31m---------------------------------------------------------------------------\u001b[0m",
      "\u001b[0;31mNameError\u001b[0m                                 Traceback (most recent call last)",
      "\u001b[0;32m<ipython-input-4-a8487dcbe9da>\u001b[0m in \u001b[0;36m<module>\u001b[0;34m\u001b[0m\n\u001b[0;32m----> 1\u001b[0;31m \u001b[0mprint\u001b[0m\u001b[0;34m(\u001b[0m\u001b[0mnp\u001b[0m\u001b[0;34m.\u001b[0m\u001b[0mmax\u001b[0m\u001b[0;34m(\u001b[0m\u001b[0mP1\u001b[0m\u001b[0;34m+\u001b[0m\u001b[0mP2\u001b[0m\u001b[0;34m)\u001b[0m\u001b[0;34m)\u001b[0m\u001b[0;34m\u001b[0m\u001b[0;34m\u001b[0m\u001b[0m\n\u001b[0m",
      "\u001b[0;31mNameError\u001b[0m: name 'P1' is not defined"
     ]
    }
   ],
   "source": [
    "print(np.max(P1+P2))"
   ]
  },
  {
   "cell_type": "code",
   "execution_count": null,
   "metadata": {},
   "outputs": [],
   "source": []
  }
 ],
 "metadata": {
  "kernelspec": {
   "display_name": "Python 3",
   "language": "python",
   "name": "python3"
  },
  "language_info": {
   "codemirror_mode": {
    "name": "ipython",
    "version": 3
   },
   "file_extension": ".py",
   "mimetype": "text/x-python",
   "name": "python",
   "nbconvert_exporter": "python",
   "pygments_lexer": "ipython3",
   "version": "3.7.3"
  }
 },
 "nbformat": 4,
 "nbformat_minor": 2
}
