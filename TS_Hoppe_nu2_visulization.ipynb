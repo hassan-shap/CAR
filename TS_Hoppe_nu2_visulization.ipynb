{
 "cells": [
  {
   "cell_type": "code",
   "execution_count": 2,
   "metadata": {},
   "outputs": [],
   "source": [
    "import numpy as np\n",
    "from math import pi\n",
    "from matplotlib import pyplot\n",
    "from scipy.linalg import block_diag\n",
    "from scipy.optimize import minimize\n",
    "import time\n",
    "from ipywidgets import interact"
   ]
  },
  {
   "cell_type": "code",
   "execution_count": 134,
   "metadata": {
    "scrolled": true
   },
   "outputs": [
    {
     "name": "stdout",
     "output_type": "stream",
     "text": [
      "Done!\n"
     ]
    }
   ],
   "source": [
    "hbar=1.05e-34\n",
    "elec=1.6e-19\n",
    "meV=elec*1e-3\n",
    "m0=9.1e-31 # kg\n",
    "m=m0/10\n",
    "\n",
    "B=10 # Tesla\n",
    "hwc=hbar*(elec*B/m)\n",
    "lB=np.sqrt(hbar/(elec*B))\n",
    "mu_sc=20*hwc #1e2*meV\n",
    "D_sc=2.0*hwc #10*meV\n",
    "nu=3\n",
    "U0=0*hwc\n",
    "lambd=6*1e5\n",
    "gs=0.*hwc\n",
    "gn=0.3*hwc\n",
    "muB=elec*hbar/(2*m0)\n",
    "\n",
    "# mu_n=nu*hwc #-gn*muB*B\n",
    "mu_n=1.*hwc#(nu-1/2)*hwc #-gn*muB*B\n",
    "ky_sw=np.linspace(0,1,200)*2.5/lB\n",
    "\n",
    "Ls=6*lB\n",
    "Lx=8*lB\n",
    "Nx=200\n",
    "kx=2*pi*np.arange(Nx)/(2*Lx+Ls)-pi*Nx/(2*Lx+Ls)\n",
    "[k1,k2]=2*pi*np.mgrid[range(Nx),range(Nx)]/(2*Lx+Ls)-pi*Nx/(2*Lx+Ls)\n",
    "\n",
    "Hx=np.diag(hbar**2 * kx**2/(2*m))\n",
    "\n",
    "def y2(k):\n",
    "    with np.errstate(divide='ignore', invalid='ignore'):\n",
    "        c= np.exp(1j*k*Ls/2)*(-2j+np.exp(1j*k*Lx)*(2j+ 2*k*Lx- 1j* k**2 * Lx**2))/ (k**3) /(2*Lx+Ls)\n",
    "        c[ ~ np.isfinite( c )] = Lx**3 /(3*(2*Lx+Ls))\n",
    "    return c\n",
    "\n",
    "def y1(k):\n",
    "    with np.errstate(divide='ignore', invalid='ignore'):\n",
    "        c = np.exp(1j*k*Ls/2)*(-1+np.exp(1j*k*Lx)*(1- 1j* k * Lx))/ (k**2) /(2*Lx+Ls)\n",
    "        c[ ~ np.isfinite( c )] = Lx**2 /(2*(2*Lx+Ls))\n",
    "    return c\n",
    "\n",
    "def y0(k):\n",
    "    with np.errstate(divide='ignore', invalid='ignore'):\n",
    "        c = -1j*np.exp(1j*k*Ls/2)*(-1+np.exp(1j*k*Lx) )/(k*(2*Lx+Ls))\n",
    "        c[ ~ np.isfinite( c )] = Lx /(2*Lx+Ls)\n",
    "    return c\n",
    "\n",
    "def y0s(k):\n",
    "    with np.errstate(divide='ignore', invalid='ignore'):\n",
    "        c = 2*np.sin(k*Ls/2)/(k*(2*Lx+Ls))\n",
    "        c[ ~ np.isfinite( c )] = Ls /(2*Lx+Ls)\n",
    "    return c\n",
    "\n",
    "\n",
    "HeB2= ((elec*B)**2 * np.real(y2(k1-k2)) )/ m\n",
    "HeB2T= ((elec*B)**2 * np.real(y2(k2-k1)) )/ m\n",
    "Hef= -( 2*mu_n*np.real(y0(k1-k2)) + mu_sc*y0s(k1-k2)+U0*np.ones(k1.shape) )\n",
    "HefT=-( 2*mu_n*np.real(y0(k2-k1)) + mu_sc*y0s(k2-k1)+U0*np.ones(k1.shape) )\n",
    "# d=1.1\n",
    "# HefT=-( 2*mu_n*d*np.real(y0(k2-k1)) + mu_sc*d*y0s(k2-k1)+U0*np.ones(k1.shape) )\n",
    "Hd= D_sc*y0s(k1-k2)\n",
    "# basis ud,du\n",
    "dmat=np.array([[0.,1.],[0.,0.]])\n",
    "ddmat=np.kron(dmat,np.array([[0.,1.],[-1.,0.]]))\n",
    "Hd_mat=np.kron(ddmat,Hd)\n",
    "Hd_mat=Hd_mat+np.transpose(Hd_mat).conj()\n",
    "\n",
    "Hlx=hbar*lambd*np.kron(np.array([[0.,-1j],[1j,0.]]),k1*y0s(k1-k2))\n",
    "HlxT=-hbar*lambd*np.kron(np.array([[0.,-1j],[1j,0.]]),k1*y0s(k2-k1))\n",
    "Hz_up= -(gs*y0s(k1-k2)+2*gn*np.real(y0(k1-k2)))\n",
    "# Hz_up= -muB*B*(gs*y0s(k1-k2)+2*gn*np.real(y0(k1-k2)))\n",
    "Hz= np.kron(np.array([[1,0],[0,-1]]),Hz_up)\n",
    "Hz_upT= -(gs*y0s(k2-k1)+2*gn*np.real(y0(k2-k1)))\n",
    "HzT= np.kron(np.array([[1,0],[0,-1]]),Hz_upT)\n",
    "\n",
    "\n",
    "Vn=np.zeros((4*Nx,4*Nx,len(ky_sw)), dtype=np.complex64)\n",
    "En=np.zeros((4*Nx,len(ky_sw)))\n",
    "for i_y in range(len(ky_sw)):\n",
    "    ky=ky_sw[i_y]\n",
    "    Hy=(hbar**2 * ky**2/(2*m))*np.eye(Nx)\n",
    "    HeB1=-2j*hbar *ky* ( elec*B*np.imag(y1(k1-k2)))/m\n",
    "    HeB1T=2j*hbar *ky* ( elec*B*np.imag(y1(k2-k1)))/m\n",
    "    H1=Hx+Hy+HeB2+HeB1+Hef\n",
    "    H1T=Hx+Hy+(HeB2T+HeB1T+HefT).conj()\n",
    " \n",
    "    Hly=hbar*lambd*ky*np.kron(np.array([[0.,1],[1,0.]]),y0s(k1-k2))\n",
    "    HlyT=-hbar*lambd*ky*np.kron(np.array([[0.,1],[1,0.]]),y0s(k2-k1))\n",
    " \n",
    "    H_p=block_diag(H1,H1)+Hlx+Hly+Hz\n",
    "    H_pT=block_diag(H1T,H1T)+(HlxT+HlyT+HzT).conj()\n",
    "    \n",
    "    H_t=block_diag(H_p,-H_pT)+Hd_mat\n",
    "    En[:,i_y], Vn[:,:,i_y] =np.linalg.eigh(H_t)\n",
    "\n",
    "print(\"Done!\")"
   ]
  },
  {
   "cell_type": "code",
   "execution_count": 135,
   "metadata": {},
   "outputs": [
    {
     "data": {
      "application/vnd.jupyter.widget-view+json": {
       "model_id": "4ef652ec3fb144d8823b1cd3eaf1e7dd",
       "version_major": 2,
       "version_minor": 0
      },
      "text/plain": [
       "interactive(children=(Dropdown(description='i_band', options=(397, 398, 399, 400, 401, 402), value=397), IntSl…"
      ]
     },
     "metadata": {},
     "output_type": "display_data"
    }
   ],
   "source": [
    "def wf_real_space(ev,k,x,Ls):\n",
    "    Nx=len(k)\n",
    "    kt=np.reshape(k,[1,Nx])\n",
    "    xt=np.reshape(x,[len(x),1])\n",
    "    return np.dot(np.exp(1j*kt*(xt-0*Ls/2)),ev[:Nx,:])/np.sqrt(2*Lx+Ls)*np.sqrt(x[1]-x[0]),\\\n",
    "            np.dot(np.exp(1j*kt*(xt+0*Ls/2)),ev[Nx:2*Nx,:])/np.sqrt(2*Lx+Ls)*np.sqrt(x[1]-x[0]),\\\n",
    "            np.dot(np.exp(1j*kt*(xt+0*Ls/2)),ev[2*Nx:3*Nx,:])/np.sqrt(2*Lx+Ls)*np.sqrt(x[1]-x[0]),\\\n",
    "            np.dot(np.exp(1j*kt*(xt+0*Ls/2)),ev[3*Nx:4*Nx,:])/np.sqrt(2*Lx+Ls)*np.sqrt(x[1]-x[0])\n",
    "\n",
    "def plot_wf(i_band=Nx,iwf=int(3*len(ky_sw)/4)):\n",
    "# iwf=0\n",
    "    pyplot.figure()\n",
    "    pyplot.subplot(2,1,1)\n",
    "    pyplot.plot(ky_sw*lB,En.T/hwc,'b')\n",
    "    pyplot.plot(ky_sw[iwf]*lB,En[i_band,iwf]/hwc,'ro')\n",
    "    pyplot.ylabel(\"Energy(meV)\")\n",
    "    pyplot.xlabel(\"X(l)\")\n",
    "    pyplot.ylim(-0.5,0.5)\n",
    "    # pyplot.xlim(-7.5,7.5)\n",
    "    pyplot.grid()\n",
    "#     pyplot.show()\n",
    "\n",
    "    x0=np.linspace(-1,1,500)*10*lB\n",
    "    wfp_u,wfp_d,wfh_u,wfh_d=wf_real_space(np.reshape(Vn[:,i_band,:],[4*Nx,len(ky_sw)]),kx,x0,Ls)\n",
    "#     pyplot.figure()\n",
    "    pyplot.title('ky=%.2f' % (ky_sw[iwf]*lB) )\n",
    "    pyplot.subplot(2,1,2)\n",
    "    pyplot.plot(x0/lB,np.abs(wfp_u[:,iwf])**2,label=r'$p\\uparrow$')\n",
    "    pyplot.plot(x0/lB,np.abs(wfp_d[:,iwf])**2,label=r'$p\\downarrow$')\n",
    "    pyplot.plot(x0/lB,np.abs(wfh_u[:,iwf])**2,label=r'$h\\uparrow$')\n",
    "    pyplot.plot(x0/lB,np.abs(wfh_d[:,iwf])**2,label=r'$h\\downarrow$')\n",
    "    pyplot.legend()\n",
    "    pyplot.show()\n",
    "\n",
    "interact(plot_wf,iwf=(0,len(ky_sw)-1,1), i_band=range(2*Nx-nu,2*Nx+nu));\n",
    "#, continuous_update=False);"
   ]
  },
  {
   "cell_type": "code",
   "execution_count": null,
   "metadata": {},
   "outputs": [],
   "source": [
    "pyplot.figure()\n",
    "pyplot.plot(ky_sw*lB,En.T/hwc,'b')\n",
    "pyplot.ylabel(\"Energy(meV)\")\n",
    "pyplot.xlabel(\"X(l)\")\n",
    "# pyplot.ylim(-22,22)\n",
    "# pyplot.ylim(-1.5,1.5)\n",
    "pyplot.ylim(-0.5,0.5)\n",
    "pyplot.grid()"
   ]
  },
  {
   "cell_type": "code",
   "execution_count": 130,
   "metadata": {},
   "outputs": [
    {
     "name": "stdout",
     "output_type": "stream",
     "text": [
      "1.153846153846154\n"
     ]
    }
   ],
   "source": [
    "print(hwc/meV*0.1)"
   ]
  },
  {
   "cell_type": "code",
   "execution_count": null,
   "metadata": {},
   "outputs": [],
   "source": []
  }
 ],
 "metadata": {
  "kernelspec": {
   "display_name": "Python 3",
   "language": "python",
   "name": "python3"
  },
  "language_info": {
   "codemirror_mode": {
    "name": "ipython",
    "version": 3
   },
   "file_extension": ".py",
   "mimetype": "text/x-python",
   "name": "python",
   "nbconvert_exporter": "python",
   "pygments_lexer": "ipython3",
   "version": "3.7.3"
  }
 },
 "nbformat": 4,
 "nbformat_minor": 2
}
