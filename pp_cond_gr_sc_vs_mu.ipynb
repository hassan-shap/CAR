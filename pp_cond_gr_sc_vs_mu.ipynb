{
 "cells": [
  {
   "cell_type": "code",
   "execution_count": 2,
   "metadata": {},
   "outputs": [
    {
     "data": {
      "image/png": "[encoded data removed]",
      "text/plain": [
       "<Figure size 432x288 with 1 Axes>"
      ]
     },
     "metadata": {
      "needs_background": "light"
     },
     "output_type": "display_data"
    }
   ],
   "source": [
    "import numpy as np\n",
    "import matplotlib.pyplot as plt\n",
    "from ipywidgets import interact\n",
    "import sys\n",
    "from os import path\n",
    "\n",
    "avg_dir='kw_avg_data/'\n",
    "out_dir='kw_data_files_dis/'\n",
    "\n",
    "\n",
    "# parameters\n",
    "t=1\n",
    "lam=0.5\n",
    "mu_sc= 0.18+t - 2*lam\n",
    "Delta=0.03\n",
    "t_j=1.0\n",
    "phi=0.0095\n",
    "gs=0.\n",
    "gn=0.04\n",
    "    \n",
    "def wf_avg(U0, L, W, SC_width, Llead):\n",
    "    Lsc=SC_width\n",
    "    Nrep=1\n",
    "    N_avg=0\n",
    "    for i_r in range(Nrep):\n",
    "        fname= out_dir+ 'twosided_vs_mu_U_%.2f_phi_%.4f_mus_%.2f_D_%.2f_tj_%.2f_W_%d_L_%d_Ls_%d_Llead_%d_r_%d.npz' % (U0,phi,mu_sc,Delta,t_j,W,L,Lsc,Llead,i_r)\n",
    "        if path.exists(fname):\n",
    "            N_avg += 1\n",
    "            npzfile = np.load(fname)\n",
    "            if N_avg==1:\n",
    "                mu_list=npzfile['mu_list']\n",
    "                Pu=npzfile['Pu']\n",
    "                Pd=npzfile['Pd']\n",
    "            else:\n",
    "                Pu += npzfile['Pu']\n",
    "                Pd += npzfile['Pd']\n",
    "    if N_avg>0:\n",
    "        Pu= Pu/N_avg\n",
    "        Pd= Pd/N_avg\n",
    "    cond= Pu[0,:]+Pu[1,:]-Pu[2,:]-Pu[3,:]+\\\n",
    "            Pd[0,:]+Pd[1,:]-Pd[2,:]-Pd[3,:]\n",
    "\n",
    "    return mu_list, Pu, Pd, cond\n",
    "\n",
    "mu1, Pu1,Pd1, cond1 =wf_avg(0, W=40, L=30, SC_width=10, Llead=20)\n",
    "# mu2 , Pu2,Pd2, cond2 =wf_avg(0, W=40, L=30, SC_width=10, Llead=5)\n",
    "mu3 , Pu3,Pd3, cond3 =wf_avg(0, W=40, L=80, SC_width=10, Llead=40)\n",
    "mu4 , Pu4,Pd4, cond4 =wf_avg(0, W=40, L=100, SC_width=10, Llead=50)\n",
    "\n",
    "\n",
    "plt.figure()\n",
    "# plt.plot(mu_list, Pu.T)\n",
    "plt.xlabel(r\"$\\mu$\")\n",
    "plt.ylabel(r\"$P_e - P_h$\")\n",
    "# P1=Pu[0,:]+Pu[1,:]-Pu[2,:]-Pu[3,:]\n",
    "# P2=Pd[0,:]+Pd[1,:]-Pd[2,:]-Pd[3,:]\n",
    "# plt.legend((r'$e_\\uparrow$', r'$e_\\downarrow$', r'$h_\\uparrow$', r'$h_\\downarrow$'))\n",
    "plt.plot(cond4,'o')\n",
    "# plt.plot(mu2, cond2)\n",
    "# plt.plot(mu3, cond3)\n",
    "# plt.plot(mu4, cond4)\n",
    "plt.show()"
   ]
  },
  {
   "cell_type": "code",
   "execution_count": 3,
   "metadata": {},
   "outputs": [
    {
     "name": "stdout",
     "output_type": "stream",
     "text": [
      "[-3.18918413 -3.14939051 -3.10889578 -3.06710326 -3.99999969 -3.99999946\n",
      " -3.99999907 -3.99999826 -3.99999629 -3.99999031 -2.02061043 -1.01792704\n",
      "  0.63397812] [0.31555556 0.31747475 0.31939394 0.32131313 0.32323232 0.32515152\n",
      " 0.32707071 0.3289899  0.33090909 0.33282828 0.33474747 0.33666667\n",
      " 0.33858586]\n"
     ]
    }
   ],
   "source": [
    "i1=85\n",
    "i2=98\n",
    "print(cond4[i1:i2],mu4[i1:i2])"
   ]
  },
  {
   "cell_type": "code",
   "execution_count": null,
   "metadata": {},
   "outputs": [],
   "source": []
  },
  {
   "cell_type": "code",
   "execution_count": null,
   "metadata": {},
   "outputs": [],
   "source": []
  }
 ],
 "metadata": {
  "kernelspec": {
   "display_name": "Python 3",
   "language": "python",
   "name": "python3"
  },
  "language_info": {
   "codemirror_mode": {
    "name": "ipython",
    "version": 3
   },
   "file_extension": ".py",
   "mimetype": "text/x-python",
   "name": "python",
   "nbconvert_exporter": "python",
   "pygments_lexer": "ipython3",
   "version": "3.7.3"
  }
 },
 "nbformat": 4,
 "nbformat_minor": 2
}
