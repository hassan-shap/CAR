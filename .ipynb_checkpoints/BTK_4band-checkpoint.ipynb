{
 "cells": [
  {
   "cell_type": "code",
   "execution_count": 55,
   "metadata": {},
   "outputs": [],
   "source": [
    "import numpy as np\n",
    "import scipy as sp\n",
    "from math import pi, tanh\n",
    "from cmath import sqrt\n",
    "import matplotlib.pyplot as plt\n",
    "from scipy.linalg import block_diag\n",
    "from ipywidgets import interact"
   ]
  },
  {
   "cell_type": "code",
   "execution_count": 86,
   "metadata": {},
   "outputs": [
    {
     "data": {
      "image/png": "[encoded data removed]",
      "text/plain": [
       "<Figure size 144x216 with 1 Axes>"
      ]
     },
     "metadata": {
      "needs_background": "light"
     },
     "output_type": "display_data"
    },
    {
     "data": {
      "image/png": "[encoded data removed]",
      "text/plain": [
       "<Figure size 432x288 with 1 Axes>"
      ]
     },
     "metadata": {
      "needs_background": "light"
     },
     "output_type": "display_data"
    }
   ],
   "source": [
    "hbar=1\n",
    "elec=1\n",
    "D1_r=0.1\n",
    "D1_i=0.1\n",
    "D2=1\n",
    "Vt=0.2\n",
    "\n",
    "s0=np.array([[1,0],[0,1]])\n",
    "sx=np.array([[0,1],[1,0]])\n",
    "sy=np.array([[0,-1j],[1j,0]])\n",
    "sz=np.array([[1,0],[0,-1]])\n",
    "\n",
    "Esw=np.linspace(-1,1,100)\n",
    "\n",
    "k_sw= np.linspace(-1,1,101)*2\n",
    "Ens= np.zeros((len(k_sw),4))\n",
    "for i_k in range(len(k_sw)):\n",
    "    Ham= k_sw[i_k]* np.kron(sz,sz)+ np.kron( D1_r * sy+ D1_i * sx, sz)+\\\n",
    "        D2*np.kron(sx,sy)+ Vt* np.kron(s0,sx)\n",
    "    Ens[i_k,:], _ = np.linalg.eigh(Ham)\n",
    "    \n",
    "plt.figure(figsize=(2,3))\n",
    "plt.plot(k_sw,Ens,'b')\n",
    "Emax=np.max(Esw)\n",
    "plt.ylim(-Emax,Emax)\n",
    "plt.xlabel('k')\n",
    "plt.ylabel('E')\n",
    "plt.grid()\n",
    "plt.show()\n",
    "\n",
    "Ree=np.zeros(len(Esw))\n",
    "Reh=np.zeros(len(Esw))\n",
    "\n",
    "for i_E in range(len(Esw)):\n",
    "    E=Esw[i_E]\n",
    "    Ht= E*np.kron(sz,sz)- 1j* np.kron(D1_r*sx-D1_i*sy,s0) + D2*np.kron(sy,sx)+\\\n",
    "        1j*Vt* np.kron(sz,sy)\n",
    "    evs, evecs = np.linalg.eig(Ht)\n",
    "    vk=np.kron(sz,sz)\n",
    "#     Jmat = np.reshape(np.diag(np.dot(np.transpose(evecs).T,np.dot(vk,evecs))),[4,])\n",
    "#     else:\n",
    "#         Jmat = np.reshape(np.diag(np.dot(np.transpose(evecs).conj(),np.dot(sz,evecs))),[2,])\n",
    "#     i_p=np.where(np.imag(Jmat) > 0)[0]\n",
    "#     i_n=np.where(np.imag(Jmat) < 0)[0]\n",
    "#     if len(i_p)==0 and len(i_n)==0:\n",
    "#         i_p=np.where(np.real(Jmat) > 0)[0]\n",
    "#         i_n=np.where(np.real(Jmat) <= 0)[0]\n",
    "#     i_p1= np.where(np.real(evs) > 1e-5)[0] # propagating waves\n",
    "#     i_p2=np.where(np.imag(evs) < 0)[0]\n",
    "#     i_p=(i_p1,i_p2)\n",
    "#     i_n=np.where(np.imag(evs) > 0)[0]\n",
    "\n",
    "    i_evan= np.where( np.abs(np.imag(evs)) > 1e-5 )[0]\n",
    "    ie_T= np.where( np.imag(evs[i_evan]) > 0)[0]\n",
    "\n",
    "    i_prop= np.where( np.abs(np.imag(evs)) < 1e-5 )[0]\n",
    "#     ip_T= np.where( np.real(evs[i_prop]) > 0)[0]\n",
    "    Jmat = np.reshape(np.diag(np.dot(np.transpose(evecs).conj(),np.dot(vk,evecs))),[4,])\n",
    "    ip_T= np.where( np.real(Jmat[i_prop]) > 0)[0]\n",
    "\n",
    "    i_p=np.concatenate((i_prop[ip_T],i_evan[ie_T]))\n",
    "    \n",
    "\n",
    "    \n",
    "#     if len(i_p)==0 and len(i_n)==0:\n",
    "#         i_p=np.where(np.real(Jmat) > 0)[0]\n",
    "#         i_n=np.where(np.real(Jmat) <= 0)[0]        \n",
    "#     print(E, evs, i_p)\n",
    "    \n",
    "    evecs= np.dot(evecs,np.diag(1/Jmat**0.5))\n",
    "#     devecs= 1j*np.dot(evecs,np.diag(evs))\n",
    "#     Tevecs= np.zeros((len(evs),len(evs)), dtype=np.complex64)\n",
    "#     Tevecs[:,:len(i_p)] = evecs[:,i_p]\n",
    "#     Tevecs[:,len(i_p):] = evecs[:,i_n]    \n",
    "    Tevecs = evecs[:,i_p]\n",
    "#     dTevecs= np.zeros((len(evs),len(evs)), dtype=np.complex64)\n",
    "#     dTevecs[:,:len(i_p)] = devecs[:,i_p]\n",
    "#     dTevecs[:,len(i_p):] = -devecs[:,i_n]    \n",
    "    \n",
    "    \n",
    "    Hl= E*np.kron(sz,sz)\n",
    "    evs_l, evecs_l = np.linalg.eig(Hl)\n",
    "    Jmat_l = np.reshape(np.diag(np.dot(np.transpose(evecs_l).conj(),np.dot(vk,evecs_l))),[4,])\n",
    "#     i_prop = np.where(np.real(evs_l)> 0)[0]\n",
    "    i_p_l=np.where(np.real(Jmat_l) > 0)[0]\n",
    "    i_n_l=np.where(np.real(Jmat_l) <= 0)[0]\n",
    "    evecs_l= np.dot(evecs_l,np.diag(1/(np.abs(Jmat_l)**0.5)))\n",
    "#     devecs_l= 1j*np.dot(evecs_l,np.diag(evs_l))\n",
    "\n",
    "#     Revecs_l= np.zeros((len(evs_l),len(evs_l)), dtype=np.complex64)\n",
    "#     Revecs_l[:,:len(i_p_l)] = evecs_l[:,i_p_l]\n",
    "#     Revecs_l[:,len(i_p_l):] = evecs_l[:,i_n_l] \n",
    "#     print(E, evs_l, i_n_l)\n",
    "#     Revecs_l = evecs_l[:,i_n_l]\n",
    "    Revecs_l= np.array([[0,1,0,0],[0,0,1,0]]).T\n",
    "\n",
    "#     dRevecs_l= np.zeros((len(evs_l),len(evs_l)), dtype=np.complex64)\n",
    "#     dRevecs_l[:,:len(i_p_l)] = -devecs_l[:,i_p_l]\n",
    "#     dRevecs_l[:,len(i_p_l):] = devecs_l[:,i_n_l]    \n",
    "\n",
    "#     Tevecs_l = evecs_l[:,i_p_l]\n",
    "    Tevecs_l= np.array([1,0,0,0]).T\n",
    "#     dTevecs_l = devecs_l[:,i_p_l]\n",
    "\n",
    "    for i_t in range(1):\n",
    "        Psi_t=np.concatenate((Tevecs,-Revecs_l),axis=1)\n",
    "        Psi_inc= Tevecs_l\n",
    "#         Psi_inc= Tevecs_l[:,i_t]\n",
    "#         print(E, Psi_t.shape, Psi_inc.shape)\n",
    "        x=sp.linalg.solve(Psi_t,Psi_inc)\n",
    "        Ree[i_E] += np.abs(x[2])**2\n",
    "        Reh[i_E] += np.abs(x[3])**2\n",
    "\n",
    "plt.figure()\n",
    "plt.plot(Esw,Reh)\n",
    "plt.plot(Esw,Ree)\n",
    "# plt.plot(Esw/Delta,np.imag(Reh))\n",
    "# plt.plot(Esw/Delta,np.imag(Ree))\n",
    "plt.grid()\n",
    "plt.ylim(0,1.1)\n",
    "\n",
    "plt.xlabel(r'$r_{eh}$')\n",
    "plt.xlabel(r'$E/\\Delta$')\n",
    "plt.show()\n",
    "\n",
    "# plt.figure()\n",
    "# # plt.plot(Esw/Delta,np.imag(qe_ex))\n",
    "# # plt.plot(Esw/Delta,np.imag(q_calc[0,:]).T)\n",
    "# # plt.plot(Esw/Delta,np.real(we_ex))\n",
    "# # plt.plot(Esw/Delta,np.real(w_calc[0,:]).T)\n",
    "# # plt.plot(Esw/Delta,np.abs(dot_prod[0,0,:]))\n",
    "# # plt.plot(Esw/Delta,dot_prod[0,1,:])\n",
    "# # plt.plot(Esw/Delta,dot_prod[1,0,:])\n",
    "# # plt.plot(Esw/Delta,dot_prod[1,1,:])\n",
    "# plt.plot(Esw/Delta,vec_diff)\n",
    "\n",
    "# # plt.ylim(0,1)\n",
    "# plt.grid()\n",
    "# plt.xlabel(r'$r_{eh}$')\n",
    "# plt.xlabel(r'$E/\\Delta$')\n",
    "# plt.show()"
   ]
  },
  {
   "cell_type": "code",
   "execution_count": 44,
   "metadata": {},
   "outputs": [
    {
     "name": "stdout",
     "output_type": "stream",
     "text": [
      "[]\n"
     ]
    }
   ],
   "source": [
    "# print(Ree,Reh)\n",
    "# print(np.concatenate((ie_T, ip_T)))\n",
    "print(i_p)"
   ]
  },
  {
   "cell_type": "code",
   "execution_count": null,
   "metadata": {},
   "outputs": [],
   "source": []
  }
 ],
 "metadata": {
  "kernelspec": {
   "display_name": "Python 3",
   "language": "python",
   "name": "python3"
  },
  "language_info": {
   "codemirror_mode": {
    "name": "ipython",
    "version": 3
   },
   "file_extension": ".py",
   "mimetype": "text/x-python",
   "name": "python",
   "nbconvert_exporter": "python",
   "pygments_lexer": "ipython3",
   "version": "3.7.3"
  }
 },
 "nbformat": 4,
 "nbformat_minor": 2
}
