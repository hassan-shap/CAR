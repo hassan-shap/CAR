{
 "cells": [
  {
   "cell_type": "code",
   "execution_count": 3,
   "metadata": {},
   "outputs": [
    {
     "ename": "NameError",
     "evalue": "name 'pyplot' is not defined",
     "output_type": "error",
     "traceback": [
      "\u001b[0;31m---------------------------------------------------------------------------\u001b[0m",
      "\u001b[0;31mNameError\u001b[0m                                 Traceback (most recent call last)",
      "\u001b[0;32m<ipython-input-3-751fdd0e75aa>\u001b[0m in \u001b[0;36m<module>\u001b[0;34m\u001b[0m\n\u001b[1;32m     50\u001b[0m \u001b[0;34m\u001b[0m\u001b[0m\n\u001b[1;32m     51\u001b[0m \u001b[0;32mfor\u001b[0m \u001b[0mi_L\u001b[0m \u001b[0;32min\u001b[0m \u001b[0mrange\u001b[0m\u001b[0;34m(\u001b[0m\u001b[0mlen\u001b[0m\u001b[0;34m(\u001b[0m\u001b[0mLsc_sw\u001b[0m\u001b[0;34m)\u001b[0m\u001b[0;34m)\u001b[0m\u001b[0;34m:\u001b[0m\u001b[0;34m\u001b[0m\u001b[0;34m\u001b[0m\u001b[0m\n\u001b[0;32m---> 52\u001b[0;31m     \u001b[0mN_avg\u001b[0m\u001b[0;34m=\u001b[0m \u001b[0mwf_avg\u001b[0m\u001b[0;34m(\u001b[0m\u001b[0mLsc_sw\u001b[0m\u001b[0;34m[\u001b[0m\u001b[0mi_L\u001b[0m\u001b[0;34m]\u001b[0m\u001b[0;34m)\u001b[0m\u001b[0;34m\u001b[0m\u001b[0;34m\u001b[0m\u001b[0m\n\u001b[0m\u001b[1;32m     53\u001b[0m     \u001b[0mprint\u001b[0m\u001b[0;34m(\u001b[0m\u001b[0;34m\"Average is computed over %d reps.\"\u001b[0m \u001b[0;34m%\u001b[0m \u001b[0;34m(\u001b[0m\u001b[0mN_avg\u001b[0m\u001b[0;34m)\u001b[0m \u001b[0;34m)\u001b[0m\u001b[0;34m\u001b[0m\u001b[0;34m\u001b[0m\u001b[0m\n",
      "\u001b[0;32m<ipython-input-3-751fdd0e75aa>\u001b[0m in \u001b[0;36mwf_avg\u001b[0;34m(SC_width)\u001b[0m\n\u001b[1;32m     28\u001b[0m     \u001b[0mNrep\u001b[0m\u001b[0;34m=\u001b[0m\u001b[0;36m400\u001b[0m\u001b[0;34m\u001b[0m\u001b[0;34m\u001b[0m\u001b[0m\n\u001b[1;32m     29\u001b[0m     \u001b[0mN_avg\u001b[0m\u001b[0;34m=\u001b[0m\u001b[0;36m0\u001b[0m\u001b[0;34m\u001b[0m\u001b[0;34m\u001b[0m\u001b[0m\n\u001b[0;32m---> 30\u001b[0;31m     \u001b[0mpyplot\u001b[0m\u001b[0;34m.\u001b[0m\u001b[0mfigure\u001b[0m\u001b[0;34m(\u001b[0m\u001b[0;34m)\u001b[0m\u001b[0;34m\u001b[0m\u001b[0;34m\u001b[0m\u001b[0m\n\u001b[0m\u001b[1;32m     31\u001b[0m     \u001b[0;32mfor\u001b[0m \u001b[0mi_r\u001b[0m \u001b[0;32min\u001b[0m \u001b[0mrange\u001b[0m\u001b[0;34m(\u001b[0m\u001b[0mNrep\u001b[0m\u001b[0;34m)\u001b[0m\u001b[0;34m:\u001b[0m\u001b[0;34m\u001b[0m\u001b[0;34m\u001b[0m\u001b[0m\n\u001b[1;32m     32\u001b[0m         \u001b[0mfname\u001b[0m\u001b[0;34m=\u001b[0m \u001b[0mout_dir\u001b[0m\u001b[0;34m+\u001b[0m \u001b[0;34m'twosided_phi_%.2f_mu_%.2f_mus_%.2f_D_%.2f_tj_%.2f_W_%d_L_%d_Ls_%d_r_%d.npz'\u001b[0m \u001b[0;34m%\u001b[0m \u001b[0;34m(\u001b[0m\u001b[0mphi\u001b[0m\u001b[0;34m,\u001b[0m\u001b[0mmu\u001b[0m\u001b[0;34m,\u001b[0m\u001b[0mmu_sc\u001b[0m\u001b[0;34m,\u001b[0m\u001b[0mDelta\u001b[0m\u001b[0;34m,\u001b[0m\u001b[0mt_j\u001b[0m\u001b[0;34m,\u001b[0m\u001b[0mW\u001b[0m\u001b[0;34m,\u001b[0m\u001b[0mL\u001b[0m\u001b[0;34m,\u001b[0m\u001b[0mLsc\u001b[0m\u001b[0;34m,\u001b[0m\u001b[0mi_r\u001b[0m\u001b[0;34m)\u001b[0m\u001b[0;34m\u001b[0m\u001b[0;34m\u001b[0m\u001b[0m\n",
      "\u001b[0;31mNameError\u001b[0m: name 'pyplot' is not defined"
     ]
    }
   ],
   "source": [
    "import numpy as np\n",
    "import matplotlib.pyplot as plt\n",
    "from ipywidgets import interact\n",
    "import sys\n",
    "from os import path\n",
    "\n",
    "avg_dir='kw_avg_data/'\n",
    "out_dir='kw_data_files_dis/'\n",
    "\n",
    "W=40\n",
    "L=30\n",
    "Lsc_sw=np.array([10])\n",
    "\n",
    "# parameters\n",
    "t=1\n",
    "mu=0.18\n",
    "mu_sc= mu+t\n",
    "Delta=0.03\n",
    "t_j=1.0\n",
    "phi=0.0095\n",
    "gs=0.\n",
    "gn=0.04\n",
    "lam=0.5\n",
    "U0=0.3\n",
    "\n",
    "def wf_avg(SC_width):\n",
    "    Lsc=SC_width\n",
    "    Nrep=400\n",
    "    N_avg=0\n",
    "    pyplot.figure()\n",
    "    for i_r in range(Nrep):\n",
    "        fname= out_dir+ 'twosided_phi_%.2f_mu_%.2f_mus_%.2f_D_%.2f_tj_%.2f_W_%d_L_%d_Ls_%d_r_%d.npz' % (phi,mu,mu_sc,Delta,t_j,W,L,Lsc,i_r)       \n",
    "        if path.exists(fname):\n",
    "            N_avg += 1\n",
    "            npzfile = np.load(fname)\n",
    "            if N_avg==1:\n",
    "                E_list=npzfile['E_list']\n",
    "                Pe=npzfile['Pe']\n",
    "                plt.plot(E_list/Delta,npzfile['Pe'])\n",
    "            else:\n",
    "                plt.plot(E_list/Delta,npzfile['Pe'])\n",
    "                Pe += npzfile['Pe']\n",
    "    plt.show()\n",
    "    if N_avg>0:\n",
    "        Pe= Pe/N_avg\n",
    "        fname=avg_dir+ 'avg_phi_%.4f_mu_%.2f_mus_%.2f_D_%.2f_tj_%.2f_W_%d_L_%d_Ls_%d.npz' % (phi,mu,mu_sc,Delta,t_j,W,L,Lsc)\n",
    "        np.savez(fname, E_list=E_list, Pe=Pe)\n",
    "        \n",
    "    return N_avg\n",
    "\n",
    "for i_L in range(len(Lsc_sw)):\n",
    "    N_avg= wf_avg(Lsc_sw[i_L])\n",
    "    print(\"Average is computed over %d reps.\" % (N_avg) )"
   ]
  },
  {
   "cell_type": "code",
   "execution_count": 12,
   "metadata": {},
   "outputs": [
    {
     "data": {
      "application/vnd.jupyter.widget-view+json": {
       "model_id": "1766934319a04056a70ca4e7fc6908de",
       "version_major": 2,
       "version_minor": 0
      },
      "text/plain": [
       "interactive(children=(IntSlider(value=49, description='Energy_index', max=99), Dropdown(description='SC_width'…"
      ]
     },
     "metadata": {},
     "output_type": "display_data"
    }
   ],
   "source": [
    "# def wf_plot(Energy_index,SC_width):\n",
    "def wf_plot(SC_width):\n",
    "    Lsc=SC_width\n",
    "    fname=avg_dir+ 'avg_phi_%.4f_mu_%.2f_mus_%.2f_D_%.2f_tj_%.2f_W_%d_L_%d_Ls_%d.npz' % (phi,mu,mu_sc,Delta,t_j,W,L,Lsc)\n",
    "    npzfile = np.load(fname)\n",
    "    E_list=npzfile['E_list']\n",
    "    Pe=npzfile['Pe']\n",
    "\n",
    "#     i_e=Energy_index\n",
    "#     if not sys.warnoptions:\n",
    "#         import warnings\n",
    "#         warnings.simplefilter(\"ignore\")\n",
    "#     ind=0\n",
    "#     fig, axes = pyplot.subplots(nrows=1, ncols=2, figsize=(12, 3))\n",
    "#     pyplot.subplot(1,2,1)\n",
    "# #     pyplot.figure()\n",
    "#     Zmat=abs(wf_arr[ind,::2,i_e])**2-abs(wf_arr[ind,1::2,i_e])**2\n",
    "#     Zmat_plot=np.fliplr(np.reshape(Zmat,[L,W])).T\n",
    "#     pos=pyplot.imshow(Zmat_plot, cmap='RdBu_r')#, aspect=\"auto\",\n",
    "# #                                 interpolation='none')\n",
    "#     pyplot.clim(-0.3,0.3)\n",
    "#     pyplot.xlabel(\"x\")\n",
    "#     pyplot.ylabel(\"y\")\n",
    "#     pyplot.title(r\"$E/\\Delta=%.2f$\" % (E_list[i_e]/Delta))\n",
    "#     fig.colorbar(pos)\n",
    "#     pyplot.subplot(1,2,2)\n",
    "    plt.figure()\n",
    "    plt.plot(E_list/Delta, Pe.T)\n",
    "    plt.legend((r'$e_\\uparrow$', r'$e_\\downarrow$', r'$h_\\uparrow$', r'$h_\\downarrow$'))\n",
    "    plt.xlabel(\"energy [Delta]\")\n",
    "    plt.ylabel(r\"$P_e - P_h$\")\n",
    "    P_diff=Pe[0,:]+Pe[1,:]-Pe[2,:]-Pe[3,:]\n",
    "    plt.plot(E_list/Delta, P_diff.T)\n",
    "    plt.show()\n",
    "\n",
    "# NE=100\n",
    "# interact(wf_plot, Energy_index=(0,NE-1,1), SC_width=np.array([10]));\n",
    "wf_plot(10)"
   ]
  },
  {
   "cell_type": "code",
   "execution_count": 10,
   "metadata": {},
   "outputs": [
    {
     "name": "stdout",
     "output_type": "stream",
     "text": [
      "[0.27338381 0.59042786 0.39517732 0.05244464]\n",
      "[0.05244464 0.39517732 0.59042786 0.27338381]\n"
     ]
    }
   ],
   "source": [
    "# import time\n",
    "\n",
    "# a=int(time.time())\n",
    "# print(a)\n",
    "a=np.random.rand(4)\n",
    "print(a)\n",
    "print(a[::-1])"
   ]
  },
  {
   "cell_type": "code",
   "execution_count": null,
   "metadata": {},
   "outputs": [],
   "source": []
  }
 ],
 "metadata": {
  "kernelspec": {
   "display_name": "Python 3",
   "language": "python",
   "name": "python3"
  },
  "language_info": {
   "codemirror_mode": {
    "name": "ipython",
    "version": 3
   },
   "file_extension": ".py",
   "mimetype": "text/x-python",
   "name": "python",
   "nbconvert_exporter": "python",
   "pygments_lexer": "ipython3",
   "version": "3.7.3"
  }
 },
 "nbformat": 4,
 "nbformat_minor": 2
}
