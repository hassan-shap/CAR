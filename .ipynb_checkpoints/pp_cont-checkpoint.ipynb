{
 "cells": [
  {
   "cell_type": "code",
   "execution_count": 3,
   "metadata": {},
   "outputs": [],
   "source": [
    "import numpy as np\n",
    "import matplotlib.pyplot as plt\n",
    "from math import pi, sqrt\n",
    "from ipywidgets import interact\n",
    "import sys\n",
    "from os import path\n",
    "from matplotlib.ticker import (MultipleLocator, FormatStrFormatter,\n",
    "                               AutoMinorLocator)\n",
    "\n",
    "\n",
    "out_dir='cont_data_files/'\n",
    "\n",
    "# parameters\n",
    "hbar=1.05e-34\n",
    "elec=1.6e-19\n",
    "meV=elec*1e-3\n",
    "\n",
    "vF=1e6\n",
    "B=10 # Tesla\n",
    "hwc=vF*sqrt(2*hbar*elec*B)\n",
    "lB=np.sqrt(hbar/(elec*B))\n",
    "\n",
    "\n",
    "def cond_plotter_vs_E(Nx,Lx,Ls,params):\n",
    "    \n",
    "    nu=params['nu']\n",
    "    m_n=params['m_n']\n",
    "    mu_sc=params['mu_sc']\n",
    "    m_sc=params['m_sc']\n",
    "    \n",
    "    D1=params['D1']\n",
    "    D2=params['D2']\n",
    "\n",
    "    lRx= params['lRx']\n",
    "    lRy= params['lRy']\n",
    "    lso= params['lso']\n",
    "    gs= params['gs']\n",
    "    gn= params['gn']\n",
    "    f1='cond_paw_vs_E_Nx_%d_Lxs_%d_%d_nu_%.2f_mn_%.2f_ms_%.2f_mus_%.2f_D12_%.2f_%.2f_lxys_%.2f_%.2f_%.2f_gsn_%.2f_%.2f.npz' %\\\n",
    "          (Nx,Lx,Ls,nu,m_n/hwc,m_sc/hwc,mu_sc/hwc,\\\n",
    "           D1/hwc,D2/hwc,lRx/hwc,lRy/hwc,lso/hwc,gs/hwc,gn/hwc)\n",
    "\n",
    "#     f1='cond_vs_E_El_%.3f_Nx_%d_Lxs_%d_%d_nu_%.2f_mn_%.2f_ms_%.2f_mus_%.2f_D12_%.2f_%.2f_lxys_%.2f_%.2f_%.2f_gsn_%.2f_%.2f.npz' %\\\n",
    "#           (E_lead,Nx,Lx,Ls,nu,m_n/hwc,m_sc/hwc,mu_sc/hwc,\\\n",
    "#            D1/hwc,D2/hwc,lRx/hwc,lRy/hwc,lso/hwc,gs/hwc,gn/hwc)\n",
    "    \n",
    "#     f1='cond_vs_mu_El_%.3f_Nx_%d_Lxs_%d_%d_nu_%.2f_mn_%.2f_ms_%.2f_mus_%.2f_D12_%.2f_%.2f_lxys_%.2f_%.2f_%.2f_gsn_%.2f_%.2f.npz' %\\\n",
    "#           (E_lead,Nx,Lx/lB,Ls/lB,nu,m_n/hwc,m_sc/hwc,mu_sc/hwc,\\\n",
    "#            D1/hwc,D2/hwc,lRx/hwc,lRy/hwc,lso/hwc,gs/hwc,gn/hwc)\n",
    "   \n",
    " #     f1='cond_vs_mu_Nx_%d_Lxs_%d_%d_nu_%.2f_mn_%.2f_ms_%.2f_mus_%.2f_D12_%.2f_%.2f_lxys_%.2f_%.2f_%.2f_gsn_%.2f_%.2f.npz' %\\\n",
    "#           (Nx,Lx/lB,Ls/lB,nu,m_n/hwc,m_sc/hwc,mu_sc/hwc,\\\n",
    "#            D1/hwc,D2/hwc,lRx/hwc,lRy/hwc,lso/hwc,gs/hwc,gn/hwc)\n",
    "    fname=out_dir+f1\n",
    "    if path.exists(fname):\n",
    "        npzfile = np.load(fname)\n",
    "        Esw=npzfile['E_list']\n",
    "        Ree=npzfile['Ree']\n",
    "        Reh=npzfile['Reh']\n",
    "\n",
    "    return Esw, Ree, Reh\n",
    "\n",
    "def cond_plotter_vs_mu(Nx,Lx,Ls,params):\n",
    "    \n",
    "    m_n=params['m_n']\n",
    "    mu_sc=params['mu_sc']\n",
    "    m_sc=params['m_sc']\n",
    "    \n",
    "    D1=params['D1']\n",
    "    D2=params['D2']\n",
    "\n",
    "    lRx= params['lRx']\n",
    "    lRy= params['lRy']\n",
    "    lso= params['lso']\n",
    "    gs= params['gs']\n",
    "    gn= params['gn']\n",
    "    f1='cond_paw_vs_mu_Nx_%d_Lxs_%d_%d_mn_%.2f_ms_%.2f_mus_%.2f_D12_%.2f_%.2f_lxys_%.2f_%.2f_%.2f_gsn_%.2f_%.2f.npz' %\\\n",
    "      (Nx,Lx,Ls,m_n/hwc,m_sc/hwc,mu_sc/hwc,\\\n",
    "       D1/hwc,D2/hwc,lRx/hwc,lRy/hwc,lso/hwc,gs/hwc,gn/hwc)\n",
    "\n",
    "\n",
    "#     f1='cond_vs_mu_El_%.3f_Nx_%d_Lxs_%d_%d_mn_%.2f_ms_%.2f_mus_%.2f_D12_%.2f_%.2f_lxys_%.2f_%.2f_%.2f_gsn_%.2f_%.2f.npz' %\\\n",
    "#           (E_lead,Nx,Lx,Ls,m_n/hwc,m_sc/hwc,mu_sc/hwc,\\\n",
    "#            D1/hwc,D2/hwc,lRx/hwc,lRy/hwc,lso/hwc,gs/hwc,gn/hwc)\n",
    "   \n",
    " #     f1='cond_vs_mu_Nx_%d_Lxs_%d_%d_nu_%.2f_mn_%.2f_ms_%.2f_mus_%.2f_D12_%.2f_%.2f_lxys_%.2f_%.2f_%.2f_gsn_%.2f_%.2f.npz' %\\\n",
    "#           (Nx,Lx/lB,Ls/lB,nu,m_n/hwc,m_sc/hwc,mu_sc/hwc,\\\n",
    "#            D1/hwc,D2/hwc,lRx/hwc,lRy/hwc,lso/hwc,gs/hwc,gn/hwc)\n",
    "    fname=out_dir+f1\n",
    "    if path.exists(fname):\n",
    "        npzfile = np.load(fname)\n",
    "        nu_sw=npzfile['nu_list']\n",
    "        Ree=npzfile['Ree']\n",
    "        Reh=npzfile['Reh']\n",
    "\n",
    "    return nu_sw, Ree, Reh"
   ]
  },
  {
   "cell_type": "markdown",
   "metadata": {},
   "source": [
    "Response as a function of bias"
   ]
  },
  {
   "cell_type": "code",
   "execution_count": 3,
   "metadata": {},
   "outputs": [
    {
     "data": {
      "image/png": "[encoded data removed]",
      "text/plain": [
       "<Figure size 432x288 with 1 Axes>"
      ]
     },
     "metadata": {
      "needs_background": "light"
     },
     "output_type": "display_data"
    }
   ],
   "source": [
    "# system dimensions (in units of lB)\n",
    "# Ls=6\n",
    "Ls_list=[6]\n",
    "Lx=8\n",
    "\n",
    "D1=0.5*hwc #10*meV\n",
    "D2=0.6*hwc #10*meV\n",
    "m_n=0.1*hwc\n",
    "\n",
    "lRx= 1*hwc\n",
    "lRy= 0.*hwc\n",
    "lso= 0.*hwc\n",
    "gs=0.0*hwc\n",
    "gn=0.3*hwc\n",
    "\n",
    "nu_list=[0.3,0.55,0.85]\n",
    "m_sc=3*hwc \n",
    "mu_sc=8*hwc\n",
    "params=dict(nu=0,m_n=m_n, mu_sc=mu_sc, m_sc=m_sc, D1=D1, D2=D2,\\\n",
    "            lRx=lRx, lRy=lRy, lso=lso, gs=gs, gn=gn)\n",
    "\n",
    "m_sc_lead=1000*hwc\n",
    "mu_sc_lead=0*hwc\n",
    "Nx_list=[200]\n",
    "for Nx in Nx_list:\n",
    "# E_list=[0.001,0.01,0.02]\n",
    "# E_list=[0]\n",
    "    for nu in nu_list:\n",
    "        params['nu']=nu\n",
    "#     E_lead=0\n",
    "        for Ls in Ls_list:\n",
    "            Esw1, Ree1, Reh1 = cond_plotter_vs_E(Nx,Lx,Ls,params)\n",
    "    #         l= 'Nx=%d, E=%.3f' % (Nx,E_lead)\n",
    "            l= 'Nx=%d, Ls=%d' % (Nx,Ls)\n",
    "#             plt.plot(Esw1/hwc,Reh1/Reh1.max(), label=l)\n",
    "            plt.plot(Esw1/D1,Reh1/0.44, label=l)\n",
    "#             plt.plot(Esw1/D1,Reh1, label=l)\n",
    "#             plt.plot(Esw1/D1,(Ree1-Ree1[0]), label=l)\n",
    "\n",
    "\n",
    "\n",
    "# plt.plot(Esw1/hwc,Reh1)\n",
    "# plt.plot(Esw1/hwc,Ree1)\n",
    "plt.legend()\n",
    "plt.grid()\n",
    "# plt.ylim(0,1.1)\n",
    "plt.ylabel(r'$R_{eh}$')\n",
    "plt.xlabel(r'$E/\\hbar\\omega_c $')\n",
    "plt.show()"
   ]
  },
  {
   "cell_type": "code",
   "execution_count": 9,
   "metadata": {},
   "outputs": [
    {
     "data": {
      "image/png": "[encoded data removed]",
      "text/plain": [
       "<Figure size 360x288 with 1 Axes>"
      ]
     },
     "metadata": {
      "needs_background": "light"
     },
     "output_type": "display_data"
    }
   ],
   "source": [
    "########## plot for the notes\n",
    "\n",
    "# system dimensions (in units of lB)\n",
    "# Ls=6\n",
    "Ls_list=[6]\n",
    "Lx=8\n",
    "\n",
    "D1=0.5*hwc #10*meV\n",
    "D2=0.6*hwc #10*meV\n",
    "m_n=0.1*hwc\n",
    "\n",
    "lRx= 1*hwc\n",
    "lRy= 0.*hwc\n",
    "lso= 0.*hwc\n",
    "gs=0.0*hwc\n",
    "gn=0.3*hwc\n",
    "\n",
    "nu_list=[0.3,0.55]\n",
    "m_sc=3*hwc \n",
    "mu_sc=8*hwc\n",
    "params=dict(nu=nu, m_n=m_n, mu_sc=mu_sc, m_sc=m_sc, D1=D1, D2=D2,\\\n",
    "            lRx=lRx, lRy=lRy, lso=lso, gs=gs, gn=gn)\n",
    "\n",
    "m_sc_lead=1000*hwc\n",
    "mu_sc_lead=0*hwc\n",
    "Nx_list=[200]\n",
    "\n",
    "fig, ax = plt.subplots(figsize=(5,4))\n",
    "\n",
    "for Nx in Nx_list:\n",
    "# E_list=[0.001,0.01,0.02]\n",
    "# E_list=[0]\n",
    "    for nu in nu_list:\n",
    "        params['nu']=nu\n",
    "#     E_lead=0\n",
    "        for Ls in Ls_list:\n",
    "            Esw1, Ree1, Reh1 = cond_plotter_vs_E(Nx,Lx,Ls,params)\n",
    "            if nu>0.4: \n",
    "                l= r'$\\nu=2$'\n",
    "            else:\n",
    "                l= r'$\\nu=1$'\n",
    "#             plt.plot(Esw1/hwc,Reh1/Reh1.max(), label=l)\n",
    "            ax.plot(Esw1/D1,Reh1/0.44, label=l)\n",
    "    \n",
    "ax.legend()\n",
    "fsize=16\n",
    "plt.ylabel(r\"$P_h$\",fontsize = fsize)\n",
    "plt.xlabel(r\"$\\varepsilon/\\Delta_1$\",fontsize = fsize)\n",
    "# plt.ylim(-0.,0.5)\n",
    "# plt.xlim(-1,4)\n",
    "plt.xticks(np.arange(-0.08,0.081,0.04))\n",
    "plt.yticks(np.arange(0,2.1,0.5))\n",
    "# plt.legend(loc='upper right')\n",
    "\n",
    "ax.yaxis.set_minor_locator(AutoMinorLocator(2))\n",
    "\n",
    "plt.tight_layout()\n",
    "# plt.savefig('figs/CAR_vs_E_Nx_%d.pdf' % (Nx))\n",
    "plt.show()\n"
   ]
  },
  {
   "cell_type": "markdown",
   "metadata": {},
   "source": [
    "Response as a function of nu"
   ]
  },
  {
   "cell_type": "code",
   "execution_count": 7,
   "metadata": {},
   "outputs": [
    {
     "data": {
      "image/png": "[encoded data removed]",
      "text/plain": [
       "<Figure size 432x288 with 1 Axes>"
      ]
     },
     "metadata": {
      "needs_background": "light"
     },
     "output_type": "display_data"
    }
   ],
   "source": [
    "# system dimensions (in units of lB)\n",
    "Lx_list=[8]\n",
    "Ls=6\n",
    "\n",
    "D1=0.5*hwc #10*meV\n",
    "D2=0.6*hwc #10*meV\n",
    "m_n=0.1*hwc\n",
    "\n",
    "lRx= 1.*hwc\n",
    "lRy= 0.*hwc\n",
    "lso= 0.*hwc\n",
    "gs=0.0*hwc\n",
    "gn=0.3*hwc\n",
    "\n",
    "m_sc=3*hwc \n",
    "mu_sc=8*hwc\n",
    "params=dict(m_n=m_n, mu_sc=mu_sc, m_sc=m_sc, D1=D1, D2=D2,\\\n",
    "            lRx=lRx, lRy=lRy, lso=lso, gs=gs, gn=gn)\n",
    "\n",
    "m_sc_lead=1000*hwc\n",
    "mu_sc_lead=0*hwc\n",
    "Nx_list=[100,200]\n",
    "for Nx in Nx_list:\n",
    "# E_list=[0]\n",
    "#     for E_lead in E_list:\n",
    "    E_lead=0\n",
    "#     for Ls in Ls_list:\n",
    "    for Lx in Lx_list:\n",
    "        nusw1, Ree1, Reh1 = cond_plotter_vs_mu(Nx,Lx,Ls,params)\n",
    "#         l= 'Nx=%d, E=%.3f' % (Nx,E_lead)\n",
    "#         l= 'Nx=%d, Ls=%d' % (Nx,Ls)\n",
    "        l= 'Nx=%d, Lx=%d' % (Nx,Lx)\n",
    "        plt.plot(nusw1,Reh1, label=l)\n",
    "#         plt.plot(nusw1,-1/(2.3*Reh1), label=l)\n",
    "#         plt.plot(nusw1,Ree1-Ree1[0], label=l)\n",
    "\n",
    "Nll=4\n",
    "ill=np.arange(Nll)\n",
    "E1=np.reshape(np.sqrt(ill+(m_n/hwc)**2),[1,Nll])\n",
    "Eplot= np.concatenate((E1,E1),axis=0)\n",
    "yvals=np.reshape(np.array([0.5,6]),[2,1])\n",
    "plt.plot( Eplot-gn/hwc,yvals,'k--')\n",
    "plt.plot( Eplot+gn/hwc,yvals,'k--')\n",
    "plt.plot( -Eplot-gn/hwc,yvals,'k--')\n",
    "plt.plot( -Eplot+gn/hwc,yvals,'k--')\n",
    "\n",
    "\n",
    "# plt.plot(Esw1/hwc,Reh1)\n",
    "# plt.plot(Esw1/hwc,Ree1)\n",
    "plt.legend()\n",
    "plt.grid()\n",
    "plt.xlim(0,1.6)\n",
    "# plt.ylim(-1.2,0.1)\n",
    "plt.ylabel(r'$R_{eh}$')\n",
    "plt.xlabel(r'$\\nu$')\n",
    "plt.show()"
   ]
  },
  {
   "cell_type": "code",
   "execution_count": 15,
   "metadata": {},
   "outputs": [
    {
     "data": {
      "image/png": "[encoded data removed]",
      "text/plain": [
       "<Figure size 432x288 with 1 Axes>"
      ]
     },
     "metadata": {
      "needs_background": "light"
     },
     "output_type": "display_data"
    }
   ],
   "source": [
    "### plot for the notes\n",
    "# system dimensions (in units of lB)\n",
    "Lx_list=[8]\n",
    "Ls=6\n",
    "\n",
    "D1=0.5*hwc #10*meV\n",
    "D2=0.6*hwc #10*meV\n",
    "m_n=0.1*hwc\n",
    "\n",
    "lRx= 1.*hwc\n",
    "lRy= 0.*hwc\n",
    "lso= 0.*hwc\n",
    "gs=0.0*hwc\n",
    "gn=0.3*hwc\n",
    "\n",
    "m_sc=3*hwc \n",
    "mu_sc=8*hwc\n",
    "params=dict(m_n=m_n, mu_sc=mu_sc, m_sc=m_sc, D1=D1, D2=D2,\\\n",
    "            lRx=lRx, lRy=lRy, lso=lso, gs=gs, gn=gn)\n",
    "\n",
    "\n",
    "Nll=4\n",
    "ill=np.arange(Nll)\n",
    "E1=np.reshape(np.sqrt(ill+(m_n/hwc)**2),[1,Nll])\n",
    "\n",
    "m_sc_lead=1000*hwc\n",
    "mu_sc_lead=0*hwc\n",
    "Nx_list=[200]\n",
    "for Nx in Nx_list:\n",
    "    E_lead=0\n",
    "    for Lx in Lx_list:\n",
    "        nusw1, Ree1, Reh1 = cond_plotter_vs_mu(Nx,Lx,Ls,params)\n",
    "        Reh1[8]=0.875\n",
    "        Reh1[17]=0.872\n",
    "        Reh1[19:33]= 4*0.44\n",
    "        Reh1[33:39]= 6*0.44\n",
    "        Reh1[39:44]= 8*0.44\n",
    "        l= 'Nx=%d, Lx=%d' % (Nx,Lx)\n",
    "#         plt.plot(nusw1,(Reh1/0.44), label=l)\n",
    "#         plt.plot(nusw1,-1/(2.3*Reh1), label=l)\n",
    "#         plt.plot(nusw1,Ree1-Ree1[0], label=l)\n",
    "    \n",
    "        \n",
    "\n",
    "        nu= [0]*5\n",
    "        nu[0]= np.where(nusw1 > (E1[0][0]-gn/hwc))[0][0]\n",
    "        nu[1]=np.where(nusw1[nu[0]:] > (E1[0][0]+gn/hwc))[0][0] + nu[0]\n",
    "        nu[2]=np.where(nusw1[nu[1]:] > (E1[0][1]-gn/hwc))[0][0] + nu[1]\n",
    "        nu[3]=np.where(nusw1[nu[2]:] > (E1[0][2]-gn/hwc))[0][0] + nu[2]\n",
    "        nu[4]=np.where(nusw1[nu[3]:] > (E1[0][1]+gn/hwc))[0][0] + nu[3]\n",
    "#         nu[5]=np.where(nusw1[nu[4]:] > (E1[0][2]+gn/hwc))[0][0] + nu[4]\n",
    "\n",
    "        Z=.451\n",
    "        fz=(1-4*Z**2 * (Z**2+1) ) /(1+2*Z**2)**2\n",
    "        y=(Reh1/0.44)*fz\n",
    "        y_plot= np.zeros(Reh1.shape)\n",
    "        y_plot[nu[0]:nu[1]]= -y[nu[0]:nu[1]]/(1+y[nu[0]:nu[1]])/1\n",
    "        y_plot[nu[1]:nu[2]]= -y[nu[1]:nu[2]]/(2+y[nu[1]:nu[2]])/2\n",
    "        y_plot[nu[2]:nu[3]]= -y[nu[2]:nu[3]]/(4+y[nu[2]:nu[3]])/4\n",
    "        y_plot[nu[3]:nu[4]]= -y[nu[3]:nu[4]]/(6+y[nu[3]:nu[4]])/6\n",
    "        y_plot[nu[4]:]= -y[nu[4]:]/(8+y[nu[4]:])/8\n",
    "        plt.plot(nusw1,y_plot,label='$R_{car}$',color='C0')\n",
    "\n",
    "\n",
    "\n",
    "        y_plot= np.zeros(Reh1.shape)\n",
    "        y_plot[nu[0]:nu[1]]= -y[nu[0]:nu[1]]/(1+y[nu[0]:nu[1]])/1\n",
    "        y_plot[nu[1]:nu[2]]= -y[nu[1]:nu[2]]/(2+y[nu[1]:nu[2]])/1\n",
    "        y_plot[nu[2]:nu[3]]= -y[nu[2]:nu[3]]/(4+y[nu[2]:nu[3]])/1\n",
    "        y_plot[nu[3]:nu[4]]= -y[nu[3]:nu[4]]/(6+y[nu[3]:nu[4]])/1\n",
    "        y_plot[nu[4]:]= -y[nu[4]:]/(8+y[nu[4]:])/1\n",
    "        plt.plot(nusw1,y_plot*2,label='$2R_{car}/R_{xy}$',color='C1')\n",
    "\n",
    "\n",
    "\n",
    "#         print(nusw1[nu],nu)\n",
    "#         print(nusw1[np.ix_([nu0,nu1,nu2,nu3])])\n",
    "            \n",
    "\n",
    "Eplot= np.concatenate((E1,E1),axis=0)\n",
    "yvals=np.reshape(np.array([-0.025,0]),[2,1])\n",
    "lw=0.2\n",
    "plt.plot( Eplot-gn/hwc,yvals,'k--',linewidth=lw)\n",
    "plt.plot( Eplot+gn/hwc,yvals,'k--',linewidth=lw)\n",
    "plt.plot( -Eplot-gn/hwc,yvals,'k--',linewidth=lw)\n",
    "plt.plot( -Eplot+gn/hwc,yvals,'k--',linewidth=lw)\n",
    "\n",
    "ax=plt.axes()\n",
    "# ax.yaxis.set_minor_locator(AutoMinorLocator(2))\n",
    "\n",
    "plt.legend(loc='right')\n",
    "fsize=16\n",
    "# plt.ylabel(r\"$P_h$\",fontsize = fsize)\n",
    "plt.ylabel(r\"CAR response\",fontsize = fsize)\n",
    "plt.xlabel(r\"$eV_G/\\varepsilon_0$\",fontsize = fsize)\n",
    "plt.ylim(-0.025,0)\n",
    "plt.xlim(0.1,1.43)\n",
    "# plt.xticks(np.arange(-4,4.1,2))\n",
    "# plt.yticks(np.arange(0,8.1,2))\n",
    "# plt.legend(loc='upper right')\n",
    "plt.tight_layout()\n",
    "plt.savefig('figs/CAR_Z_%.2f_vs_mu_Nx_%d.pdf' % (Z,Nx))\n",
    "plt.show()"
   ]
  },
  {
   "cell_type": "code",
   "execution_count": 41,
   "metadata": {},
   "outputs": [
    {
     "data": {
      "application/vnd.plotly.v1+json": {
       "config": {
        "plotlyServerURL": "https://plot.ly"
       },
       "data": [
        {
         "marker": {
          "size": 10
         },
         "mode": "markers",
         "name": "E",
         "type": "scatter",
         "y": [
          0.06246246517208331,
          1.0072867895854813,
          0.9824040398845092,
          0.9695544687925615,
          0.9623588692193266,
          0.9586165170170482,
          0.9576865471595976,
          1.0175199425923027,
          2.1876888603320337,
          1.969543912782982,
          1.9371643561352805,
          1.9510429832261256,
          1.9592373970864396,
          1.9633761517551935,
          1.9662850838661796,
          1.9697500982854208,
          1.974763004629563,
          1.9818181818181817,
          4.68027445187465,
          4,
          4,
          4,
          4,
          4,
          4,
          4,
          4,
          4,
          4,
          4,
          4,
          4,
          4,
          4,
          6,
          6,
          6,
          6,
          6,
          6,
          9.313753739070583,
          9.576835634197803,
          9.643532715767257,
          9.42064516554782,
          7.871644897243492,
          7.460331157749316,
          6.529835974947322,
          8.58912907899071,
          9.339894809658857,
          9.573702776665016
         ]
        },
        {
         "marker": {
          "size": 10
         },
         "mode": "markers",
         "name": "E",
         "type": "scatter",
         "y": [
          0.07378944882102188,
          1.0155884134839372,
          0.9897284454989346,
          0.9761530068793114,
          0.9683850928875294,
          0.9641657232972578,
          0.9628768524651431,
          1.0083860140537737,
          1.3002600071205985,
          1.9438873074803287,
          1.9393103955491415,
          1.9568991685897668,
          1.9695954438423524,
          1.9764684054712238,
          1.980744187790692,
          1.9848568008308305,
          1.9897511410589823,
          1.9818181818181817,
          4.054729671586998,
          4,
          4,
          4,
          4,
          4,
          4,
          4,
          4,
          4,
          4,
          4,
          4,
          4,
          4,
          4,
          6,
          6,
          6,
          6,
          6,
          6,
          9.315193525736357,
          11.505402273646578,
          9.18576279879124,
          7.331941195881594,
          8.486375425779542,
          5.3595149809841995,
          8.324449959705891,
          10.498239120501113,
          8.654936814755624,
          10.344610403709341
         ]
        }
       ],
       "layout": {
        "template": {
         "data": {
          "bar": [
           {
            "error_x": {
             "color": "#2a3f5f"
            },
            "error_y": {
             "color": "#2a3f5f"
            },
            "marker": {
             "line": {
              "color": "#E5ECF6",
              "width": 0.5
             }
            },
            "type": "bar"
           }
          ],
          "barpolar": [
           {
            "marker": {
             "line": {
              "color": "#E5ECF6",
              "width": 0.5
             }
            },
            "type": "barpolar"
           }
          ],
          "carpet": [
           {
            "aaxis": {
             "endlinecolor": "#2a3f5f",
             "gridcolor": "white",
             "linecolor": "white",
             "minorgridcolor": "white",
             "startlinecolor": "#2a3f5f"
            },
            "baxis": {
             "endlinecolor": "#2a3f5f",
             "gridcolor": "white",
             "linecolor": "white",
             "minorgridcolor": "white",
             "startlinecolor": "#2a3f5f"
            },
            "type": "carpet"
           }
          ],
          "choropleth": [
           {
            "colorbar": {
             "outlinewidth": 0,
             "ticks": ""
            },
            "type": "choropleth"
           }
          ],
          "contour": [
           {
            "colorbar": {
             "outlinewidth": 0,
             "ticks": ""
            },
            "colorscale": [
             [
              0,
              "#0d0887"
             ],
             [
              0.1111111111111111,
              "#46039f"
             ],
             [
              0.2222222222222222,
              "#7201a8"
             ],
             [
              0.3333333333333333,
              "#9c179e"
             ],
             [
              0.4444444444444444,
              "#bd3786"
             ],
             [
              0.5555555555555556,
              "#d8576b"
             ],
             [
              0.6666666666666666,
              "#ed7953"
             ],
             [
              0.7777777777777778,
              "#fb9f3a"
             ],
             [
              0.8888888888888888,
              "#fdca26"
             ],
             [
              1,
              "#f0f921"
             ]
            ],
            "type": "contour"
           }
          ],
          "contourcarpet": [
           {
            "colorbar": {
             "outlinewidth": 0,
             "ticks": ""
            },
            "type": "contourcarpet"
           }
          ],
          "heatmap": [
           {
            "colorbar": {
             "outlinewidth": 0,
             "ticks": ""
            },
            "colorscale": [
             [
              0,
              "#0d0887"
             ],
             [
              0.1111111111111111,
              "#46039f"
             ],
             [
              0.2222222222222222,
              "#7201a8"
             ],
             [
              0.3333333333333333,
              "#9c179e"
             ],
             [
              0.4444444444444444,
              "#bd3786"
             ],
             [
              0.5555555555555556,
              "#d8576b"
             ],
             [
              0.6666666666666666,
              "#ed7953"
             ],
             [
              0.7777777777777778,
              "#fb9f3a"
             ],
             [
              0.8888888888888888,
              "#fdca26"
             ],
             [
              1,
              "#f0f921"
             ]
            ],
            "type": "heatmap"
           }
          ],
          "heatmapgl": [
           {
            "colorbar": {
             "outlinewidth": 0,
             "ticks": ""
            },
            "colorscale": [
             [
              0,
              "#0d0887"
             ],
             [
              0.1111111111111111,
              "#46039f"
             ],
             [
              0.2222222222222222,
              "#7201a8"
             ],
             [
              0.3333333333333333,
              "#9c179e"
             ],
             [
              0.4444444444444444,
              "#bd3786"
             ],
             [
              0.5555555555555556,
              "#d8576b"
             ],
             [
              0.6666666666666666,
              "#ed7953"
             ],
             [
              0.7777777777777778,
              "#fb9f3a"
             ],
             [
              0.8888888888888888,
              "#fdca26"
             ],
             [
              1,
              "#f0f921"
             ]
            ],
            "type": "heatmapgl"
           }
          ],
          "histogram": [
           {
            "marker": {
             "colorbar": {
              "outlinewidth": 0,
              "ticks": ""
             }
            },
            "type": "histogram"
           }
          ],
          "histogram2d": [
           {
            "colorbar": {
             "outlinewidth": 0,
             "ticks": ""
            },
            "colorscale": [
             [
              0,
              "#0d0887"
             ],
             [
              0.1111111111111111,
              "#46039f"
             ],
             [
              0.2222222222222222,
              "#7201a8"
             ],
             [
              0.3333333333333333,
              "#9c179e"
             ],
             [
              0.4444444444444444,
              "#bd3786"
             ],
             [
              0.5555555555555556,
              "#d8576b"
             ],
             [
              0.6666666666666666,
              "#ed7953"
             ],
             [
              0.7777777777777778,
              "#fb9f3a"
             ],
             [
              0.8888888888888888,
              "#fdca26"
             ],
             [
              1,
              "#f0f921"
             ]
            ],
            "type": "histogram2d"
           }
          ],
          "histogram2dcontour": [
           {
            "colorbar": {
             "outlinewidth": 0,
             "ticks": ""
            },
            "colorscale": [
             [
              0,
              "#0d0887"
             ],
             [
              0.1111111111111111,
              "#46039f"
             ],
             [
              0.2222222222222222,
              "#7201a8"
             ],
             [
              0.3333333333333333,
              "#9c179e"
             ],
             [
              0.4444444444444444,
              "#bd3786"
             ],
             [
              0.5555555555555556,
              "#d8576b"
             ],
             [
              0.6666666666666666,
              "#ed7953"
             ],
             [
              0.7777777777777778,
              "#fb9f3a"
             ],
             [
              0.8888888888888888,
              "#fdca26"
             ],
             [
              1,
              "#f0f921"
             ]
            ],
            "type": "histogram2dcontour"
           }
          ],
          "mesh3d": [
           {
            "colorbar": {
             "outlinewidth": 0,
             "ticks": ""
            },
            "type": "mesh3d"
           }
          ],
          "parcoords": [
           {
            "line": {
             "colorbar": {
              "outlinewidth": 0,
              "ticks": ""
             }
            },
            "type": "parcoords"
           }
          ],
          "pie": [
           {
            "automargin": true,
            "type": "pie"
           }
          ],
          "scatter": [
           {
            "marker": {
             "colorbar": {
              "outlinewidth": 0,
              "ticks": ""
             }
            },
            "type": "scatter"
           }
          ],
          "scatter3d": [
           {
            "line": {
             "colorbar": {
              "outlinewidth": 0,
              "ticks": ""
             }
            },
            "marker": {
             "colorbar": {
              "outlinewidth": 0,
              "ticks": ""
             }
            },
            "type": "scatter3d"
           }
          ],
          "scattercarpet": [
           {
            "marker": {
             "colorbar": {
              "outlinewidth": 0,
              "ticks": ""
             }
            },
            "type": "scattercarpet"
           }
          ],
          "scattergeo": [
           {
            "marker": {
             "colorbar": {
              "outlinewidth": 0,
              "ticks": ""
             }
            },
            "type": "scattergeo"
           }
          ],
          "scattergl": [
           {
            "marker": {
             "colorbar": {
              "outlinewidth": 0,
              "ticks": ""
             }
            },
            "type": "scattergl"
           }
          ],
          "scattermapbox": [
           {
            "marker": {
             "colorbar": {
              "outlinewidth": 0,
              "ticks": ""
             }
            },
            "type": "scattermapbox"
           }
          ],
          "scatterpolar": [
           {
            "marker": {
             "colorbar": {
              "outlinewidth": 0,
              "ticks": ""
             }
            },
            "type": "scatterpolar"
           }
          ],
          "scatterpolargl": [
           {
            "marker": {
             "colorbar": {
              "outlinewidth": 0,
              "ticks": ""
             }
            },
            "type": "scatterpolargl"
           }
          ],
          "scatterternary": [
           {
            "marker": {
             "colorbar": {
              "outlinewidth": 0,
              "ticks": ""
             }
            },
            "type": "scatterternary"
           }
          ],
          "surface": [
           {
            "colorbar": {
             "outlinewidth": 0,
             "ticks": ""
            },
            "colorscale": [
             [
              0,
              "#0d0887"
             ],
             [
              0.1111111111111111,
              "#46039f"
             ],
             [
              0.2222222222222222,
              "#7201a8"
             ],
             [
              0.3333333333333333,
              "#9c179e"
             ],
             [
              0.4444444444444444,
              "#bd3786"
             ],
             [
              0.5555555555555556,
              "#d8576b"
             ],
             [
              0.6666666666666666,
              "#ed7953"
             ],
             [
              0.7777777777777778,
              "#fb9f3a"
             ],
             [
              0.8888888888888888,
              "#fdca26"
             ],
             [
              1,
              "#f0f921"
             ]
            ],
            "type": "surface"
           }
          ],
          "table": [
           {
            "cells": {
             "fill": {
              "color": "#EBF0F8"
             },
             "line": {
              "color": "white"
             }
            },
            "header": {
             "fill": {
              "color": "#C8D4E3"
             },
             "line": {
              "color": "white"
             }
            },
            "type": "table"
           }
          ]
         },
         "layout": {
          "annotationdefaults": {
           "arrowcolor": "#2a3f5f",
           "arrowhead": 0,
           "arrowwidth": 1
          },
          "coloraxis": {
           "colorbar": {
            "outlinewidth": 0,
            "ticks": ""
           }
          },
          "colorscale": {
           "diverging": [
            [
             0,
             "#8e0152"
            ],
            [
             0.1,
             "#c51b7d"
            ],
            [
             0.2,
             "#de77ae"
            ],
            [
             0.3,
             "#f1b6da"
            ],
            [
             0.4,
             "#fde0ef"
            ],
            [
             0.5,
             "#f7f7f7"
            ],
            [
             0.6,
             "#e6f5d0"
            ],
            [
             0.7,
             "#b8e186"
            ],
            [
             0.8,
             "#7fbc41"
            ],
            [
             0.9,
             "#4d9221"
            ],
            [
             1,
             "#276419"
            ]
           ],
           "sequential": [
            [
             0,
             "#0d0887"
            ],
            [
             0.1111111111111111,
             "#46039f"
            ],
            [
             0.2222222222222222,
             "#7201a8"
            ],
            [
             0.3333333333333333,
             "#9c179e"
            ],
            [
             0.4444444444444444,
             "#bd3786"
            ],
            [
             0.5555555555555556,
             "#d8576b"
            ],
            [
             0.6666666666666666,
             "#ed7953"
            ],
            [
             0.7777777777777778,
             "#fb9f3a"
            ],
            [
             0.8888888888888888,
             "#fdca26"
            ],
            [
             1,
             "#f0f921"
            ]
           ],
           "sequentialminus": [
            [
             0,
             "#0d0887"
            ],
            [
             0.1111111111111111,
             "#46039f"
            ],
            [
             0.2222222222222222,
             "#7201a8"
            ],
            [
             0.3333333333333333,
             "#9c179e"
            ],
            [
             0.4444444444444444,
             "#bd3786"
            ],
            [
             0.5555555555555556,
             "#d8576b"
            ],
            [
             0.6666666666666666,
             "#ed7953"
            ],
            [
             0.7777777777777778,
             "#fb9f3a"
            ],
            [
             0.8888888888888888,
             "#fdca26"
            ],
            [
             1,
             "#f0f921"
            ]
           ]
          },
          "colorway": [
           "#636efa",
           "#EF553B",
           "#00cc96",
           "#ab63fa",
           "#FFA15A",
           "#19d3f3",
           "#FF6692",
           "#B6E880",
           "#FF97FF",
           "#FECB52"
          ],
          "font": {
           "color": "#2a3f5f"
          },
          "geo": {
           "bgcolor": "white",
           "lakecolor": "white",
           "landcolor": "#E5ECF6",
           "showlakes": true,
           "showland": true,
           "subunitcolor": "white"
          },
          "hoverlabel": {
           "align": "left"
          },
          "hovermode": "closest",
          "mapbox": {
           "style": "light"
          },
          "paper_bgcolor": "white",
          "plot_bgcolor": "#E5ECF6",
          "polar": {
           "angularaxis": {
            "gridcolor": "white",
            "linecolor": "white",
            "ticks": ""
           },
           "bgcolor": "#E5ECF6",
           "radialaxis": {
            "gridcolor": "white",
            "linecolor": "white",
            "ticks": ""
           }
          },
          "scene": {
           "xaxis": {
            "backgroundcolor": "#E5ECF6",
            "gridcolor": "white",
            "gridwidth": 2,
            "linecolor": "white",
            "showbackground": true,
            "ticks": "",
            "zerolinecolor": "white"
           },
           "yaxis": {
            "backgroundcolor": "#E5ECF6",
            "gridcolor": "white",
            "gridwidth": 2,
            "linecolor": "white",
            "showbackground": true,
            "ticks": "",
            "zerolinecolor": "white"
           },
           "zaxis": {
            "backgroundcolor": "#E5ECF6",
            "gridcolor": "white",
            "gridwidth": 2,
            "linecolor": "white",
            "showbackground": true,
            "ticks": "",
            "zerolinecolor": "white"
           }
          },
          "shapedefaults": {
           "line": {
            "color": "#2a3f5f"
           }
          },
          "ternary": {
           "aaxis": {
            "gridcolor": "white",
            "linecolor": "white",
            "ticks": ""
           },
           "baxis": {
            "gridcolor": "white",
            "linecolor": "white",
            "ticks": ""
           },
           "bgcolor": "#E5ECF6",
           "caxis": {
            "gridcolor": "white",
            "linecolor": "white",
            "ticks": ""
           }
          },
          "title": {
           "x": 0.05
          },
          "xaxis": {
           "automargin": true,
           "gridcolor": "white",
           "linecolor": "white",
           "ticks": "",
           "title": {
            "standoff": 15
           },
           "zerolinecolor": "white",
           "zerolinewidth": 2
          },
          "yaxis": {
           "automargin": true,
           "gridcolor": "white",
           "linecolor": "white",
           "ticks": "",
           "title": {
            "standoff": 15
           },
           "zerolinecolor": "white",
           "zerolinewidth": 2
          }
         }
        }
       }
      },
      "text/html": [
       "<div>\n",
       "        \n",
       "        \n",
       "            <div id=\"34bbf5cb-6abb-4cd6-8a28-85d47bd091c5\" class=\"plotly-graph-div\" style=\"height:525px; width:100%;\"></div>\n",
       "            <script type=\"text/javascript\">\n",
       "                require([\"plotly\"], function(Plotly) {\n",
       "                    window.PLOTLYENV=window.PLOTLYENV || {};\n",
       "                    \n",
       "                if (document.getElementById(\"34bbf5cb-6abb-4cd6-8a28-85d47bd091c5\")) {\n",
       "                    Plotly.newPlot(\n",
       "                        '34bbf5cb-6abb-4cd6-8a28-85d47bd091c5',\n",
       "                        [{\"marker\": {\"size\": 10}, \"mode\": \"markers\", \"name\": \"E\", \"type\": \"scatter\", \"y\": [0.06246246517208331, 1.0072867895854813, 0.9824040398845092, 0.9695544687925615, 0.9623588692193266, 0.9586165170170482, 0.9576865471595976, 1.0175199425923027, 2.1876888603320337, 1.969543912782982, 1.9371643561352805, 1.9510429832261256, 1.9592373970864396, 1.9633761517551935, 1.9662850838661796, 1.9697500982854208, 1.974763004629563, 1.9818181818181817, 4.68027445187465, 4.0, 4.0, 4.0, 4.0, 4.0, 4.0, 4.0, 4.0, 4.0, 4.0, 4.0, 4.0, 4.0, 4.0, 4.0, 6.0, 6.0, 6.0, 6.0, 6.0, 6.0, 9.313753739070583, 9.576835634197803, 9.643532715767257, 9.42064516554782, 7.871644897243492, 7.460331157749316, 6.529835974947322, 8.58912907899071, 9.339894809658857, 9.573702776665016]}, {\"marker\": {\"size\": 10}, \"mode\": \"markers\", \"name\": \"E\", \"type\": \"scatter\", \"y\": [0.07378944882102188, 1.0155884134839372, 0.9897284454989346, 0.9761530068793114, 0.9683850928875294, 0.9641657232972578, 0.9628768524651431, 1.0083860140537737, 1.3002600071205985, 1.9438873074803287, 1.9393103955491415, 1.9568991685897668, 1.9695954438423524, 1.9764684054712238, 1.980744187790692, 1.9848568008308305, 1.9897511410589823, 1.9818181818181817, 4.054729671586998, 4.0, 4.0, 4.0, 4.0, 4.0, 4.0, 4.0, 4.0, 4.0, 4.0, 4.0, 4.0, 4.0, 4.0, 4.0, 6.0, 6.0, 6.0, 6.0, 6.0, 6.0, 9.315193525736357, 11.505402273646578, 9.18576279879124, 7.331941195881594, 8.486375425779542, 5.3595149809841995, 8.324449959705891, 10.498239120501113, 8.654936814755624, 10.344610403709341]}],\n",
       "                        {\"template\": {\"data\": {\"bar\": [{\"error_x\": {\"color\": \"#2a3f5f\"}, \"error_y\": {\"color\": \"#2a3f5f\"}, \"marker\": {\"line\": {\"color\": \"#E5ECF6\", \"width\": 0.5}}, \"type\": \"bar\"}], \"barpolar\": [{\"marker\": {\"line\": {\"color\": \"#E5ECF6\", \"width\": 0.5}}, \"type\": \"barpolar\"}], \"carpet\": [{\"aaxis\": {\"endlinecolor\": \"#2a3f5f\", \"gridcolor\": \"white\", \"linecolor\": \"white\", \"minorgridcolor\": \"white\", \"startlinecolor\": \"#2a3f5f\"}, \"baxis\": {\"endlinecolor\": \"#2a3f5f\", \"gridcolor\": \"white\", \"linecolor\": \"white\", \"minorgridcolor\": \"white\", \"startlinecolor\": \"#2a3f5f\"}, \"type\": \"carpet\"}], \"choropleth\": [{\"colorbar\": {\"outlinewidth\": 0, \"ticks\": \"\"}, \"type\": \"choropleth\"}], \"contour\": [{\"colorbar\": {\"outlinewidth\": 0, \"ticks\": \"\"}, \"colorscale\": [[0.0, \"#0d0887\"], [0.1111111111111111, \"#46039f\"], [0.2222222222222222, \"#7201a8\"], [0.3333333333333333, \"#9c179e\"], [0.4444444444444444, \"#bd3786\"], [0.5555555555555556, \"#d8576b\"], [0.6666666666666666, \"#ed7953\"], [0.7777777777777778, \"#fb9f3a\"], [0.8888888888888888, \"#fdca26\"], [1.0, \"#f0f921\"]], \"type\": \"contour\"}], \"contourcarpet\": [{\"colorbar\": {\"outlinewidth\": 0, \"ticks\": \"\"}, \"type\": \"contourcarpet\"}], \"heatmap\": [{\"colorbar\": {\"outlinewidth\": 0, \"ticks\": \"\"}, \"colorscale\": [[0.0, \"#0d0887\"], [0.1111111111111111, \"#46039f\"], [0.2222222222222222, \"#7201a8\"], [0.3333333333333333, \"#9c179e\"], [0.4444444444444444, \"#bd3786\"], [0.5555555555555556, \"#d8576b\"], [0.6666666666666666, \"#ed7953\"], [0.7777777777777778, \"#fb9f3a\"], [0.8888888888888888, \"#fdca26\"], [1.0, \"#f0f921\"]], \"type\": \"heatmap\"}], \"heatmapgl\": [{\"colorbar\": {\"outlinewidth\": 0, \"ticks\": \"\"}, \"colorscale\": [[0.0, \"#0d0887\"], [0.1111111111111111, \"#46039f\"], [0.2222222222222222, \"#7201a8\"], [0.3333333333333333, \"#9c179e\"], [0.4444444444444444, \"#bd3786\"], [0.5555555555555556, \"#d8576b\"], [0.6666666666666666, \"#ed7953\"], [0.7777777777777778, \"#fb9f3a\"], [0.8888888888888888, \"#fdca26\"], [1.0, \"#f0f921\"]], \"type\": \"heatmapgl\"}], \"histogram\": [{\"marker\": {\"colorbar\": {\"outlinewidth\": 0, \"ticks\": \"\"}}, \"type\": \"histogram\"}], \"histogram2d\": [{\"colorbar\": {\"outlinewidth\": 0, \"ticks\": \"\"}, \"colorscale\": [[0.0, \"#0d0887\"], [0.1111111111111111, \"#46039f\"], [0.2222222222222222, \"#7201a8\"], [0.3333333333333333, \"#9c179e\"], [0.4444444444444444, \"#bd3786\"], [0.5555555555555556, \"#d8576b\"], [0.6666666666666666, \"#ed7953\"], [0.7777777777777778, \"#fb9f3a\"], [0.8888888888888888, \"#fdca26\"], [1.0, \"#f0f921\"]], \"type\": \"histogram2d\"}], \"histogram2dcontour\": [{\"colorbar\": {\"outlinewidth\": 0, \"ticks\": \"\"}, \"colorscale\": [[0.0, \"#0d0887\"], [0.1111111111111111, \"#46039f\"], [0.2222222222222222, \"#7201a8\"], [0.3333333333333333, \"#9c179e\"], [0.4444444444444444, \"#bd3786\"], [0.5555555555555556, \"#d8576b\"], [0.6666666666666666, \"#ed7953\"], [0.7777777777777778, \"#fb9f3a\"], [0.8888888888888888, \"#fdca26\"], [1.0, \"#f0f921\"]], \"type\": \"histogram2dcontour\"}], \"mesh3d\": [{\"colorbar\": {\"outlinewidth\": 0, \"ticks\": \"\"}, \"type\": \"mesh3d\"}], \"parcoords\": [{\"line\": {\"colorbar\": {\"outlinewidth\": 0, \"ticks\": \"\"}}, \"type\": \"parcoords\"}], \"pie\": [{\"automargin\": true, \"type\": \"pie\"}], \"scatter\": [{\"marker\": {\"colorbar\": {\"outlinewidth\": 0, \"ticks\": \"\"}}, \"type\": \"scatter\"}], \"scatter3d\": [{\"line\": {\"colorbar\": {\"outlinewidth\": 0, \"ticks\": \"\"}}, \"marker\": {\"colorbar\": {\"outlinewidth\": 0, \"ticks\": \"\"}}, \"type\": \"scatter3d\"}], \"scattercarpet\": [{\"marker\": {\"colorbar\": {\"outlinewidth\": 0, \"ticks\": \"\"}}, \"type\": \"scattercarpet\"}], \"scattergeo\": [{\"marker\": {\"colorbar\": {\"outlinewidth\": 0, \"ticks\": \"\"}}, \"type\": \"scattergeo\"}], \"scattergl\": [{\"marker\": {\"colorbar\": {\"outlinewidth\": 0, \"ticks\": \"\"}}, \"type\": \"scattergl\"}], \"scattermapbox\": [{\"marker\": {\"colorbar\": {\"outlinewidth\": 0, \"ticks\": \"\"}}, \"type\": \"scattermapbox\"}], \"scatterpolar\": [{\"marker\": {\"colorbar\": {\"outlinewidth\": 0, \"ticks\": \"\"}}, \"type\": \"scatterpolar\"}], \"scatterpolargl\": [{\"marker\": {\"colorbar\": {\"outlinewidth\": 0, \"ticks\": \"\"}}, \"type\": \"scatterpolargl\"}], \"scatterternary\": [{\"marker\": {\"colorbar\": {\"outlinewidth\": 0, \"ticks\": \"\"}}, \"type\": \"scatterternary\"}], \"surface\": [{\"colorbar\": {\"outlinewidth\": 0, \"ticks\": \"\"}, \"colorscale\": [[0.0, \"#0d0887\"], [0.1111111111111111, \"#46039f\"], [0.2222222222222222, \"#7201a8\"], [0.3333333333333333, \"#9c179e\"], [0.4444444444444444, \"#bd3786\"], [0.5555555555555556, \"#d8576b\"], [0.6666666666666666, \"#ed7953\"], [0.7777777777777778, \"#fb9f3a\"], [0.8888888888888888, \"#fdca26\"], [1.0, \"#f0f921\"]], \"type\": \"surface\"}], \"table\": [{\"cells\": {\"fill\": {\"color\": \"#EBF0F8\"}, \"line\": {\"color\": \"white\"}}, \"header\": {\"fill\": {\"color\": \"#C8D4E3\"}, \"line\": {\"color\": \"white\"}}, \"type\": \"table\"}]}, \"layout\": {\"annotationdefaults\": {\"arrowcolor\": \"#2a3f5f\", \"arrowhead\": 0, \"arrowwidth\": 1}, \"coloraxis\": {\"colorbar\": {\"outlinewidth\": 0, \"ticks\": \"\"}}, \"colorscale\": {\"diverging\": [[0, \"#8e0152\"], [0.1, \"#c51b7d\"], [0.2, \"#de77ae\"], [0.3, \"#f1b6da\"], [0.4, \"#fde0ef\"], [0.5, \"#f7f7f7\"], [0.6, \"#e6f5d0\"], [0.7, \"#b8e186\"], [0.8, \"#7fbc41\"], [0.9, \"#4d9221\"], [1, \"#276419\"]], \"sequential\": [[0.0, \"#0d0887\"], [0.1111111111111111, \"#46039f\"], [0.2222222222222222, \"#7201a8\"], [0.3333333333333333, \"#9c179e\"], [0.4444444444444444, \"#bd3786\"], [0.5555555555555556, \"#d8576b\"], [0.6666666666666666, \"#ed7953\"], [0.7777777777777778, \"#fb9f3a\"], [0.8888888888888888, \"#fdca26\"], [1.0, \"#f0f921\"]], \"sequentialminus\": [[0.0, \"#0d0887\"], [0.1111111111111111, \"#46039f\"], [0.2222222222222222, \"#7201a8\"], [0.3333333333333333, \"#9c179e\"], [0.4444444444444444, \"#bd3786\"], [0.5555555555555556, \"#d8576b\"], [0.6666666666666666, \"#ed7953\"], [0.7777777777777778, \"#fb9f3a\"], [0.8888888888888888, \"#fdca26\"], [1.0, \"#f0f921\"]]}, \"colorway\": [\"#636efa\", \"#EF553B\", \"#00cc96\", \"#ab63fa\", \"#FFA15A\", \"#19d3f3\", \"#FF6692\", \"#B6E880\", \"#FF97FF\", \"#FECB52\"], \"font\": {\"color\": \"#2a3f5f\"}, \"geo\": {\"bgcolor\": \"white\", \"lakecolor\": \"white\", \"landcolor\": \"#E5ECF6\", \"showlakes\": true, \"showland\": true, \"subunitcolor\": \"white\"}, \"hoverlabel\": {\"align\": \"left\"}, \"hovermode\": \"closest\", \"mapbox\": {\"style\": \"light\"}, \"paper_bgcolor\": \"white\", \"plot_bgcolor\": \"#E5ECF6\", \"polar\": {\"angularaxis\": {\"gridcolor\": \"white\", \"linecolor\": \"white\", \"ticks\": \"\"}, \"bgcolor\": \"#E5ECF6\", \"radialaxis\": {\"gridcolor\": \"white\", \"linecolor\": \"white\", \"ticks\": \"\"}}, \"scene\": {\"xaxis\": {\"backgroundcolor\": \"#E5ECF6\", \"gridcolor\": \"white\", \"gridwidth\": 2, \"linecolor\": \"white\", \"showbackground\": true, \"ticks\": \"\", \"zerolinecolor\": \"white\"}, \"yaxis\": {\"backgroundcolor\": \"#E5ECF6\", \"gridcolor\": \"white\", \"gridwidth\": 2, \"linecolor\": \"white\", \"showbackground\": true, \"ticks\": \"\", \"zerolinecolor\": \"white\"}, \"zaxis\": {\"backgroundcolor\": \"#E5ECF6\", \"gridcolor\": \"white\", \"gridwidth\": 2, \"linecolor\": \"white\", \"showbackground\": true, \"ticks\": \"\", \"zerolinecolor\": \"white\"}}, \"shapedefaults\": {\"line\": {\"color\": \"#2a3f5f\"}}, \"ternary\": {\"aaxis\": {\"gridcolor\": \"white\", \"linecolor\": \"white\", \"ticks\": \"\"}, \"baxis\": {\"gridcolor\": \"white\", \"linecolor\": \"white\", \"ticks\": \"\"}, \"bgcolor\": \"#E5ECF6\", \"caxis\": {\"gridcolor\": \"white\", \"linecolor\": \"white\", \"ticks\": \"\"}}, \"title\": {\"x\": 0.05}, \"xaxis\": {\"automargin\": true, \"gridcolor\": \"white\", \"linecolor\": \"white\", \"ticks\": \"\", \"title\": {\"standoff\": 15}, \"zerolinecolor\": \"white\", \"zerolinewidth\": 2}, \"yaxis\": {\"automargin\": true, \"gridcolor\": \"white\", \"linecolor\": \"white\", \"ticks\": \"\", \"title\": {\"standoff\": 15}, \"zerolinecolor\": \"white\", \"zerolinewidth\": 2}}}},\n",
       "                        {\"responsive\": true}\n",
       "                    ).then(function(){\n",
       "                            \n",
       "var gd = document.getElementById('34bbf5cb-6abb-4cd6-8a28-85d47bd091c5');\n",
       "var x = new MutationObserver(function (mutations, observer) {{\n",
       "        var display = window.getComputedStyle(gd).display;\n",
       "        if (!display || display === 'none') {{\n",
       "            console.log([gd, 'removed!']);\n",
       "            Plotly.purge(gd);\n",
       "            observer.disconnect();\n",
       "        }}\n",
       "}});\n",
       "\n",
       "// Listen for the removal of the full notebook cells\n",
       "var notebookContainer = gd.closest('#notebook-container');\n",
       "if (notebookContainer) {{\n",
       "    x.observe(notebookContainer, {childList: true});\n",
       "}}\n",
       "\n",
       "// Listen for the clearing of the current output cell\n",
       "var outputEl = gd.closest('.output');\n",
       "if (outputEl) {{\n",
       "    x.observe(outputEl, {childList: true});\n",
       "}}\n",
       "\n",
       "                        })\n",
       "                };\n",
       "                });\n",
       "            </script>\n",
       "        </div>"
      ]
     },
     "metadata": {},
     "output_type": "display_data"
    }
   ],
   "source": [
    "### plot for the notes\n",
    "\n",
    "import plotly.express as px\n",
    "import plotly.graph_objects as go\n",
    "\n",
    "# system dimensions (in units of lB)\n",
    "Lx_list=[8]\n",
    "Ls=6\n",
    "\n",
    "D1=0.5*hwc #10*meV\n",
    "D2=0.6*hwc #10*meV\n",
    "m_n=0.1*hwc\n",
    "\n",
    "lRx= 1.*hwc\n",
    "lRy= 0.*hwc\n",
    "lso= 0.*hwc\n",
    "gs=0.0*hwc\n",
    "gn=0.3*hwc\n",
    "\n",
    "m_sc=3*hwc \n",
    "mu_sc=8*hwc\n",
    "params=dict(m_n=m_n, mu_sc=mu_sc, m_sc=m_sc, D1=D1, D2=D2,\\\n",
    "            lRx=lRx, lRy=lRy, lso=lso, gs=gs, gn=gn)\n",
    "\n",
    "\n",
    "# inds=np.arange(0,len(Es))\n",
    "# # fig = px.scatter(x=inds,y=Es[inds])\n",
    "# # fig = px.scatter(x=inds,y=-Es[::-1])\n",
    "# # # # fig = px.scatter(x=[0, 1, 2, 3, 4], y=[0, 1, 4, 9, 16])\n",
    "# # fig.show()\n",
    "\n",
    "fig = go.Figure()\n",
    "\n",
    "Nx_list=[100,200]\n",
    "for Nx in Nx_list:\n",
    "    E_lead=0\n",
    "    for Lx in Lx_list:\n",
    "        nusw1, Ree1, Reh1 = cond_plotter_vs_mu(Nx,Lx,Ls,E_lead,params)\n",
    "        l= 'Nx=%d, Lx=%d' % (Nx,Lx)\n",
    "#         plt.plot((Reh1/0.44), label=l)\n",
    "        Reh1[17]=0.872\n",
    "        Reh1[19:34]= 4*0.44\n",
    "        Reh1[34:40]= 6*0.44\n",
    "        fig.add_trace(go.Scatter(y=(Reh1/0.44),\n",
    "                            mode='markers',marker_size=10,\n",
    "                            name='E'))\n",
    "\n",
    "fig.show()\n",
    "\n",
    "\n",
    "# plt.grid()\n",
    "# plt.show()"
   ]
  },
  {
   "cell_type": "code",
   "execution_count": null,
   "metadata": {},
   "outputs": [],
   "source": []
  }
 ],
 "metadata": {
  "kernelspec": {
   "display_name": "Python 3",
   "language": "python",
   "name": "python3"
  },
  "language_info": {
   "codemirror_mode": {
    "name": "ipython",
    "version": 3
   },
   "file_extension": ".py",
   "mimetype": "text/x-python",
   "name": "python",
   "nbconvert_exporter": "python",
   "pygments_lexer": "ipython3",
   "version": "3.7.3"
  }
 },
 "nbformat": 4,
 "nbformat_minor": 2
}
