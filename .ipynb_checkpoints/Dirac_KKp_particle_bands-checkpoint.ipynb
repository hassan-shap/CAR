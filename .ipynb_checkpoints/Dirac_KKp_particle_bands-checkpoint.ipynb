{
 "cells": [
  {
   "cell_type": "code",
   "execution_count": 4,
   "metadata": {},
   "outputs": [],
   "source": [
    "import numpy as np\n",
    "from math import pi, sqrt\n",
    "import matplotlib.pyplot as plt\n",
    "from scipy.linalg import block_diag\n",
    "from ipywidgets import interact"
   ]
  },
  {
   "cell_type": "code",
   "execution_count": 5,
   "metadata": {},
   "outputs": [
    {
     "name": "stdout",
     "output_type": "stream",
     "text": [
      "Done!\n"
     ]
    }
   ],
   "source": [
    "hbar=1.05e-34\n",
    "elec=1.6e-19\n",
    "meV=elec*1e-3\n",
    "m0=9.1e-31 # kg\n",
    "m=m0/10\n",
    "\n",
    "B=10 # Tesla\n",
    "hwc=hbar*(elec*B/m)\n",
    "lB=np.sqrt(hbar/(elec*B))\n",
    "\n",
    "ky1_sw=np.linspace(-16,5,140)/lB\n",
    "\n",
    "\n",
    "# Lx=100e-9\n",
    "Lx_q=12*lB\n",
    "Nx=200\n",
    "kx=2*pi*np.arange(Nx)/(2*Lx_q)-pi*Nx/(2*Lx_q)\n",
    "[k1,k2]=2*pi*np.mgrid[range(Nx),range(Nx)]/(2*Lx_q)-pi*Nx/(2*Lx_q)\n",
    "\n",
    "Hx=np.diag(hbar**2 * kx**2/(2*m))\n",
    "\n",
    "def y2(k):\n",
    "    with np.errstate(divide='ignore', invalid='ignore'):\n",
    "        c= (-2j+np.exp(1j*k*Lx_q)*(2j+ 2*k*Lx_q- 1j* k**2 * Lx_q**2))/ (k**3) /(2*Lx_q)\n",
    "        c[ ~ np.isfinite( c )] = Lx_q**2 /6.0\n",
    "    return c\n",
    "\n",
    "def y1(k):\n",
    "    with np.errstate(divide='ignore', invalid='ignore'):\n",
    "        c = (-1+np.exp(1j*k*Lx_q)*(1- 1j* k * Lx_q))/ (k**2) /(2*Lx_q)\n",
    "        c[ ~ np.isfinite( c )] = Lx_q/4.0\n",
    "    return c\n",
    "\n",
    "def y0(k):\n",
    "    with np.errstate(divide='ignore', invalid='ignore'):\n",
    "        c = -1j*(-1+np.exp(1j*k*Lx_q) )/(k*2*Lx_q)\n",
    "        c[ ~ np.isfinite( c )] = 0.5\n",
    "    return c\n",
    "\n",
    "def y0s(k):\n",
    "    with np.errstate(divide='ignore', invalid='ignore'):\n",
    "        c = 1j*(-1+np.exp(-1j*k*Lx_q) )/(k*2*Lx_q)\n",
    "        c[ ~ np.isfinite( c )] = 0.5\n",
    "    return c\n",
    "\n",
    "\n",
    "HeB2= ((elec*B)**2 *2*np.real(y2(k1-k2)))/ (2*m)\n",
    "HeB0_a= -1j*hwc*np.imag(y0(k1-k2))\n",
    "\n",
    "\n",
    "sigma1=np.array([[0,1],[1,0]])\n",
    "sigma2=np.array([[0,-1j],[1j,0]])\n",
    "sigma3=np.array([[1,0],[0,-1]])\n",
    "\n",
    "En_a=np.zeros((Nx,len(ky1_sw)))\n",
    "En_z=np.zeros((Nx,len(ky1_sw)))\n",
    "\n",
    "for i_y in range(len(ky1_sw)):\n",
    "    ky=ky1_sw[i_y]\n",
    "    Hy=(hbar**2 * ky**2/(2*m))*np.eye(Nx)\n",
    "    HeB1_zigzag=-2j*hbar *ky* ( elec*B*np.imag(y1(k1-k2)))/m\n",
    "    HeB1_armchair= -2*hbar *ky* ( elec*B*np.real(y1(k1-k2)))/m\n",
    "    H_z=Hx+Hy+HeB2+HeB1_zigzag\n",
    "    H_a=Hx+Hy+HeB2+HeB1_armchair+HeB0_a\n",
    "    En_z[:,i_y] = np.linalg.eigvalsh(H_z)\n",
    "    En_a[:,i_y] = np.linalg.eigvalsh(H_a)\n",
    "    \n",
    "print(\"Done!\")"
   ]
  },
  {
   "cell_type": "code",
   "execution_count": 8,
   "metadata": {},
   "outputs": [
    {
     "name": "stdout",
     "output_type": "stream",
     "text": [
      "Done!\n"
     ]
    }
   ],
   "source": [
    "hbar=1.05e-34\n",
    "elec=1.6e-19\n",
    "meV=elec*1e-3\n",
    "\n",
    "vF=1e6\n",
    "B=10 # Tesla\n",
    "hwc_d=vF*sqrt(2*hbar*elec*B)\n",
    "lB_d=np.sqrt(hbar/(elec*B))\n",
    "m_sc=8*hwc_d #1e2*meV\n",
    "mu_sc=0*hwc_d #1e2*meV\n",
    "nu=0.#sqrt(2)+0.1\n",
    "m_n= 0.*hwc_d\n",
    "mu_n=nu*hwc_d #10*meV\n",
    "ky2_sw=np.linspace(-1,4,50)/lB_d\n",
    "\n",
    "\n",
    "Ls_d=0*lB_d\n",
    "Lx_d=12*lB_d\n",
    "Nx=200\n",
    "kx=2*pi*np.arange(Nx)/(2*Lx_d+Ls_d)-pi*Nx/(2*Lx_d+Ls_d)\n",
    "[k1,k2]=2*pi*np.mgrid[range(Nx),range(Nx)]/(2*Lx_d+Ls_d)-pi*Nx/(2*Lx_d+Ls_d)\n",
    "\n",
    "\n",
    "def y2(k):\n",
    "    with np.errstate(divide='ignore', invalid='ignore'):\n",
    "        c= np.exp(1j*k*Ls_d/2)*(-2j+np.exp(1j*k*Lx_d)*(2j+ 2*k*Lx_d- 1j* k**2 * Lx_d**2))/ (k**3) /(2*Lx_d+Ls_d)\n",
    "        c[ ~ np.isfinite( c )] = Lx_d**3 /(3*(2*Lx_d+Ls_d))\n",
    "    return c\n",
    "\n",
    "def y1(k):\n",
    "    with np.errstate(divide='ignore', invalid='ignore'):\n",
    "        c = np.exp(1j*k*Ls_d/2)*(-1+np.exp(1j*k*Lx_d)*(1- 1j* k * Lx_d))/ (k**2) /(2*Lx_d+Ls_d)\n",
    "        c[ ~ np.isfinite( c )] = Lx_d**2 /(2*(2*Lx_d+Ls_d))\n",
    "    return c\n",
    "\n",
    "def y0(k):\n",
    "    with np.errstate(divide='ignore', invalid='ignore'):\n",
    "        c = -1j*np.exp(1j*k*Ls_d/2)*(-1+np.exp(1j*k*Lx_d) )/(k*(2*Lx_d+Ls_d))\n",
    "        c[ ~ np.isfinite( c )] = Lx_d /(2*Lx_d+Ls_d)\n",
    "    return c\n",
    "\n",
    "def y0s(k):\n",
    "    with np.errstate(divide='ignore', invalid='ignore'):\n",
    "        c = 2*np.sin(k*Ls_d/2)/(k*(2*Lx_d+Ls_d))\n",
    "        c[ ~ np.isfinite( c )] = Ls_d /(2*Lx_d+Ls_d)\n",
    "    return c\n",
    "\n",
    "sigma0=np.array([[1,0],[0,1]])\n",
    "sigma1=np.array([[0,1],[1,0]])\n",
    "sigma2=np.array([[0,-1j],[1j,0]])\n",
    "sigma3=np.array([[1,0],[0,-1]])\n",
    "\n",
    "Hx= hbar*vF*np.kron(np.diag(kx) , sigma1)\n",
    "HeB= -2*vF*elec*B* np.kron(np.real(y1(k1-k2)), sigma2)\n",
    "# HeB= -2*vF*elec*B* np.kron(np.real(y1(k1-k2))-1j*np.imag(Ls_d/2*y0(k1-k2)), sigma2)\n",
    "# HeB= -2*vF*elec*B* np.kron(np.real(y1(k2-k1))+np.real(Ls_d/2*y0(k2-k1)), sigma2)\n",
    "\n",
    "\n",
    "Hxm= np.kron( y0s(k1-k2) , m_sc*sigma3 )+ np.kron( 2*np.real(y0(k1-k2)) , m_n*sigma3)\n",
    "Hef= -np.kron( 2*mu_n*np.real(y0(k1-k2)) + mu_sc*y0s(k1-k2), sigma0 )\n",
    "\n",
    "En_d=np.zeros((2*Nx,len(ky2_sw)))\n",
    "for i_y in range(len(ky2_sw)):\n",
    "    ky=ky2_sw[i_y]\n",
    "    Hy= np.kron(hbar*vF*ky*np.eye(Nx), sigma2)\n",
    "\n",
    "    H_t = Hx +Hy + HeB + Hxm + Hef    \n",
    "    En_d[:,i_y] =np.linalg.eigvalsh(H_t)\n",
    "\n",
    "print(\"Done!\")"
   ]
  },
  {
   "cell_type": "code",
   "execution_count": 9,
   "metadata": {},
   "outputs": [
    {
     "name": "stderr",
     "output_type": "stream",
     "text": [
      "/tmp/yes/lib/python3.7/site-packages/ipykernel_launcher.py:9: RuntimeWarning: invalid value encountered in sqrt\n",
      "  if __name__ == '__main__':\n",
      "/tmp/yes/lib/python3.7/site-packages/ipykernel_launcher.py:10: RuntimeWarning: invalid value encountered in sqrt\n",
      "  # Remove the CWD from sys.path while we load stuff.\n"
     ]
    },
    {
     "data": {
      "image/png": "[encoded data removed]",
      "text/plain": [
       "<Figure size 432x288 with 1 Axes>"
      ]
     },
     "metadata": {
      "needs_background": "light"
     },
     "output_type": "display_data"
    }
   ],
   "source": [
    "plt.figure()\n",
    "\n",
    "# plt.plot(ky1_sw*lB+Lx_q/lB,np.sqrt(En_z[:2,:].T/hwc+1/2),'b')\n",
    "# plt.plot(ky1_sw*lB+Lx_q/lB,-np.sqrt(En_z[:2,:].T/hwc+1/2),'b')\n",
    "# # plt.plot(ky1_sw*lB+Lx_q/lB/2,0*ky_sw,'b')\n",
    "# plt.plot(ky1_sw*lB+Lx_q/lB,np.real(np.sqrt(En_z[:3,:].T/hwc-1/2)),'r')\n",
    "# plt.plot(ky1_sw*lB+Lx_q/lB,-np.real(np.sqrt(En_z[:3,:].T/hwc-1/2)),'r')\n",
    "\n",
    "# plt.plot(ky1_sw*lB,np.sqrt(En_a[:5,:].T/hwc),'g')\n",
    "# plt.plot(ky1_sw*lB,-np.sqrt(En_a[:5,:].T/hwc),'g')\n",
    "# # plt.plot(ky1_sw*lB+Lx_q/lB/2,0*ky_sw,'b')\n",
    "\n",
    "# # plt.plot(ky2_sw*lB_d-0*Ls_d/lB_d/2,En_d.T/hwc_d,'o',markersize=2)\n",
    "\n",
    "plt.ylabel(r\"$E/\\hbar\\omega_c$\")\n",
    "# plt.xlabel(\"ky(1/nm)\")\n",
    "plt.xlabel(r\"$p_y l_B$\")\n",
    "plt.ylim(-3,3)\n",
    "plt.xlim(-1,4)\n",
    "plt.grid()\n",
    "# plt.savefig('Abanin.pdf')\n",
    "plt.show()\n",
    "\n",
    "plt.figure()\n",
    "plt.plot(ky1_sw*lB,np.sqrt(En_a[:5,:].T/hwc),'g')\n",
    "plt.plot(ky1_sw*lB,-np.sqrt(En_a[:5,:].T/hwc),'g')\n",
    "# plt.plot(ky1_sw*lB+Lx_q/lB/2,0*ky_sw,'b')\n",
    "# plt.plot(ky2_sw*lB_d-0*Ls_d/lB_d/2,En_d.T/hwc_d,'o',markersize=2)\n",
    "\n",
    "plt.ylabel(r\"$E/\\hbar\\omega_c$\")\n",
    "plt.xlabel(r\"$p_y l_B$\")\n",
    "plt.ylim(-3,3)\n",
    "plt.xlim(-1,4)\n",
    "plt.grid()\n",
    "plt.savefig('Abanin.pdf')\n",
    "plt.show()\n",
    "\n"
   ]
  },
  {
   "cell_type": "code",
   "execution_count": null,
   "metadata": {},
   "outputs": [],
   "source": []
  }
 ],
 "metadata": {
  "kernelspec": {
   "display_name": "Python 3",
   "language": "python",
   "name": "python3"
  },
  "language_info": {
   "codemirror_mode": {
    "name": "ipython",
    "version": 3
   },
   "file_extension": ".py",
   "mimetype": "text/x-python",
   "name": "python",
   "nbconvert_exporter": "python",
   "pygments_lexer": "ipython3",
   "version": "3.7.3"
  }
 },
 "nbformat": 4,
 "nbformat_minor": 2
}
