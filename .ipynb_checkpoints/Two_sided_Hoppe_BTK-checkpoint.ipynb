{
 "cells": [
  {
   "cell_type": "code",
   "execution_count": 2,
   "metadata": {},
   "outputs": [],
   "source": [
    "import numpy as np\n",
    "from math import pi\n",
    "from matplotlib import pyplot\n",
    "from scipy.linalg import block_diag\n",
    "from scipy.optimize import minimize\n",
    "import time\n",
    "from ipywidgets import interact"
   ]
  },
  {
   "cell_type": "code",
   "execution_count": 83,
   "metadata": {
    "scrolled": true
   },
   "outputs": [],
   "source": [
    "hbar=1.05e-34\n",
    "elec=1.6e-19\n",
    "meV=elec*1e-3\n",
    "m0=9.1e-31 # kg\n",
    "m=m0/10\n",
    "\n",
    "B=10 # Tesla\n",
    "hwc=hbar*(elec*B/m)\n",
    "lB=np.sqrt(hbar/(elec*B))\n",
    "mu_sc=20*hwc #1e2*meV\n",
    "D_sc=1.0*hwc #10*meV\n",
    "D_i=2*hwc\n",
    "nu=3\n",
    "mu_n=nu*hwc #10*meV\n",
    "\n",
    "# ky_sw=np.linspace(0.4,0.8,200)*1.5/lB\n",
    "Lx=8*lB\n",
    "# Nx=200\n",
    "\n",
    "def system_E_vs_k(k0,Nx=100,U0=0,Ls=Lx):\n",
    "    ky_sw=k0/lB\n",
    "    kx=2*pi*np.arange(Nx)/(2*Lx+Ls)-pi*Nx/(2*Lx+Ls)\n",
    "    [k1,k2]=2*pi*np.mgrid[range(Nx),range(Nx)]/(2*Lx+Ls)-pi*Nx/(2*Lx+Ls)\n",
    "\n",
    "    Hx=np.diag(hbar**2 * kx**2/(2*m))\n",
    "\n",
    "    def y2(k):\n",
    "        with np.errstate(divide='ignore', invalid='ignore'):\n",
    "            c= np.exp(1j*k*Ls/2)*(-2j+np.exp(1j*k*Lx)*(2j+ 2*k*Lx- 1j* k**2 * Lx**2))/ (k**3) /(2*Lx+Ls)\n",
    "            c[ ~ np.isfinite( c )] = Lx**3 /(3*(2*Lx+Ls))\n",
    "        return c\n",
    "\n",
    "    def y1(k):\n",
    "        with np.errstate(divide='ignore', invalid='ignore'):\n",
    "            c = np.exp(1j*k*Ls/2)*(-1+np.exp(1j*k*Lx)*(1- 1j* k * Lx))/ (k**2) /(2*Lx+Ls)\n",
    "            c[ ~ np.isfinite( c )] = Lx**2 /(2*(2*Lx+Ls))\n",
    "        return c\n",
    "\n",
    "    def y0(k):\n",
    "        with np.errstate(divide='ignore', invalid='ignore'):\n",
    "            c = -1j*np.exp(1j*k*Ls/2)*(-1+np.exp(1j*k*Lx) )/(k*(2*Lx+Ls))\n",
    "            c[ ~ np.isfinite( c )] = Lx /(2*Lx+Ls)\n",
    "        return c\n",
    "\n",
    "    def y0s(k):\n",
    "        with np.errstate(divide='ignore', invalid='ignore'):\n",
    "            c = 2*np.sin(k*Ls/2)/(k*(2*Lx+Ls))\n",
    "            c[ ~ np.isfinite( c )] = Ls /(2*Lx+Ls)\n",
    "        return c\n",
    "    \n",
    "    def y0c(k):\n",
    "        with np.errstate(divide='ignore', invalid='ignore'):\n",
    "            c = 4*np.sin(k*Ls/4)**2/(k*(2*Lx+Ls))\n",
    "            c[ ~ np.isfinite( c )] = 0\n",
    "        return c\n",
    "\n",
    "\n",
    "    HeB2= ((elec*B)**2 * np.real(y2(k1-k2)) )/ m\n",
    "    HeB2T= ((elec*B)**2 * np.real(y2(k2-k1)) )/ m\n",
    "    Hef= -( 2*mu_n*np.real(y0(k1-k2)) + mu_sc*y0s(k1-k2)+U0*np.ones(k1.shape) )\n",
    "    HefT=-( 2*mu_n*np.real(y0(k2-k1)) + mu_sc*y0s(k2-k1)+U0*np.ones(k1.shape) )\n",
    "#     d=1.1 # add imabalance to break LR symmetry\n",
    "#     Hef= -( mu_n*(y0(k1-k2)+d*y0(k2-k1)) + mu_sc*y0s(k1-k2)+U0*np.ones(k1.shape) )\n",
    "# #     HefT=-( mu_n*(y0(k2-k1)+d*y0(k1-k2)) + mu_sc*y0s(k2-k1)+U0*np.ones(k1.shape) )\n",
    "#     HefT=-( mu_n*d*(y0(k2-k1)+y0(k1-k2)) + mu_sc*d*y0s(k2-k1)+U0*np.ones(k1.shape) )\n",
    "    Hd= D_sc*y0s(k1-k2)+ D_i*y0c(k1-k2) \n",
    "    Hd_off=np.kron(np.array([[0.,1.0],[0.,0.]]),Hd)\n",
    "    Hd_mat=Hd_off+np.transpose(Hd_off).conj()\n",
    "    \n",
    "    En=np.zeros(ky_sw.shape)\n",
    "    for i_k in range(len(ky_sw)):\n",
    "        ky=ky_sw[i_k]\n",
    "        Hy=(hbar**2 * ky**2/(2*m))*np.eye(Nx)\n",
    "        HeB1=-2j*hbar *ky* ( elec*B*np.imag(y1(k1-k2)))/m\n",
    "        HeB1T=2j*hbar *ky* ( elec*B*np.imag(y1(k2-k1)))/m\n",
    "        H1=Hx+Hy+HeB2+HeB1+Hef\n",
    "        H1T=Hx+Hy+(HeB2T+HeB1T+HefT).conj()\n",
    "        H_t=block_diag(H1,-H1T)+Hd_mat\n",
    "        Evals, _ =np.linalg.eigh(H_t)\n",
    "        En[i_k]=Evals[Nx]/hwc\n",
    "    return En\n",
    "\n",
    "\n",
    "def system_builder(k0,Nx=100,U0=0,Ls=Lx):\n",
    "    ky=k0/lB\n",
    "    kx=2*pi*np.arange(Nx)/(2*Lx+Ls)-pi*Nx/(2*Lx+Ls)\n",
    "    [k1,k2]=2*pi*np.mgrid[range(Nx),range(Nx)]/(2*Lx+Ls)-pi*Nx/(2*Lx+Ls)\n",
    "\n",
    "    Hx=np.diag(hbar**2 * kx**2/(2*m))\n",
    "\n",
    "    def y2(k):\n",
    "        with np.errstate(divide='ignore', invalid='ignore'):\n",
    "            c= np.exp(1j*k*Ls/2)*(-2j+np.exp(1j*k*Lx)*(2j+ 2*k*Lx- 1j* k**2 * Lx**2))/ (k**3) /(2*Lx+Ls)\n",
    "            c[ ~ np.isfinite( c )] = Lx**3 /(3*(2*Lx+Ls))\n",
    "        return c\n",
    "\n",
    "    def y1(k):\n",
    "        with np.errstate(divide='ignore', invalid='ignore'):\n",
    "            c = np.exp(1j*k*Ls/2)*(-1+np.exp(1j*k*Lx)*(1- 1j* k * Lx))/ (k**2) /(2*Lx+Ls)\n",
    "            c[ ~ np.isfinite( c )] = Lx**2 /(2*(2*Lx+Ls))\n",
    "        return c\n",
    "\n",
    "    def y0(k):\n",
    "        with np.errstate(divide='ignore', invalid='ignore'):\n",
    "            c = -1j*np.exp(1j*k*Ls/2)*(-1+np.exp(1j*k*Lx) )/(k*(2*Lx+Ls))\n",
    "            c[ ~ np.isfinite( c )] = Lx /(2*Lx+Ls)\n",
    "        return c\n",
    "\n",
    "    def y0s(k):\n",
    "        with np.errstate(divide='ignore', invalid='ignore'):\n",
    "            c = 2*np.sin(k*Ls/2)/(k*(2*Lx+Ls))\n",
    "#             d=1.0+1e-3 # add imabalance to break LR symmetry\n",
    "#             c = (d*np.exp(1j*k*Ls/2)-np.exp(-1j*k*Ls/2))/(1j*k*(2*Lx+Ls))\n",
    "            c[ ~ np.isfinite( c )] = Ls /(2*Lx+Ls)\n",
    "        return c\n",
    "\n",
    "    def y0c(k):\n",
    "        with np.errstate(divide='ignore', invalid='ignore'):\n",
    "            c = 4*np.sin(k*Ls/4)**2/(k*(2*Lx+Ls))\n",
    "            c[ ~ np.isfinite( c )] = 0\n",
    "        return c\n",
    "\n",
    "\n",
    "    HeB2= ((elec*B)**2 * np.real(y2(k1-k2)) )/ m\n",
    "    HeB2T= ((elec*B)**2 * np.real(y2(k2-k1)) )/ m\n",
    "    Hef= -( 2*mu_n*np.real(y0(k1-k2)) + mu_sc*y0s(k1-k2)+U0*np.ones(k1.shape) )\n",
    "    HefT=-( 2*mu_n*np.real(y0(k2-k1)) + mu_sc*y0s(k2-k1)+U0*np.ones(k1.shape) )\n",
    "#     d=1.1 # add imabalance to break LR symmetry\n",
    "#     Hef= -( mu_n*(y0(k1-k2)+d*y0(k2-k1)) + mu_sc*y0s(k1-k2)+U0*np.ones(k1.shape) )\n",
    "# #     HefT=-( mu_n*(y0(k2-k1)+d*y0(k1-k2)) + mu_sc*y0s(k2-k1)+U0*np.ones(k1.shape) )\n",
    "#     HefT=-( mu_n*d*(y0(k2-k1)+y0(k1-k2)) + mu_sc*d*y0s(k2-k1)+U0*np.ones(k1.shape) )\n",
    "    Hd= D_sc*y0s(k1-k2)+ D_i*y0c(k1-k2) \n",
    "    Hd_off=np.kron(np.array([[0.,1.0],[0.,0.]]),Hd)\n",
    "    Hd_mat=Hd_off+np.transpose(Hd_off).conj()\n",
    "    \n",
    "    Hy=(hbar**2 * ky**2/(2*m))*np.eye(Nx)\n",
    "    HeB1=-2j*hbar *ky* ( elec*B*np.imag(y1(k1-k2)))/m\n",
    "    HeB1T=2j*hbar *ky* ( elec*B*np.imag(y1(k2-k1)))/m\n",
    "    H1=Hx+Hy+HeB2+HeB1+Hef\n",
    "    H1T=Hx+Hy+(HeB2T+HeB1T+HefT).conj()\n",
    "    H_t=block_diag(H1,-H1T)+Hd_mat\n",
    "    En, Vs =np.linalg.eigh(H_t)\n",
    "\n",
    "    return kx,En[[Nx-1,Nx]],Vs[:,[Nx-1,Nx]]\n",
    "\n",
    "def wf_real_space(ev,k,x,Ls):\n",
    "    Nx=len(k)\n",
    "    kt=np.reshape(k,[1,Nx])\n",
    "    xt=np.reshape(x,[len(x),1])\n",
    "    return np.dot(np.exp(1j*kt*(xt-0*Ls/2)),ev[:Nx,:])/np.sqrt(2*Lx+Ls)*np.sqrt(x[1]-x[0]),\\\n",
    "            np.dot(np.exp(1j*kt*(xt+0*Ls/2)),ev[Nx:2*Nx,:])/np.sqrt(2*Lx+Ls)*np.sqrt(x[1]-x[0])\n",
    "\n",
    "def wf_reference(ev,k,x,Ls1,Ls2):\n",
    "    Nx=len(k)\n",
    "    kt=np.reshape(k,[1,Nx])\n",
    "    xt=np.reshape(x,[len(x),1])\n",
    "    return np.dot(np.exp(1j*kt*(xt-(Ls1-Ls2)/2)),ev[:Nx,:])/np.sqrt(2*Lx+Ls)*np.sqrt(x[1]-x[0]),\\\n",
    "            np.dot(np.exp(1j*kt*(xt+(Ls1-Ls2)/2)),ev[Nx:2*Nx,:])/np.sqrt(2*Lx+Ls)*np.sqrt(x[1]-x[0])"
   ]
  },
  {
   "cell_type": "markdown",
   "metadata": {},
   "source": [
    "Comparison with Andreev Edge state"
   ]
  },
  {
   "cell_type": "code",
   "execution_count": 90,
   "metadata": {},
   "outputs": [
    {
     "name": "stdout",
     "output_type": "stream",
     "text": [
      "Finished, elapsed time = 29 sec\n"
     ]
    }
   ],
   "source": [
    "t_timer=time.time()\n",
    "\n",
    "x0_kmin=-1#-1.50\n",
    "\n",
    "x0=np.linspace(-1,1,1000)*10*lB\n",
    "\n",
    "U1=10*hwc\n",
    "Ls1=20*lB\n",
    "Nx1=100\n",
    "# f1=minimize(system_E_vs_k,x0=x0_kmin,args=(Nx1,U1,Ls1))\n",
    "# kx1,Eb,Vb= system_builder((1.+0.1*np.sign(f1.x[0]))*f1.x[0],Nx=Nx1,U0=U1,Ls=Ls1)\n",
    "# wf1_p,wf1_h=wf_real_space(Vb,kx1,x0,Ls1)\n",
    "# wf1_p=wf1_p[:,0]/np.linalg.norm(wf1_p[:,0])\n",
    "# wf1_h=wf1_h[:,1]/np.linalg.norm(wf1_h[:,1])\n",
    "\n",
    "\n",
    "Ls_sw=np.linspace(2,10,80)*lB\n",
    "# Ls_sw=np.arange(2,11)*lB\n",
    "# Ls_sw=np.array([20])*lB\n",
    "Nx2=100\n",
    "\n",
    "wf1_p_arr=np.zeros((len(x0),len(Ls_sw)), dtype=np.complex64)\n",
    "wf1_h_arr=np.zeros((len(x0),len(Ls_sw)), dtype=np.complex64)\n",
    "wf1_p=np.zeros((len(x0),2,len(Ls_sw)), dtype=np.complex64)\n",
    "wf1_h=np.zeros((len(x0),2,len(Ls_sw)), dtype=np.complex64)\n",
    "wf2_p_arr=np.zeros((len(x0),2,len(Ls_sw)), dtype=np.complex64)\n",
    "wf2_h_arr=np.zeros((len(x0),2,len(Ls_sw)), dtype=np.complex64)\n",
    "Hmat_diag= np.zeros(len(Ls_sw), dtype=np.complex64)\n",
    "Hmat_off= np.zeros(len(Ls_sw), dtype=np.complex64)\n",
    "\n",
    "# kmin=x0_kmin-0.2\n",
    "# kmax=x0_kmin+0.2\n",
    "# ky_sw=np.linspace(kmin,kmax,80)\n",
    "ky_sw=np.linspace(0,1,70)*2.0*np.sign(x0_kmin)\n",
    "Ek2= np.zeros((len(ky_sw),len(Ls_sw)))\n",
    "Eg_mat= np.zeros((2,len(Ls_sw)))\n",
    "Eb_mat= np.zeros((2,len(Ls_sw)))\n",
    "theta= np.zeros(len(Ls_sw))\n",
    "\n",
    "Vp= np.zeros((2,len(Ls_sw)), dtype=np.complex64)\n",
    "Vh= np.zeros((2,len(Ls_sw)), dtype=np.complex64)\n",
    "kpt=np.zeros(len(Ls_sw))\n",
    "for i_L in range(len(Ls_sw)):\n",
    "    print(i_L, end='\\r')\n",
    "    Ls=Ls_sw[i_L]\n",
    "    U2=0*hwc\n",
    "\n",
    "    f2=minimize(system_E_vs_k,x0=x0_kmin,args=(Nx2,U2,Ls))\n",
    "    kx2,Em,Vm= system_builder(f2.x[0],Nx=Nx2,U0=U2,Ls=Ls)\n",
    "    kpt[i_L]=f2.x[0]\n",
    "    wf2_p,wf2_h=wf_real_space(Vm,kx2,x0,Ls)\n",
    "    wf2_p_arr[:,:,i_L]=wf2_p\n",
    "    wf2_h_arr[:,:,i_L]=wf2_h \n",
    "    \n",
    "#     kx1,Eb,Vb= system_builder((1.+0.1*np.sign(f2.x[0]))*f2.x[0],Nx=Nx2,U0=U2,Ls=Ls)\n",
    "# #     f1=minimize(system_E_vs_k,x0=x0_kmin,args=(Nx1,U1,Ls))\n",
    "# #     kx1,Eb,Vb= system_builder((1.+0.1*np.sign(f1.x[0]))*f1.x[0],Nx=Nx1,U0=U1,Ls=Ls)\n",
    "#     kpt[i_L]=f1.x[0]\n",
    "#     wf1_p[:,:,i_L],wf1_h[:,:,i_L]=wf_real_space(Vb,kx1,x0,Ls)\n",
    "# #     Vp[:,i_L]=np.dot(np.transpose(wf2_p[:,:,i_L]).conj(),wf1_p[:,0,i_L])\n",
    "# #     Vh[:,i_L]=np.dot(np.transpose(wf2_h[:,:,i_L]).conj(),wf1_h[:,1,i_L])\n",
    "#     Vp[:,i_L]=np.dot(np.transpose(Vm).conj(),Vb[:,0])\n",
    "# #     Vb_ph=np.concatenate((-Vb[Nx1:2*Nx1,0].conj(),Vb[:Nx1,0].conj()),axis=0)\n",
    "# #     Vh[:,i_L]=np.dot(np.transpose(Vm).conj(),Vb_ph)\n",
    "#     Vh[:,i_L]=np.dot(np.transpose(Vm).conj(),Vb[:,1])\n",
    "    iwf=1\n",
    "    i_p=(np.abs(wf2_p[:,iwf])**2).argmax()\n",
    "    i_h=(np.abs(wf2_h[:,iwf])**2).argmax()\n",
    "    theta[i_L]=np.angle(wf2_p[i_p,iwf]/wf2_h[i_h,iwf])\n",
    "    \n",
    "#     wf1_pv,wf1_hv=wf_reference(Vb,kx1,x0,Ls1,Ls)\n",
    "#     wf1_p_arr[:,i_L]=wf1_pv[:,0]/np.linalg.norm(wf1_pv[:,0])\n",
    "#     wf1_h_arr[:,i_L]=wf1_hv[:,1]/np.linalg.norm(wf1_hv[:,1])\n",
    "\n",
    "#     Vp[:,i_L]=np.dot(np.transpose(wf2_p[:,:,i_L]).conj(),wf1_p_arr[:,i_L])\n",
    "#     Vh[:,i_L]=np.dot(np.transpose(wf2_h[:,:,i_L]).conj(),wf1_h_arr[:,i_L])\n",
    "    \n",
    "#     Vp[:,i_L]=np.dot(np.transpose(wf2_p[:,:,i_L]).conj(),wf1_p)\n",
    "#     Vh[:,i_L]=np.dot(np.transpose(wf2_h[:,:,i_L]).conj(),wf1_h)\n",
    "\n",
    "#     Ek2[:,i_L]=system_E_vs_k(ky_sw,Nx=Nx2,U0=U2,Ls=Ls)\n",
    "#     Eb_mat[:,i_L]=Eb\n",
    "    Eg_mat[:,i_L]=Em\n",
    "\n",
    "\n",
    "    \n",
    "elapsed = time.time() - t_timer\n",
    "print(\"Finished, elapsed time = %.0f \" % (elapsed)+ \"sec\")"
   ]
  },
  {
   "cell_type": "code",
   "execution_count": 70,
   "metadata": {},
   "outputs": [
    {
     "data": {
      "application/vnd.jupyter.widget-view+json": {
       "model_id": "8d26b307fa144d029026e749dacd18d8",
       "version_major": 2,
       "version_minor": 0
      },
      "text/plain": [
       "interactive(children=(IntSlider(value=39, description='i_L', max=79), Output()), _dom_classes=('widget-interac…"
      ]
     },
     "metadata": {},
     "output_type": "display_data"
    }
   ],
   "source": [
    "def plot_bands(i_L):\n",
    "    pyplot.figure()\n",
    "    pyplot.plot(ky_sw,Ek2[:,i_L],'b')\n",
    "    pyplot.plot(kpt[i_L],Eg_mat[1,i_L]/hwc,'ro')\n",
    "    pyplot.title('L=%.2f' % (Ls_sw[i_L]/lB) )\n",
    "    pyplot.ylabel(\"Energy(meV)\")\n",
    "    pyplot.xlabel(\"X(l)\")\n",
    "    pyplot.show()\n",
    "\n",
    "interact(plot_bands, i_L=(0,len(Ls_sw)-1,1));"
   ]
  },
  {
   "cell_type": "code",
   "execution_count": 91,
   "metadata": {},
   "outputs": [
    {
     "data": {
      "image/png": "[encoded data removed]",
      "text/plain": [
       "<Figure size 432x288 with 1 Axes>"
      ]
     },
     "metadata": {
      "needs_background": "light"
     },
     "output_type": "display_data"
    },
    {
     "name": "stderr",
     "output_type": "stream",
     "text": [
      "/tmp/yes/lib/python3.7/site-packages/ipykernel_launcher.py:9: RuntimeWarning: invalid value encountered in true_divide\n",
      "  if __name__ == '__main__':\n"
     ]
    },
    {
     "data": {
      "image/png": "[encoded data removed]",
      "text/plain": [
       "<Figure size 432x288 with 1 Axes>"
      ]
     },
     "metadata": {
      "needs_background": "light"
     },
     "output_type": "display_data"
    }
   ],
   "source": [
    "pyplot.figure()\n",
    "pyplot.plot(Ls_sw/lB,Eg_mat.T/hwc)\n",
    "# pyplot.plot(Ls_sw/lB,Eb_mat.T/hwc)\n",
    "pyplot.grid()\n",
    "pyplot.xlabel(r\"$L_{sc}/l_B$\")\n",
    "pyplot.ylabel(r\"$E_g$\")\n",
    "pyplot.show()\n",
    "\n",
    "ratio=np.tan(abs(np.angle(Vp/Vh).T))**2\n",
    "pyplot.figure()\n",
    "# pyplot.plot(Ls_sw/lB,np.mod(np.angle(Vp/Vh).T/pi,1))\n",
    "pyplot.plot(Ls_sw/lB,np.abs(np.tan(theta)))\n",
    "# pyplot.plot(Ls_sw/lB,np.abs(Vp).T)\n",
    "# pyplot.plot(Ls_sw/lB,np.abs(Vh).T)\n",
    "# pyplot.plot(Ls_sw/lB,np.angle(Vp/Vh).T/pi)\n",
    "# pyplot.plot(Ls_sw/lB,ratio/(1+ratio))\n",
    "# pyplot.plot(Ls_sw/lB,Vh)\n",
    "pyplot.ylim([0.,0.1])\n",
    "pyplot.grid()\n",
    "pyplot.ylabel(\"p/h components\")\n",
    "pyplot.xlabel(r\"$k0*l_B$\")\n",
    "pyplot.show()\n",
    "# print(np.abs(theta/pi))"
   ]
  },
  {
   "cell_type": "code",
   "execution_count": 92,
   "metadata": {},
   "outputs": [
    {
     "data": {
      "application/vnd.jupyter.widget-view+json": {
       "model_id": "532a0d1912524945b8f475ad7b7add42",
       "version_major": 2,
       "version_minor": 0
      },
      "text/plain": [
       "interactive(children=(IntSlider(value=39, description='i_L', max=79), Output()), _dom_classes=('widget-interac…"
      ]
     },
     "metadata": {},
     "output_type": "display_data"
    }
   ],
   "source": [
    "# f1=minimize(system_E_vs_k,x0=0.8,args=(Nx1,U1,Ls1))\n",
    "# kx1,Eb,Vb= system_builder(1.1*f1.x[0],Nx=Nx1,U0=U1,Ls=Ls1)\n",
    "# wf1_p,wf1_h=wf_real_space(Vb,kx1,x0,Ls1)\n",
    "\n",
    "def plot_wf(i_L):\n",
    "    iwf=0\n",
    "    pyplot.figure()\n",
    "#     pyplot.plot(x0/lB,np.abs(wf1_h)**2/2)\n",
    "#     pyplot.plot(x0/lB,np.abs(wf1_h_arr[:,i_L])**2/2)\n",
    "    pyplot.plot(x0/lB,np.abs(wf2_p_arr[:,iwf,i_L])**2/2)\n",
    "    pyplot.plot(x0/lB,np.abs(wf2_h_arr[:,iwf,i_L])**2/2)\n",
    "#     pyplot.plot(x0/lB,np.real(wf2_p_arr[:,iwf,i_L]))\n",
    "#     pyplot.plot(x0/lB,np.imag(wf2_p_arr[:,iwf,i_L]))\n",
    "#     pyplot.plot(x0/lB,np.real(wf2_h_arr[:,iwf,i_L]))\n",
    "#     pyplot.plot(x0/lB,np.imag(wf2_h_arr[:,iwf,i_L]))\n",
    "#     pyplot.plot(x0/lB,np.abs(wf2_h_arr[:,iwf,i_L])**2)\n",
    "#     pyplot.plot(x0/lB,np.abs(wf2_p[:,iwf,i_L])**2)\n",
    "#     pyplot.plot(x0/lB,np.abs(wf1_h)**2/2)\n",
    "#     pyplot.plot(x0/lB,np.abs(wf2_h[:,iwf,i_L])**2)\n",
    "#     pyplot.plot(x0/lB,np.real(wf1_p))\n",
    "#     pyplot.plot(x0/lB,np.real(wf2_p[:,iwf,i_L]))\n",
    "# #     pyplot.plot(x0/lB,np.abs(wf1_h)**2/2)\n",
    "    pyplot.title('L=%.2f' % (Ls_sw[i_L]/lB) )\n",
    "#     pyplot.ylim([0,0.01])\n",
    "    pyplot.show()\n",
    "    \n",
    "interact(plot_wf, i_L=(0,len(Ls_sw)-1,1));"
   ]
  },
  {
   "cell_type": "code",
   "execution_count": 6,
   "metadata": {
    "scrolled": true
   },
   "outputs": [],
   "source": [
    "Nx1=100\n",
    "U1=100*hwc\n",
    "Ls1=20*lB\n",
    "# x0_kmin=[0.3,0.9,1.50,2.2]\n",
    "x0=np.linspace(-1,1,1000)*20*lB\n",
    "\n",
    "\n",
    "def plot_wf(i_L,x0_kmin):\n",
    "    f1=minimize(system_E_vs_k,x0=x0_kmin,args=(Nx1,U1,Ls1))\n",
    "    print(f1.x[0])\n",
    "    kx1,Eb,Vb= system_builder((1.+0.1*np.sign(f1.x[0]))*f1.x[0],Nx=Nx1,U0=U1,Ls=Ls1)\n",
    "    wf1_p,wf1_h=wf_real_space(Vb,kx1,x0,Ls1)\n",
    "    print(np.linalg.norm(wf1_p))\n",
    "    \n",
    "    iwf=0\n",
    "    pyplot.figure()\n",
    "    pyplot.plot(x0/lB,np.abs(wf1_p[:,iwf])**2/2)\n",
    "    pyplot.plot(x0/lB,np.abs(wf1_h[:,iwf])**2/2)\n",
    "#     pyplot.plot(x0/lB,np.abs(wf1_h)**2/2)\n",
    "#     pyplot.plot(x0/lB,np.abs(wf2_p[:,iwf,i_L])**2)\n",
    "# #     pyplot.plot(x0/lB,np.abs(wf1_h)**2/2)\n",
    "#     pyplot.plot(x0/lB,np.abs(wf2_h[:,iwf,i_L])**2)\n",
    "#     pyplot.plot(x0/lB,np.real(wf1_p))\n",
    "#     pyplot.plot(x0/lB,np.imag(wf1_p))\n",
    "# #     pyplot.plot(x0/lB,np.real(wf2_p[:,iwf,i_L]))\n",
    "# #     pyplot.plot(x0/lB,np.abs(wf1_h)**2/2)\n",
    "#     pyplot.plot(x0/lB,np.imag(wf2_p[:,iwf,i_L]))\n",
    "#     pyplot.title('L=%.2f' % (Ls_sw[i_L]/lB) )\n",
    "#     pyplot.ylim([0,0.004])\n",
    "    pyplot.show()\n",
    "    \n",
    "# interact(plot_wf, i_L=(0,len(Ls_sw)-1,1), x0_kmin=[0.3,0.9,1.50,2.2]);\n",
    "# interact(plot_wf, i_L=(0,len(Ls_sw)-1,1), x0_kmin=[0.5,1.2]);"
   ]
  },
  {
   "cell_type": "code",
   "execution_count": 111,
   "metadata": {},
   "outputs": [
    {
     "name": "stdout",
     "output_type": "stream",
     "text": [
      "0.5214686612135789\n",
      "0.9999978512882425\n"
     ]
    },
    {
     "data": {
      "image/png": "[encoded data removed]",
      "text/plain": [
       "<Figure size 432x288 with 1 Axes>"
      ]
     },
     "metadata": {
      "needs_background": "light"
     },
     "output_type": "display_data"
    }
   ],
   "source": [
    "plot_wf(i_L=0,x0_kmin=0.5)"
   ]
  },
  {
   "cell_type": "code",
   "execution_count": null,
   "metadata": {},
   "outputs": [],
   "source": []
  }
 ],
 "metadata": {
  "kernelspec": {
   "display_name": "Python 3",
   "language": "python",
   "name": "python3"
  },
  "language_info": {
   "codemirror_mode": {
    "name": "ipython",
    "version": 3
   },
   "file_extension": ".py",
   "mimetype": "text/x-python",
   "name": "python",
   "nbconvert_exporter": "python",
   "pygments_lexer": "ipython3",
   "version": "3.7.3"
  }
 },
 "nbformat": 4,
 "nbformat_minor": 2
}
